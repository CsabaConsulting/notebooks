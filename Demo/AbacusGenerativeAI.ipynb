{
 "cells": [
  {
   "cell_type": "code",
   "execution_count": null,
   "id": "af47530c-4a70-49c9-b7a4-79c3d36c63ef",
   "metadata": {},
   "outputs": [],
   "source": [
    "# Import and instatiate abacusai api client. Send an extra argument of server=\"https://workshop.abacus.ai\""
   ]
  },
  {
   "cell_type": "code",
   "execution_count": null,
   "id": "ca8aa7fd-0a18-4acf-b070-5f36d6190dd9",
   "metadata": {
    "tags": []
   },
   "outputs": [],
   "source": [
    "# Create a regression project called \"Prompt Example\""
   ]
  },
  {
   "cell_type": "code",
   "execution_count": null,
   "id": "8e17a939-2c13-426b-a828-37f3263cc175",
   "metadata": {
    "tags": []
   },
   "outputs": [],
   "source": [
    "# Create a dataset from s3://abacusai-exampledatasets/ai_assisted_ds/mcs_ds_edited_iter_shuffled.csv with name \"sensor_ale_data_2\"\n",
    "# Make it update at 9pm every wednesday\n",
    "# Split long lines in code to make things readable"
   ]
  },
  {
   "cell_type": "code",
   "execution_count": null,
   "id": "43b97141-544c-456d-b0b8-74ae477ab7c4",
   "metadata": {
    "tags": []
   },
   "outputs": [],
   "source": [
    "# Get the datasets feature group"
   ]
  },
  {
   "cell_type": "code",
   "execution_count": null,
   "id": "33570897-6295-4793-9891-cf6f689f39a9",
   "metadata": {
    "tags": []
   },
   "outputs": [],
   "source": [
    "# Add the feature group to the project"
   ]
  },
  {
   "cell_type": "code",
   "execution_count": null,
   "id": "088b578b-9705-4329-b2c8-c7d6baf10ba8",
   "metadata": {
    "tags": []
   },
   "outputs": [],
   "source": [
    "# Show schema of feature group"
   ]
  },
  {
   "cell_type": "code",
   "execution_count": null,
   "id": "ba0543f1-51e1-4d37-996b-ad1fb50d4180",
   "metadata": {
    "tags": []
   },
   "outputs": [],
   "source": [
    "# Set ale feature mapping to be 'TARGET'\n",
    "# Split long lines for readability"
   ]
  },
  {
   "cell_type": "code",
   "execution_count": null,
   "id": "e8086743-cc03-4a00-9063-5452e2910aa5",
   "metadata": {},
   "outputs": [],
   "source": [
    "# train a model using feature_group as the input. use abacus so no need to import anything or print metrics"
   ]
  },
  {
   "cell_type": "code",
   "execution_count": null,
   "id": "e1c1b7f3-25f1-4a2b-b48e-764c779bf980",
   "metadata": {
    "tags": []
   },
   "outputs": [],
   "source": [
    "# create a deployment from the model\n",
    "# get its status"
   ]
  },
  {
   "cell_type": "code",
   "execution_count": null,
   "id": "1a39024b-2a6f-40e1-896f-456a31497814",
   "metadata": {},
   "outputs": [],
   "source": []
  }
 ],
 "metadata": {
  "kernelspec": {
   "display_name": "Python 3 (ipykernel)",
   "language": "python",
   "name": "python3"
  },
  "language_info": {
   "codemirror_mode": {
    "name": "ipython",
    "version": 3
   },
   "file_extension": ".py",
   "mimetype": "text/x-python",
   "name": "python",
   "nbconvert_exporter": "python",
   "pygments_lexer": "ipython3",
   "version": "3.8.10"
  }
 },
 "nbformat": 4,
 "nbformat_minor": 5
}
