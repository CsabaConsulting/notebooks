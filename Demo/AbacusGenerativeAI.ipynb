{
 "cells": [
  {
   "cell_type": "code",
   "execution_count": null,
   "id": "af47530c-4a70-49c9-b7a4-79c3d36c63ef",
   "metadata": {},
   "outputs": [],
   "source": [
    "# Import and instatiate abacusai api client. Send an extra argument of server=\"https://workshop.abacus.ai\""
   ]
  },
  {
   "cell_type": "code",
   "execution_count": 1,
   "id": "9d09deb8-6907-4c97-a2fb-7cf5b2f277f5",
   "metadata": {
    "execution": {
     "iopub.execute_input": "2023-03-07T18:26:34.632999Z",
     "iopub.status.busy": "2023-03-07T18:26:34.632575Z",
     "iopub.status.idle": "2023-03-07T18:26:34.969344Z",
     "shell.execute_reply": "2023-03-07T18:26:34.968860Z",
     "shell.execute_reply.started": "2023-03-07T18:26:34.632975Z"
    },
    "tags": []
   },
   "outputs": [],
   "source": [
    "# Import abacusai API client\n",
    "from abacusai import ApiClient\n",
    "# Instantiate abacusai API client with server argument\n",
    "client = ApiClient(server=\"https://workshop.abacus.ai\")"
   ]
  },
  {
   "cell_type": "code",
   "execution_count": null,
   "id": "ca8aa7fd-0a18-4acf-b070-5f36d6190dd9",
   "metadata": {
    "tags": []
   },
   "outputs": [],
   "source": [
    "# Create a regression project called \"Prompt Example\""
   ]
  },
  {
   "cell_type": "code",
   "execution_count": 2,
   "id": "5442e7c4-3654-4677-af75-8c1302b05ef6",
   "metadata": {
    "execution": {
     "iopub.execute_input": "2023-03-07T18:26:53.382149Z",
     "iopub.status.busy": "2023-03-07T18:26:53.381662Z",
     "iopub.status.idle": "2023-03-07T18:26:53.468578Z",
     "shell.execute_reply": "2023-03-07T18:26:53.468152Z",
     "shell.execute_reply.started": "2023-03-07T18:26:53.382128Z"
    },
    "tags": []
   },
   "outputs": [],
   "source": [
    "# Create a regression project called \"Prompt Example\"\n",
    "project = client.create_project(name=\"Prompt Example\", use_case=\"PREDICTING\")"
   ]
  },
  {
   "cell_type": "code",
   "execution_count": null,
   "id": "8e17a939-2c13-426b-a828-37f3263cc175",
   "metadata": {
    "tags": []
   },
   "outputs": [],
   "source": [
    "# Create a dataset from s3://abacusai-exampledatasets/ai_assisted_ds/mcs_ds_edited_iter_shuffled.csv with name \"sensor_ale_data_2\"\n",
    "# Make it update at 9pm every wednesday\n",
    "# Split long lines in code to make things readable"
   ]
  },
  {
   "cell_type": "code",
   "execution_count": 3,
   "id": "cfecdb9c-770e-48a4-a5e9-a146dc9f66b3",
   "metadata": {
    "execution": {
     "iopub.execute_input": "2023-03-07T18:28:41.707179Z",
     "iopub.status.busy": "2023-03-07T18:28:41.706636Z",
     "iopub.status.idle": "2023-03-07T18:28:42.168633Z",
     "shell.execute_reply": "2023-03-07T18:28:42.168196Z",
     "shell.execute_reply.started": "2023-03-07T18:28:41.707160Z"
    },
    "tags": []
   },
   "outputs": [],
   "source": [
    "# Import necessary classes\n",
    "from io import BytesIO\n",
    "from pandas import DataFrame\n",
    "# Create dataset from file connector\n",
    "dataset = client.create_dataset_from_file_connector(\n",
    "    table_name=\"sensor_ale_data_2\",\n",
    "    location=\"s3://abacusai-exampledatasets/ai_assisted_ds/mcs_ds_edited_iter_shuffled.csv\",\n",
    "    file_format=\"csv\",\n",
    "    refresh_schedule=\"0 21 * * 3\"\n",
    ")"
   ]
  },
  {
   "cell_type": "code",
   "execution_count": null,
   "id": "43b97141-544c-456d-b0b8-74ae477ab7c4",
   "metadata": {
    "tags": []
   },
   "outputs": [],
   "source": [
    "# Get the datasets feature group"
   ]
  },
  {
   "cell_type": "code",
   "execution_count": 4,
   "id": "7b60989a-2376-43ea-8568-811bea304a35",
   "metadata": {
    "execution": {
     "iopub.execute_input": "2023-03-07T18:28:53.907358Z",
     "iopub.status.busy": "2023-03-07T18:28:53.906819Z",
     "iopub.status.idle": "2023-03-07T18:28:53.986068Z",
     "shell.execute_reply": "2023-03-07T18:28:53.985652Z",
     "shell.execute_reply.started": "2023-03-07T18:28:53.907339Z"
    },
    "tags": []
   },
   "outputs": [],
   "source": [
    "# Get the datasets feature group\n",
    "feature_group = dataset.describe_feature_group()"
   ]
  },
  {
   "cell_type": "code",
   "execution_count": null,
   "id": "33570897-6295-4793-9891-cf6f689f39a9",
   "metadata": {
    "tags": []
   },
   "outputs": [],
   "source": [
    "# Add the feature group to the project"
   ]
  },
  {
   "cell_type": "code",
   "execution_count": 5,
   "id": "60a2fb6b-0f71-4878-8ed6-26412006ede0",
   "metadata": {
    "execution": {
     "iopub.execute_input": "2023-03-07T18:29:01.154096Z",
     "iopub.status.busy": "2023-03-07T18:29:01.153673Z",
     "iopub.status.idle": "2023-03-07T18:29:01.243651Z",
     "shell.execute_reply": "2023-03-07T18:29:01.243226Z",
     "shell.execute_reply.started": "2023-03-07T18:29:01.154077Z"
    },
    "tags": []
   },
   "outputs": [],
   "source": [
    "# Add the feature group to the project\n",
    "client.add_feature_group_to_project(feature_group_id=feature_group.feature_group_id, project_id=project.project_id)"
   ]
  },
  {
   "cell_type": "code",
   "execution_count": null,
   "id": "088b578b-9705-4329-b2c8-c7d6baf10ba8",
   "metadata": {
    "tags": []
   },
   "outputs": [],
   "source": [
    "# Show schema of feature group"
   ]
  },
  {
   "cell_type": "code",
   "execution_count": 6,
   "id": "ab8ac724-0346-42c2-860d-f78ef18d9d7d",
   "metadata": {
    "execution": {
     "iopub.execute_input": "2023-03-07T18:29:25.358675Z",
     "iopub.status.busy": "2023-03-07T18:29:25.358114Z",
     "iopub.status.idle": "2023-03-07T18:29:25.447316Z",
     "shell.execute_reply": "2023-03-07T18:29:25.446880Z",
     "shell.execute_reply.started": "2023-03-07T18:29:25.358656Z"
    },
    "tags": []
   },
   "outputs": [
    {
     "name": "stdout",
     "output_type": "stream",
     "text": [
      "[Feature(name='anchor_ratio',\n",
      "  select_clause=None,\n",
      "  feature_mapping=None,\n",
      "  source_table='datasets_sensor_ale_data_2',\n",
      "  original_name=None,\n",
      "  using_clause=None,\n",
      "  order_clause=None,\n",
      "  where_clause=None,\n",
      "  feature_type='CATEGORICAL',\n",
      "  data_type='STRING',\n",
      "  detected_feature_type='CATEGORICAL',\n",
      "  detected_data_type=None,\n",
      "  columns=None,\n",
      "  point_in_time_info=None), Feature(name='trans_range',\n",
      "  select_clause=None,\n",
      "  feature_mapping=None,\n",
      "  source_table='datasets_sensor_ale_data_2',\n",
      "  original_name=None,\n",
      "  using_clause=None,\n",
      "  order_clause=None,\n",
      "  where_clause=None,\n",
      "  feature_type='CATEGORICAL',\n",
      "  data_type='STRING',\n",
      "  detected_feature_type='CATEGORICAL',\n",
      "  detected_data_type=None,\n",
      "  columns=None,\n",
      "  point_in_time_info=None), Feature(name='node_density',\n",
      "  select_clause=None,\n",
      "  feature_mapping=None,\n",
      "  source_table='datasets_sensor_ale_data_2',\n",
      "  original_name=None,\n",
      "  using_clause=None,\n",
      "  order_clause=None,\n",
      "  where_clause=None,\n",
      "  feature_type='CATEGORICAL',\n",
      "  data_type='STRING',\n",
      "  detected_feature_type='CATEGORICAL',\n",
      "  detected_data_type=None,\n",
      "  columns=None,\n",
      "  point_in_time_info=None), Feature(name='iterations',\n",
      "  select_clause=None,\n",
      "  feature_mapping=None,\n",
      "  source_table='datasets_sensor_ale_data_2',\n",
      "  original_name=None,\n",
      "  using_clause=None,\n",
      "  order_clause=None,\n",
      "  where_clause=None,\n",
      "  feature_type='NUMERICAL',\n",
      "  data_type='INTEGER',\n",
      "  detected_feature_type='NUMERICAL',\n",
      "  detected_data_type=None,\n",
      "  columns=None,\n",
      "  point_in_time_info=None), Feature(name='ale',\n",
      "  select_clause=None,\n",
      "  feature_mapping=None,\n",
      "  source_table='datasets_sensor_ale_data_2',\n",
      "  original_name=None,\n",
      "  using_clause=None,\n",
      "  order_clause=None,\n",
      "  where_clause=None,\n",
      "  feature_type='NUMERICAL',\n",
      "  data_type='FLOAT',\n",
      "  detected_feature_type='NUMERICAL',\n",
      "  detected_data_type=None,\n",
      "  columns=None,\n",
      "  point_in_time_info=None), Feature(name='sd_ale',\n",
      "  select_clause=None,\n",
      "  feature_mapping=None,\n",
      "  source_table='datasets_sensor_ale_data_2',\n",
      "  original_name=None,\n",
      "  using_clause=None,\n",
      "  order_clause=None,\n",
      "  where_clause=None,\n",
      "  feature_type='NUMERICAL',\n",
      "  data_type='FLOAT',\n",
      "  detected_feature_type='NUMERICAL',\n",
      "  detected_data_type=None,\n",
      "  columns=None,\n",
      "  point_in_time_info=None)]\n"
     ]
    }
   ],
   "source": [
    "# Show schema of feature group\n",
    "schema = client.get_feature_group_schema(feature_group_id=feature_group.feature_group_id)\n",
    "print(schema)"
   ]
  },
  {
   "cell_type": "code",
   "execution_count": null,
   "id": "ba0543f1-51e1-4d37-996b-ad1fb50d4180",
   "metadata": {
    "tags": []
   },
   "outputs": [],
   "source": [
    "# Set ale feature mapping to be 'TARGET'\n",
    "# Split long lines for readability"
   ]
  },
  {
   "cell_type": "code",
   "execution_count": 7,
   "id": "bfe1328a-1168-48f8-8f1e-706ebc4ed290",
   "metadata": {
    "execution": {
     "iopub.execute_input": "2023-03-07T18:29:37.266500Z",
     "iopub.status.busy": "2023-03-07T18:29:37.266067Z",
     "iopub.status.idle": "2023-03-07T18:29:37.375670Z",
     "shell.execute_reply": "2023-03-07T18:29:37.375238Z",
     "shell.execute_reply.started": "2023-03-07T18:29:37.266481Z"
    },
    "tags": []
   },
   "outputs": [
    {
     "name": "stdout",
     "output_type": "stream",
     "text": [
      "[Feature(name='anchor_ratio',\n",
      "  select_clause=None,\n",
      "  feature_mapping=None,\n",
      "  source_table='datasets_sensor_ale_data_2',\n",
      "  original_name=None,\n",
      "  using_clause=None,\n",
      "  order_clause=None,\n",
      "  where_clause=None,\n",
      "  feature_type='CATEGORICAL',\n",
      "  data_type='STRING',\n",
      "  detected_feature_type='CATEGORICAL',\n",
      "  detected_data_type=None,\n",
      "  columns=None,\n",
      "  point_in_time_info=None), Feature(name='trans_range',\n",
      "  select_clause=None,\n",
      "  feature_mapping=None,\n",
      "  source_table='datasets_sensor_ale_data_2',\n",
      "  original_name=None,\n",
      "  using_clause=None,\n",
      "  order_clause=None,\n",
      "  where_clause=None,\n",
      "  feature_type='CATEGORICAL',\n",
      "  data_type='STRING',\n",
      "  detected_feature_type='CATEGORICAL',\n",
      "  detected_data_type=None,\n",
      "  columns=None,\n",
      "  point_in_time_info=None), Feature(name='node_density',\n",
      "  select_clause=None,\n",
      "  feature_mapping=None,\n",
      "  source_table='datasets_sensor_ale_data_2',\n",
      "  original_name=None,\n",
      "  using_clause=None,\n",
      "  order_clause=None,\n",
      "  where_clause=None,\n",
      "  feature_type='CATEGORICAL',\n",
      "  data_type='STRING',\n",
      "  detected_feature_type='CATEGORICAL',\n",
      "  detected_data_type=None,\n",
      "  columns=None,\n",
      "  point_in_time_info=None), Feature(name='iterations',\n",
      "  select_clause=None,\n",
      "  feature_mapping=None,\n",
      "  source_table='datasets_sensor_ale_data_2',\n",
      "  original_name=None,\n",
      "  using_clause=None,\n",
      "  order_clause=None,\n",
      "  where_clause=None,\n",
      "  feature_type='NUMERICAL',\n",
      "  data_type='INTEGER',\n",
      "  detected_feature_type='NUMERICAL',\n",
      "  detected_data_type=None,\n",
      "  columns=None,\n",
      "  point_in_time_info=None), Feature(name='ale',\n",
      "  select_clause=None,\n",
      "  feature_mapping='TARGET',\n",
      "  source_table='datasets_sensor_ale_data_2',\n",
      "  original_name=None,\n",
      "  using_clause=None,\n",
      "  order_clause=None,\n",
      "  where_clause=None,\n",
      "  feature_type='NUMERICAL',\n",
      "  data_type='FLOAT',\n",
      "  detected_feature_type='NUMERICAL',\n",
      "  detected_data_type=None,\n",
      "  columns=None,\n",
      "  point_in_time_info=None), Feature(name='sd_ale',\n",
      "  select_clause=None,\n",
      "  feature_mapping=None,\n",
      "  source_table='datasets_sensor_ale_data_2',\n",
      "  original_name=None,\n",
      "  using_clause=None,\n",
      "  order_clause=None,\n",
      "  where_clause=None,\n",
      "  feature_type='NUMERICAL',\n",
      "  data_type='FLOAT',\n",
      "  detected_feature_type='NUMERICAL',\n",
      "  detected_data_type=None,\n",
      "  columns=None,\n",
      "  point_in_time_info=None)]\n"
     ]
    }
   ],
   "source": [
    "# Set ale feature mapping to be 'TARGET'\n",
    "feature_name = 'ale'\n",
    "feature_mapping = 'TARGET'\n",
    "schema = client.set_feature_mapping(project_id=project.project_id, feature_group_id=feature_group.feature_group_id, feature_name=feature_name, feature_mapping=feature_mapping)\n",
    "print(schema)"
   ]
  },
  {
   "cell_type": "code",
   "execution_count": null,
   "id": "e8086743-cc03-4a00-9063-5452e2910aa5",
   "metadata": {},
   "outputs": [],
   "source": [
    "# train a model using feature_group as the input. use abacus so no need to import anything or print metrics"
   ]
  },
  {
   "cell_type": "code",
   "execution_count": 8,
   "id": "fc7b036c-a392-42b8-94ff-86f7dbbcdd97",
   "metadata": {
    "execution": {
     "iopub.execute_input": "2023-03-07T18:30:35.671572Z",
     "iopub.status.busy": "2023-03-07T18:30:35.671274Z",
     "iopub.status.idle": "2023-03-07T18:30:36.887288Z",
     "shell.execute_reply": "2023-03-07T18:30:36.886832Z",
     "shell.execute_reply.started": "2023-03-07T18:30:35.671553Z"
    },
    "tags": []
   },
   "outputs": [],
   "source": [
    "# Train a model using the feature group as input\n",
    "model = client.train_model(project_id=project.project_id, feature_group_ids=[feature_group.feature_group_id])"
   ]
  },
  {
   "cell_type": "code",
   "execution_count": null,
   "id": "e1c1b7f3-25f1-4a2b-b48e-764c779bf980",
   "metadata": {
    "tags": []
   },
   "outputs": [],
   "source": [
    "# create a deployment from the model\n",
    "# get its status"
   ]
  },
  {
   "cell_type": "code",
   "execution_count": 12,
   "id": "d072d453-cd68-46ac-b4e6-f11b7c5de112",
   "metadata": {
    "execution": {
     "iopub.execute_input": "2023-03-07T18:40:49.589432Z",
     "iopub.status.busy": "2023-03-07T18:40:49.588846Z",
     "iopub.status.idle": "2023-03-07T18:40:50.019691Z",
     "shell.execute_reply": "2023-03-07T18:40:50.019241Z",
     "shell.execute_reply.started": "2023-03-07T18:40:49.589411Z"
    },
    "tags": []
   },
   "outputs": [
    {
     "name": "stdout",
     "output_type": "stream",
     "text": [
      "PENDING\n"
     ]
    }
   ],
   "source": [
    "# Create a deployment from the model\n",
    "deployment = client.create_deployment(model_id=model.model_id, model_version=model.latest_model_version.model_version)\n",
    "# Get the deployment status\n",
    "status = deployment.get_status()\n",
    "print(status)"
   ]
  },
  {
   "cell_type": "code",
   "execution_count": null,
   "id": "1a39024b-2a6f-40e1-896f-456a31497814",
   "metadata": {},
   "outputs": [],
   "source": []
  }
 ],
 "metadata": {
  "kernelspec": {
   "display_name": "Python 3 (ipykernel)",
   "language": "python",
   "name": "python3"
  },
  "language_info": {
   "codemirror_mode": {
    "name": "ipython",
    "version": 3
   },
   "file_extension": ".py",
   "mimetype": "text/x-python",
   "name": "python",
   "nbconvert_exporter": "python",
   "pygments_lexer": "ipython3",
   "version": "3.8.10"
  }
 },
 "nbformat": 4,
 "nbformat_minor": 5
}
