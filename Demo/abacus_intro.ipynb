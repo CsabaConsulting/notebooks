{
 "cells": [
  {
   "cell_type": "markdown",
   "id": "4a42b801-e7df-4f6b-90af-95518235975c",
   "metadata": {},
   "source": [
    "# Install or upgreade an required package into notebook environment"
   ]
  },
  {
   "cell_type": "code",
   "execution_count": 1,
   "id": "19afb9a8-ee1d-417f-bc85-153f18a57003",
   "metadata": {
    "execution": {
     "iopub.execute_input": "2023-03-07T18:01:37.456092Z",
     "iopub.status.busy": "2023-03-07T18:01:37.455723Z",
     "iopub.status.idle": "2023-03-07T18:01:39.454933Z",
     "shell.execute_reply": "2023-03-07T18:01:39.454377Z",
     "shell.execute_reply.started": "2023-03-07T18:01:37.456071Z"
    },
    "tags": []
   },
   "outputs": [
    {
     "name": "stdout",
     "output_type": "stream",
     "text": [
      "Requirement already satisfied: abacusai in /usr/local/lib/python3.8/dist-packages (0.51.0)\n",
      "Requirement already satisfied: fastavro in /usr/local/lib/python3.8/dist-packages (from abacusai) (0.23.3)\n",
      "Requirement already satisfied: pandas in /usr/local/lib/python3.8/dist-packages (from abacusai) (1.4.3)\n",
      "Requirement already satisfied: packaging in /usr/local/lib/python3.8/dist-packages (from abacusai) (23.0)\n",
      "Requirement already satisfied: requests in /usr/local/lib/python3.8/dist-packages (from abacusai) (2.28.2)\n",
      "Requirement already satisfied: pytz in /usr/local/lib/python3.8/dist-packages (from fastavro->abacusai) (2022.7.1)\n",
      "Requirement already satisfied: numpy>=1.18.5 in /usr/local/lib/python3.8/dist-packages (from pandas->abacusai) (1.23.2)\n",
      "Requirement already satisfied: python-dateutil>=2.8.1 in /usr/local/lib/python3.8/dist-packages (from pandas->abacusai) (2.8.2)\n",
      "Requirement already satisfied: certifi>=2017.4.17 in /usr/lib/python3/dist-packages (from requests->abacusai) (2019.11.28)\n",
      "Requirement already satisfied: urllib3<1.27,>=1.21.1 in /usr/lib/python3/dist-packages (from requests->abacusai) (1.25.8)\n",
      "Requirement already satisfied: charset-normalizer<4,>=2 in /usr/local/lib/python3.8/dist-packages (from requests->abacusai) (3.0.1)\n",
      "Requirement already satisfied: idna<4,>=2.5 in /usr/lib/python3/dist-packages (from requests->abacusai) (2.8)\n",
      "Requirement already satisfied: six>=1.5 in /usr/lib/python3/dist-packages (from python-dateutil>=2.8.1->pandas->abacusai) (1.14.0)\n"
     ]
    }
   ],
   "source": [
    "!pip install abacusai --upgrade"
   ]
  },
  {
   "cell_type": "markdown",
   "id": "4bc7a0fd-63f0-4b92-ae9b-08347315718b",
   "metadata": {},
   "source": [
    "# Import Packages required\n",
    "## We will be using pandas and the Abacus.ai client"
   ]
  },
  {
   "cell_type": "code",
   "execution_count": 2,
   "id": "9b197b2e-de22-44d4-afee-eafaf061bef5",
   "metadata": {
    "execution": {
     "iopub.execute_input": "2023-03-07T18:01:44.359237Z",
     "iopub.status.busy": "2023-03-07T18:01:44.358918Z",
     "iopub.status.idle": "2023-03-07T18:01:44.628015Z",
     "shell.execute_reply": "2023-03-07T18:01:44.627538Z",
     "shell.execute_reply.started": "2023-03-07T18:01:44.359215Z"
    },
    "tags": []
   },
   "outputs": [],
   "source": [
    "import pandas as pd\n",
    "from abacusai import ApiClient, ApiException"
   ]
  },
  {
   "cell_type": "markdown",
   "id": "308ae9ec-0979-46e9-a80e-60b3dfb6a293",
   "metadata": {},
   "source": [
    "# Build a local model\n",
    "To begin, we'll read a dataset from s3 into a pandas dataframe. We then manipulate the data, prepare it for training and train a model locally"
   ]
  },
  {
   "cell_type": "code",
   "execution_count": 3,
   "id": "2770ec46-1110-4be5-825c-0077ffe4a8e2",
   "metadata": {
    "execution": {
     "iopub.execute_input": "2023-03-07T18:01:48.856529Z",
     "iopub.status.busy": "2023-03-07T18:01:48.856158Z",
     "iopub.status.idle": "2023-03-07T18:01:51.127392Z",
     "shell.execute_reply": "2023-03-07T18:01:51.126940Z",
     "shell.execute_reply.started": "2023-03-07T18:01:48.856510Z"
    },
    "tags": []
   },
   "outputs": [
    {
     "data": {
      "text/html": [
       "<div>\n",
       "<style scoped>\n",
       "    .dataframe tbody tr th:only-of-type {\n",
       "        vertical-align: middle;\n",
       "    }\n",
       "\n",
       "    .dataframe tbody tr th {\n",
       "        vertical-align: top;\n",
       "    }\n",
       "\n",
       "    .dataframe thead th {\n",
       "        text-align: right;\n",
       "    }\n",
       "</style>\n",
       "<table border=\"1\" class=\"dataframe\">\n",
       "  <thead>\n",
       "    <tr style=\"text-align: right;\">\n",
       "      <th></th>\n",
       "      <th>cement</th>\n",
       "      <th>slag</th>\n",
       "      <th>flyash</th>\n",
       "      <th>water</th>\n",
       "      <th>superplasticizer</th>\n",
       "      <th>coarseaggregate</th>\n",
       "      <th>fineaggregate</th>\n",
       "      <th>age</th>\n",
       "      <th>csMPa</th>\n",
       "    </tr>\n",
       "  </thead>\n",
       "  <tbody>\n",
       "    <tr>\n",
       "      <th>0</th>\n",
       "      <td>540.0</td>\n",
       "      <td>0.0</td>\n",
       "      <td>0.0</td>\n",
       "      <td>162.0</td>\n",
       "      <td>2.5</td>\n",
       "      <td>1040.0</td>\n",
       "      <td>676.0</td>\n",
       "      <td>28</td>\n",
       "      <td>79.99</td>\n",
       "    </tr>\n",
       "    <tr>\n",
       "      <th>1</th>\n",
       "      <td>540.0</td>\n",
       "      <td>0.0</td>\n",
       "      <td>0.0</td>\n",
       "      <td>162.0</td>\n",
       "      <td>2.5</td>\n",
       "      <td>1055.0</td>\n",
       "      <td>676.0</td>\n",
       "      <td>28</td>\n",
       "      <td>61.89</td>\n",
       "    </tr>\n",
       "    <tr>\n",
       "      <th>2</th>\n",
       "      <td>332.5</td>\n",
       "      <td>142.5</td>\n",
       "      <td>0.0</td>\n",
       "      <td>228.0</td>\n",
       "      <td>0.0</td>\n",
       "      <td>932.0</td>\n",
       "      <td>594.0</td>\n",
       "      <td>270</td>\n",
       "      <td>40.27</td>\n",
       "    </tr>\n",
       "    <tr>\n",
       "      <th>3</th>\n",
       "      <td>332.5</td>\n",
       "      <td>142.5</td>\n",
       "      <td>0.0</td>\n",
       "      <td>228.0</td>\n",
       "      <td>0.0</td>\n",
       "      <td>932.0</td>\n",
       "      <td>594.0</td>\n",
       "      <td>365</td>\n",
       "      <td>41.05</td>\n",
       "    </tr>\n",
       "    <tr>\n",
       "      <th>4</th>\n",
       "      <td>198.6</td>\n",
       "      <td>132.4</td>\n",
       "      <td>0.0</td>\n",
       "      <td>192.0</td>\n",
       "      <td>0.0</td>\n",
       "      <td>978.4</td>\n",
       "      <td>825.5</td>\n",
       "      <td>360</td>\n",
       "      <td>44.30</td>\n",
       "    </tr>\n",
       "  </tbody>\n",
       "</table>\n",
       "</div>"
      ],
      "text/plain": [
       "   cement   slag  flyash  water  superplasticizer  coarseaggregate  \\\n",
       "0   540.0    0.0     0.0  162.0               2.5           1040.0   \n",
       "1   540.0    0.0     0.0  162.0               2.5           1055.0   \n",
       "2   332.5  142.5     0.0  228.0               0.0            932.0   \n",
       "3   332.5  142.5     0.0  228.0               0.0            932.0   \n",
       "4   198.6  132.4     0.0  192.0               0.0            978.4   \n",
       "\n",
       "   fineaggregate  age  csMPa  \n",
       "0          676.0   28  79.99  \n",
       "1          676.0   28  61.89  \n",
       "2          594.0  270  40.27  \n",
       "3          594.0  365  41.05  \n",
       "4          825.5  360  44.30  "
      ]
     },
     "execution_count": 3,
     "metadata": {},
     "output_type": "execute_result"
    }
   ],
   "source": [
    "concrete_df = pd.read_csv(\n",
    "    \"s3://abacusai-exampledatasets/predicting/concrete_measurements.csv\"\n",
    ")\n",
    "concrete_df.head()"
   ]
  },
  {
   "cell_type": "markdown",
   "id": "7906b6f0-6501-401c-a346-a3772fae8e3a",
   "metadata": {},
   "source": [
    "### We perform a simple transform. Please be sure to provide a constant we utilize in our transform function\n",
    "Importing pandas directly in the function body is important for later. Be sure to test your transform function!"
   ]
  },
  {
   "cell_type": "code",
   "execution_count": 7,
   "id": "5cfbc008-83ac-4d55-a36f-4d54ad62b556",
   "metadata": {
    "execution": {
     "iopub.execute_input": "2023-03-07T18:03:33.983418Z",
     "iopub.status.busy": "2023-03-07T18:03:33.982847Z",
     "iopub.status.idle": "2023-03-07T18:03:33.986913Z",
     "shell.execute_reply": "2023-03-07T18:03:33.986483Z",
     "shell.execute_reply.started": "2023-03-07T18:03:33.983397Z"
    },
    "tags": []
   },
   "outputs": [],
   "source": [
    "def transform_concrete(concrete_dataframe):\n",
    "    import pandas as pd\n",
    "\n",
    "    constant = 16\n",
    "    # assert constant, \"Please provide a constant to use in featurization\"\n",
    "    # Remove the flyash feature\n",
    "    feature_df = concrete_dataframe.drop([\"flyash\"], axis=1).copy()\n",
    "    # DataFrame with rows where flyash == 0\n",
    "    no_flyash = feature_df[concrete_dataframe[\"flyash\"] == 0.0].copy()\n",
    "    no_flyash.loc[:, \"slag\"] = no_flyash[\"slag\"] - no_flyash[\"water\"].mean()\n",
    "    # DataFrame with rows where flyash > 0\n",
    "    flyash = feature_df[concrete_dataframe[\"flyash\"] > 0.0].copy()\n",
    "    flyash.loc[:, \"slag\"] = flyash[\"slag\"] + constant\n",
    "    return pd.concat([no_flyash, flyash - flyash.assign(age=0).mean()])"
   ]
  },
  {
   "cell_type": "code",
   "execution_count": 8,
   "id": "55c2a24d-65f5-4403-aaf6-d22c6303938e",
   "metadata": {
    "execution": {
     "iopub.execute_input": "2023-03-07T18:03:36.783660Z",
     "iopub.status.busy": "2023-03-07T18:03:36.783137Z",
     "iopub.status.idle": "2023-03-07T18:03:36.797418Z",
     "shell.execute_reply": "2023-03-07T18:03:36.797022Z",
     "shell.execute_reply.started": "2023-03-07T18:03:36.783640Z"
    },
    "tags": []
   },
   "outputs": [
    {
     "data": {
      "text/html": [
       "<div>\n",
       "<style scoped>\n",
       "    .dataframe tbody tr th:only-of-type {\n",
       "        vertical-align: middle;\n",
       "    }\n",
       "\n",
       "    .dataframe tbody tr th {\n",
       "        vertical-align: top;\n",
       "    }\n",
       "\n",
       "    .dataframe thead th {\n",
       "        text-align: right;\n",
       "    }\n",
       "</style>\n",
       "<table border=\"1\" class=\"dataframe\">\n",
       "  <thead>\n",
       "    <tr style=\"text-align: right;\">\n",
       "      <th></th>\n",
       "      <th>cement</th>\n",
       "      <th>slag</th>\n",
       "      <th>water</th>\n",
       "      <th>superplasticizer</th>\n",
       "      <th>coarseaggregate</th>\n",
       "      <th>fineaggregate</th>\n",
       "      <th>age</th>\n",
       "      <th>csMPa</th>\n",
       "    </tr>\n",
       "  </thead>\n",
       "  <tbody>\n",
       "    <tr>\n",
       "      <th>0</th>\n",
       "      <td>540.000000</td>\n",
       "      <td>-186.616784</td>\n",
       "      <td>162.000000</td>\n",
       "      <td>2.500000</td>\n",
       "      <td>1040.000000</td>\n",
       "      <td>676.000000</td>\n",
       "      <td>28.0</td>\n",
       "      <td>79.990000</td>\n",
       "    </tr>\n",
       "    <tr>\n",
       "      <th>1</th>\n",
       "      <td>540.000000</td>\n",
       "      <td>-186.616784</td>\n",
       "      <td>162.000000</td>\n",
       "      <td>2.500000</td>\n",
       "      <td>1055.000000</td>\n",
       "      <td>676.000000</td>\n",
       "      <td>28.0</td>\n",
       "      <td>61.890000</td>\n",
       "    </tr>\n",
       "    <tr>\n",
       "      <th>2</th>\n",
       "      <td>332.500000</td>\n",
       "      <td>-44.116784</td>\n",
       "      <td>228.000000</td>\n",
       "      <td>0.000000</td>\n",
       "      <td>932.000000</td>\n",
       "      <td>594.000000</td>\n",
       "      <td>270.0</td>\n",
       "      <td>40.270000</td>\n",
       "    </tr>\n",
       "    <tr>\n",
       "      <th>3</th>\n",
       "      <td>332.500000</td>\n",
       "      <td>-44.116784</td>\n",
       "      <td>228.000000</td>\n",
       "      <td>0.000000</td>\n",
       "      <td>932.000000</td>\n",
       "      <td>594.000000</td>\n",
       "      <td>365.0</td>\n",
       "      <td>41.050000</td>\n",
       "    </tr>\n",
       "    <tr>\n",
       "      <th>4</th>\n",
       "      <td>198.600000</td>\n",
       "      <td>-54.216784</td>\n",
       "      <td>192.000000</td>\n",
       "      <td>0.000000</td>\n",
       "      <td>978.400000</td>\n",
       "      <td>825.500000</td>\n",
       "      <td>360.0</td>\n",
       "      <td>44.300000</td>\n",
       "    </tr>\n",
       "    <tr>\n",
       "      <th>...</th>\n",
       "      <td>...</td>\n",
       "      <td>...</td>\n",
       "      <td>...</td>\n",
       "      <td>...</td>\n",
       "      <td>...</td>\n",
       "      <td>...</td>\n",
       "      <td>...</td>\n",
       "      <td>...</td>\n",
       "    </tr>\n",
       "    <tr>\n",
       "      <th>1022</th>\n",
       "      <td>23.427802</td>\n",
       "      <td>69.081250</td>\n",
       "      <td>20.092241</td>\n",
       "      <td>-2.926078</td>\n",
       "      <td>-139.784052</td>\n",
       "      <td>6.173491</td>\n",
       "      <td>28.0</td>\n",
       "      <td>6.885539</td>\n",
       "    </tr>\n",
       "    <tr>\n",
       "      <th>1025</th>\n",
       "      <td>35.327802</td>\n",
       "      <td>74.081250</td>\n",
       "      <td>4.192241</td>\n",
       "      <td>0.073922</td>\n",
       "      <td>-102.284052</td>\n",
       "      <td>-15.926509</td>\n",
       "      <td>28.0</td>\n",
       "      <td>9.625539</td>\n",
       "    </tr>\n",
       "    <tr>\n",
       "      <th>1026</th>\n",
       "      <td>81.127802</td>\n",
       "      <td>-41.918750</td>\n",
       "      <td>20.592241</td>\n",
       "      <td>1.573922</td>\n",
       "      <td>-154.484052</td>\n",
       "      <td>29.173491</td>\n",
       "      <td>28.0</td>\n",
       "      <td>-3.474461</td>\n",
       "    </tr>\n",
       "    <tr>\n",
       "      <th>1027</th>\n",
       "      <td>-92.572198</td>\n",
       "      <td>97.481250</td>\n",
       "      <td>17.292241</td>\n",
       "      <td>-2.726078</td>\n",
       "      <td>-79.984052</td>\n",
       "      <td>-4.226509</td>\n",
       "      <td>28.0</td>\n",
       "      <td>-10.954461</td>\n",
       "    </tr>\n",
       "    <tr>\n",
       "      <th>1029</th>\n",
       "      <td>19.827802</td>\n",
       "      <td>58.581250</td>\n",
       "      <td>25.192241</td>\n",
       "      <td>-0.226078</td>\n",
       "      <td>-107.884052</td>\n",
       "      <td>-22.726509</td>\n",
       "      <td>28.0</td>\n",
       "      <td>-2.254461</td>\n",
       "    </tr>\n",
       "  </tbody>\n",
       "</table>\n",
       "<p>1030 rows × 8 columns</p>\n",
       "</div>"
      ],
      "text/plain": [
       "          cement        slag       water  superplasticizer  coarseaggregate  \\\n",
       "0     540.000000 -186.616784  162.000000          2.500000      1040.000000   \n",
       "1     540.000000 -186.616784  162.000000          2.500000      1055.000000   \n",
       "2     332.500000  -44.116784  228.000000          0.000000       932.000000   \n",
       "3     332.500000  -44.116784  228.000000          0.000000       932.000000   \n",
       "4     198.600000  -54.216784  192.000000          0.000000       978.400000   \n",
       "...          ...         ...         ...               ...              ...   \n",
       "1022   23.427802   69.081250   20.092241         -2.926078      -139.784052   \n",
       "1025   35.327802   74.081250    4.192241          0.073922      -102.284052   \n",
       "1026   81.127802  -41.918750   20.592241          1.573922      -154.484052   \n",
       "1027  -92.572198   97.481250   17.292241         -2.726078       -79.984052   \n",
       "1029   19.827802   58.581250   25.192241         -0.226078      -107.884052   \n",
       "\n",
       "      fineaggregate    age      csMPa  \n",
       "0        676.000000   28.0  79.990000  \n",
       "1        676.000000   28.0  61.890000  \n",
       "2        594.000000  270.0  40.270000  \n",
       "3        594.000000  365.0  41.050000  \n",
       "4        825.500000  360.0  44.300000  \n",
       "...             ...    ...        ...  \n",
       "1022       6.173491   28.0   6.885539  \n",
       "1025     -15.926509   28.0   9.625539  \n",
       "1026      29.173491   28.0  -3.474461  \n",
       "1027      -4.226509   28.0 -10.954461  \n",
       "1029     -22.726509   28.0  -2.254461  \n",
       "\n",
       "[1030 rows x 8 columns]"
      ]
     },
     "execution_count": 8,
     "metadata": {},
     "output_type": "execute_result"
    }
   ],
   "source": [
    "transformed_concrete_df = transform_concrete(concrete_df)\n",
    "transformed_concrete_df"
   ]
  },
  {
   "cell_type": "markdown",
   "id": "b8a2304e-e8c4-4be1-95ef-575e73354ed2",
   "metadata": {},
   "source": [
    "### We now prepare the data for training by splitting it between a train and test split"
   ]
  },
  {
   "cell_type": "code",
   "execution_count": 9,
   "id": "d9f825a2-13fe-480c-91ac-63a1da3daaf3",
   "metadata": {
    "execution": {
     "iopub.execute_input": "2023-03-07T18:03:41.634365Z",
     "iopub.status.busy": "2023-03-07T18:03:41.633812Z",
     "iopub.status.idle": "2023-03-07T18:03:41.637305Z",
     "shell.execute_reply": "2023-03-07T18:03:41.636899Z",
     "shell.execute_reply.started": "2023-03-07T18:03:41.634345Z"
    },
    "tags": []
   },
   "outputs": [],
   "source": [
    "def assign_train_test_split(data_to_split):\n",
    "    import pandas as pd\n",
    "    from sklearn.model_selection import train_test_split\n",
    "\n",
    "    training_data, prediction_data = train_test_split(\n",
    "        data_to_split.copy(), test_size=0.1, train_size=0.9, random_state=42\n",
    "    )\n",
    "    training_data[\"TRAINTEST\"] = \"TRAIN\"\n",
    "    prediction_data[\"TRAINTEST\"] = \"TEST\"\n",
    "    return pd.concat([training_data, prediction_data])"
   ]
  },
  {
   "cell_type": "code",
   "execution_count": 10,
   "id": "bce82ef4-782f-448c-a95e-45114f9669ab",
   "metadata": {
    "execution": {
     "iopub.execute_input": "2023-03-07T18:03:43.941773Z",
     "iopub.status.busy": "2023-03-07T18:03:43.941273Z",
     "iopub.status.idle": "2023-03-07T18:03:44.200430Z",
     "shell.execute_reply": "2023-03-07T18:03:44.199947Z",
     "shell.execute_reply.started": "2023-03-07T18:03:43.941756Z"
    },
    "tags": []
   },
   "outputs": [],
   "source": [
    "concrete_train_test = assign_train_test_split(transformed_concrete_df)\n",
    "concrete_training_data = concrete_train_test.loc[\n",
    "    concrete_train_test[\"TRAINTEST\"] == \"TRAIN\"\n",
    "].drop(columns={\"TRAINTEST\"}, axis=1)\n",
    "concrete_prediction_data = concrete_train_test.loc[\n",
    "    concrete_train_test[\"TRAINTEST\"] == \"TEST\"\n",
    "].drop(columns={\"TRAINTEST\"}, axis=1)"
   ]
  },
  {
   "cell_type": "markdown",
   "id": "aaf81f2c-feb5-433f-aa6c-8820b9fa7ad1",
   "metadata": {},
   "source": [
    "## Define a local training and predict function\n",
    "We define a simple linear regression model that utilizes a quantile transformer for numeric columns. We also define a prediction function. Of course, we execute both of these to ensure they work."
   ]
  },
  {
   "cell_type": "code",
   "execution_count": 11,
   "id": "406ac24a-0ef7-44e6-b9d1-2b2cf1f5420a",
   "metadata": {
    "execution": {
     "iopub.execute_input": "2023-03-07T18:03:46.730373Z",
     "iopub.status.busy": "2023-03-07T18:03:46.729812Z",
     "iopub.status.idle": "2023-03-07T18:03:46.733960Z",
     "shell.execute_reply": "2023-03-07T18:03:46.733527Z",
     "shell.execute_reply.started": "2023-03-07T18:03:46.730354Z"
    },
    "tags": []
   },
   "outputs": [],
   "source": [
    "def train(training_dataset):\n",
    "    import numpy as np\n",
    "\n",
    "    # set the seed for reproduceable results\n",
    "    np.random.seed(5)\n",
    "\n",
    "    target_column = \"csMPa\"\n",
    "    X = training_dataset.drop([target_column], axis=1).copy()\n",
    "    y = training_dataset[target_column]\n",
    "    from sklearn.linear_model import LinearRegression\n",
    "    from sklearn.preprocessing import QuantileTransformer\n",
    "\n",
    "    qt = QuantileTransformer(n_quantiles=20)\n",
    "    linear_regresion = LinearRegression()\n",
    "    linear_regresion.fit(qt.fit_transform(X), y)\n",
    "    print(f\"Linear model R^2 = {linear_regresion.score(qt.transform(X), y)}\")\n",
    "\n",
    "    return (X.columns, target_column, qt, linear_regresion)"
   ]
  },
  {
   "cell_type": "markdown",
   "id": "f8d75900-1dda-43f9-822c-ddd827596af6",
   "metadata": {},
   "source": [
    "### Examine the train function outputs"
   ]
  },
  {
   "cell_type": "code",
   "execution_count": 12,
   "id": "96ec2283-ace1-4444-bae2-fe5e5707d767",
   "metadata": {
    "execution": {
     "iopub.execute_input": "2023-03-07T18:03:49.398603Z",
     "iopub.status.busy": "2023-03-07T18:03:49.398050Z",
     "iopub.status.idle": "2023-03-07T18:03:49.425164Z",
     "shell.execute_reply": "2023-03-07T18:03:49.424712Z",
     "shell.execute_reply.started": "2023-03-07T18:03:49.398582Z"
    },
    "tags": []
   },
   "outputs": [
    {
     "name": "stdout",
     "output_type": "stream",
     "text": [
      "Linear model R^2 = 0.9114936771485455\n",
      "Index(['cement', 'slag', 'water', 'superplasticizer', 'coarseaggregate',\n",
      "       'fineaggregate', 'age'],\n",
      "      dtype='object')\n",
      "csMPa\n",
      "QuantileTransformer(n_quantiles=20)\n",
      "LinearRegression()\n"
     ]
    }
   ],
   "source": [
    "local_model = train(concrete_training_data)\n",
    "input_columns, target, transform, model = local_model\n",
    "print(input_columns)\n",
    "print(target)\n",
    "print(transform)\n",
    "print(model)"
   ]
  },
  {
   "cell_type": "code",
   "execution_count": 13,
   "id": "8ee6e973-f015-44ee-b02f-b1b1cc2c21d6",
   "metadata": {
    "execution": {
     "iopub.execute_input": "2023-03-07T18:03:55.811622Z",
     "iopub.status.busy": "2023-03-07T18:03:55.811077Z",
     "iopub.status.idle": "2023-03-07T18:03:55.815710Z",
     "shell.execute_reply": "2023-03-07T18:03:55.815277Z",
     "shell.execute_reply.started": "2023-03-07T18:03:55.811601Z"
    },
    "tags": []
   },
   "outputs": [],
   "source": [
    "def predict_many(model, queries):\n",
    "    input_columns, target_column, qt, model = model\n",
    "    import pandas as pd\n",
    "\n",
    "    predictions = []\n",
    "    for query in queries:\n",
    "        X = pd.DataFrame({c: [query[c]] for c in input_columns})\n",
    "        y = model.predict(qt.transform(X))\n",
    "        predictions.append({target_column: y[0]})\n",
    "    return predictions"
   ]
  },
  {
   "cell_type": "markdown",
   "id": "500d4e73-ac20-41fa-8123-18629518a779",
   "metadata": {},
   "source": [
    "### Let's see what our model is predicting\n",
    "We aren't too worried about performance for our toy model"
   ]
  },
  {
   "cell_type": "code",
   "execution_count": 14,
   "id": "eaa73d75-ded7-4fc8-a66b-e471e4771117",
   "metadata": {
    "execution": {
     "iopub.execute_input": "2023-03-07T18:03:58.640480Z",
     "iopub.status.busy": "2023-03-07T18:03:58.640182Z",
     "iopub.status.idle": "2023-03-07T18:03:58.748759Z",
     "shell.execute_reply": "2023-03-07T18:03:58.748362Z",
     "shell.execute_reply.started": "2023-03-07T18:03:58.640462Z"
    },
    "tags": []
   },
   "outputs": [
    {
     "data": {
      "text/plain": [
       "[{'csMPa': 37.697797557944256},\n",
       " {'csMPa': 47.571887792434},\n",
       " {'csMPa': 64.70979460520971},\n",
       " {'csMPa': 43.66334359567851},\n",
       " {'csMPa': 13.843112761580656}]"
      ]
     },
     "execution_count": 14,
     "metadata": {},
     "output_type": "execute_result"
    }
   ],
   "source": [
    "prediction_results = predict_many(\n",
    "    local_model, concrete_prediction_data.to_dict(orient=\"records\")\n",
    ")\n",
    "prediction_results[:5]"
   ]
  },
  {
   "cell_type": "markdown",
   "id": "58f06c86-4697-4262-aa09-3e222265f5e5",
   "metadata": {},
   "source": [
    "# Incorporate our Model into Abacus\n",
    "With a working local model, we can now leverage the Abacus.ai client and our training/predict code to bring our model into the Abacus Platform"
   ]
  },
  {
   "cell_type": "code",
   "execution_count": 15,
   "id": "fc97d515-7f6d-488e-aca7-a3a7fe14f69e",
   "metadata": {
    "execution": {
     "iopub.execute_input": "2023-03-07T18:04:01.842758Z",
     "iopub.status.busy": "2023-03-07T18:04:01.842350Z",
     "iopub.status.idle": "2023-03-07T18:04:01.900896Z",
     "shell.execute_reply": "2023-03-07T18:04:01.900456Z",
     "shell.execute_reply.started": "2023-03-07T18:04:01.842739Z"
    },
    "tags": []
   },
   "outputs": [],
   "source": [
    "# Instatiate a client instance\n",
    "client = ApiClient(server='https://workshop.abacus.ai')"
   ]
  },
  {
   "cell_type": "markdown",
   "id": "5791c88f-b2ae-4ead-921b-eebb5c327f5e",
   "metadata": {},
   "source": [
    "## Creating our first project\n",
    "The first project we create is a Feature Store project. This will act as a location to store feature groups (data transformations) we create.\n",
    "https://workshop.abacus.ai/help/useCases/feature_store"
   ]
  },
  {
   "cell_type": "code",
   "execution_count": 17,
   "id": "329d968b-f9dc-43f3-8ffa-2877c135dc72",
   "metadata": {
    "execution": {
     "iopub.execute_input": "2023-03-07T18:04:35.081839Z",
     "iopub.status.busy": "2023-03-07T18:04:35.081377Z",
     "iopub.status.idle": "2023-03-07T18:04:35.204084Z",
     "shell.execute_reply": "2023-03-07T18:04:35.203669Z",
     "shell.execute_reply.started": "2023-03-07T18:04:35.081818Z"
    },
    "tags": []
   },
   "outputs": [
    {
     "data": {
      "text/plain": [
       "Project(project_id='7a6b2d5da',\n",
       "  name='csaba_demo',\n",
       "  use_case='FEATURE_STORE',\n",
       "  problem_type='FEATURE_STORE',\n",
       "  created_at='2023-03-07T18:04:35+00:00',\n",
       "  feature_groups_enabled=True)"
      ]
     },
     "execution_count": 17,
     "metadata": {},
     "output_type": "execute_result"
    }
   ],
   "source": [
    "feature_store_project_name = \"csaba_demo\"\n",
    "#assert (\n",
    "#    feature_store_project_name\n",
    "#), \"Please provide a name for your Feature Store Project\"\n",
    "\n",
    "feature_store_project_exists = False\n",
    "use_case = \"FEATURE_STORE\"\n",
    "feature_store_project = None\n",
    "\n",
    "for existing_project in client.list_projects():\n",
    "    if feature_store_project_name == existing_project.name:\n",
    "        feature_store_project_exists = True\n",
    "        feature_store_project = existing_project\n",
    "\n",
    "if not feature_store_project_exists:\n",
    "    feature_store_project = client.create_project(feature_store_project_name, use_case)\n",
    "feature_store_project"
   ]
  },
  {
   "cell_type": "markdown",
   "id": "e3d7d1a0-ba42-4b0a-8eb7-d90690586a13",
   "metadata": {},
   "source": [
    "### Manipulating Data in Abacus\n",
    "We can leverage Feature Groups in Abacus.ai in order to manipulate and transform our data. Each feature group must have a unique, so we define a unique prefix variable for easy uniqueness"
   ]
  },
  {
   "cell_type": "code",
   "execution_count": 18,
   "id": "97e770f8-4520-4933-af52-25d7db3c7ecf",
   "metadata": {
    "execution": {
     "iopub.execute_input": "2023-03-07T18:04:51.606772Z",
     "iopub.status.busy": "2023-03-07T18:04:51.606323Z",
     "iopub.status.idle": "2023-03-07T18:04:51.609053Z",
     "shell.execute_reply": "2023-03-07T18:04:51.608630Z",
     "shell.execute_reply.started": "2023-03-07T18:04:51.606753Z"
    },
    "tags": []
   },
   "outputs": [],
   "source": [
    "unique_prefix = \"csaba\"\n",
    "# assert unique_prefix, \"Please provide a unique_prefix to avoid name collision\""
   ]
  },
  {
   "cell_type": "markdown",
   "id": "d551080e-f1df-4e0e-b193-1d647ec00c4c",
   "metadata": {},
   "source": [
    "## We can make Feature Groups directly from Pandas DataFrames"
   ]
  },
  {
   "cell_type": "code",
   "execution_count": 19,
   "id": "a7d6b239-a1ed-4cfd-8ee1-d862278716d2",
   "metadata": {
    "execution": {
     "iopub.execute_input": "2023-03-07T18:04:54.995123Z",
     "iopub.status.busy": "2023-03-07T18:04:54.994838Z",
     "iopub.status.idle": "2023-03-07T18:05:26.759120Z",
     "shell.execute_reply": "2023-03-07T18:05:26.758694Z",
     "shell.execute_reply.started": "2023-03-07T18:04:54.995105Z"
    },
    "tags": []
   },
   "outputs": [
    {
     "data": {
      "text/plain": [
       "FeatureGroup(modification_lock=False,\n",
       "  feature_group_id='ba9989150',\n",
       "  name='csabaconcrete_attributes',\n",
       "  feature_group_source_type='DATASET',\n",
       "  table_name='csabaconcrete_attributes',\n",
       "  sql=None,\n",
       "  dataset_id='88e815d12',\n",
       "  function_source_code=None,\n",
       "  function_name=None,\n",
       "  source_tables=[],\n",
       "  created_at='2023-03-07T18:04:55+00:00',\n",
       "  description=None,\n",
       "  feature_group_type='CUSTOM_TABLE',\n",
       "  sql_error=None,\n",
       "  latest_version_outdated=False,\n",
       "  referenced_feature_groups=None,\n",
       "  tags=['base_data'],\n",
       "  primary_key=None,\n",
       "  update_timestamp_key=None,\n",
       "  lookup_keys=None,\n",
       "  streaming_enabled=False,\n",
       "  feature_group_use=None,\n",
       "  incremental=False,\n",
       "  merge_config=None,\n",
       "  transform_config=None,\n",
       "  sampling_config=None,\n",
       "  cpu_size=None,\n",
       "  memory=None,\n",
       "  streaming_ready=None,\n",
       "  feature_tags=None,\n",
       "  module_name=None,\n",
       "  template_bindings=None,\n",
       "  feature_expression='',\n",
       "  use_original_csv_names=False,\n",
       "  python_function_bindings=None,\n",
       "  python_function_name=None,\n",
       "  annotation_config=None,\n",
       "  project_config=None,\n",
       "  features=[Feature(name='cement',\n",
       "  select_clause=None,\n",
       "  feature_mapping=None,\n",
       "  source_table='datasets_csabaconcrete_attributes',\n",
       "  original_name=None,\n",
       "  using_clause=None,\n",
       "  order_clause=None,\n",
       "  where_clause=None,\n",
       "  feature_type='NUMERICAL',\n",
       "  data_type='FLOAT',\n",
       "  detected_feature_type='NUMERICAL',\n",
       "  detected_data_type=None,\n",
       "  columns=None,\n",
       "  point_in_time_info=None), Feature(name='slag',\n",
       "  select_clause=None,\n",
       "  feature_mapping=None,\n",
       "  source_table='datasets_csabaconcrete_attributes',\n",
       "  original_name=None,\n",
       "  using_clause=None,\n",
       "  order_clause=None,\n",
       "  where_clause=None,\n",
       "  feature_type='NUMERICAL',\n",
       "  data_type='FLOAT',\n",
       "  detected_feature_type='NUMERICAL',\n",
       "  detected_data_type=None,\n",
       "  columns=None,\n",
       "  point_in_time_info=None), Feature(name='flyash',\n",
       "  select_clause=None,\n",
       "  feature_mapping=None,\n",
       "  source_table='datasets_csabaconcrete_attributes',\n",
       "  original_name=None,\n",
       "  using_clause=None,\n",
       "  order_clause=None,\n",
       "  where_clause=None,\n",
       "  feature_type='NUMERICAL',\n",
       "  data_type='FLOAT',\n",
       "  detected_feature_type='NUMERICAL',\n",
       "  detected_data_type=None,\n",
       "  columns=None,\n",
       "  point_in_time_info=None), Feature(name='water',\n",
       "  select_clause=None,\n",
       "  feature_mapping=None,\n",
       "  source_table='datasets_csabaconcrete_attributes',\n",
       "  original_name=None,\n",
       "  using_clause=None,\n",
       "  order_clause=None,\n",
       "  where_clause=None,\n",
       "  feature_type='NUMERICAL',\n",
       "  data_type='FLOAT',\n",
       "  detected_feature_type='NUMERICAL',\n",
       "  detected_data_type=None,\n",
       "  columns=None,\n",
       "  point_in_time_info=None), Feature(name='superplasticizer',\n",
       "  select_clause=None,\n",
       "  feature_mapping=None,\n",
       "  source_table='datasets_csabaconcrete_attributes',\n",
       "  original_name=None,\n",
       "  using_clause=None,\n",
       "  order_clause=None,\n",
       "  where_clause=None,\n",
       "  feature_type='NUMERICAL',\n",
       "  data_type='FLOAT',\n",
       "  detected_feature_type='NUMERICAL',\n",
       "  detected_data_type=None,\n",
       "  columns=None,\n",
       "  point_in_time_info=None), Feature(name='coarseaggregate',\n",
       "  select_clause=None,\n",
       "  feature_mapping=None,\n",
       "  source_table='datasets_csabaconcrete_attributes',\n",
       "  original_name=None,\n",
       "  using_clause=None,\n",
       "  order_clause=None,\n",
       "  where_clause=None,\n",
       "  feature_type='NUMERICAL',\n",
       "  data_type='FLOAT',\n",
       "  detected_feature_type='NUMERICAL',\n",
       "  detected_data_type=None,\n",
       "  columns=None,\n",
       "  point_in_time_info=None), Feature(name='fineaggregate',\n",
       "  select_clause=None,\n",
       "  feature_mapping=None,\n",
       "  source_table='datasets_csabaconcrete_attributes',\n",
       "  original_name=None,\n",
       "  using_clause=None,\n",
       "  order_clause=None,\n",
       "  where_clause=None,\n",
       "  feature_type='NUMERICAL',\n",
       "  data_type='FLOAT',\n",
       "  detected_feature_type='NUMERICAL',\n",
       "  detected_data_type=None,\n",
       "  columns=None,\n",
       "  point_in_time_info=None), Feature(name='age',\n",
       "  select_clause=None,\n",
       "  feature_mapping=None,\n",
       "  source_table='datasets_csabaconcrete_attributes',\n",
       "  original_name=None,\n",
       "  using_clause=None,\n",
       "  order_clause=None,\n",
       "  where_clause=None,\n",
       "  feature_type='NUMERICAL',\n",
       "  data_type='INTEGER',\n",
       "  detected_feature_type='NUMERICAL',\n",
       "  detected_data_type=None,\n",
       "  columns=None,\n",
       "  point_in_time_info=None), Feature(name='csMPa',\n",
       "  select_clause=None,\n",
       "  feature_mapping=None,\n",
       "  source_table='datasets_csabaconcrete_attributes',\n",
       "  original_name=None,\n",
       "  using_clause=None,\n",
       "  order_clause=None,\n",
       "  where_clause=None,\n",
       "  feature_type='NUMERICAL',\n",
       "  data_type='FLOAT',\n",
       "  detected_feature_type='NUMERICAL',\n",
       "  detected_data_type=None,\n",
       "  columns=None,\n",
       "  point_in_time_info=None)],\n",
       "  duplicate_features=[],\n",
       "  point_in_time_groups=None,\n",
       "  concatenation_config=None,\n",
       "  indexing_config=None,\n",
       "  code_source=None,\n",
       "  feature_group_template=None,\n",
       "  latest_feature_group_version=FeatureGroupVersion(feature_group_version='e377fb22e',\n",
       "  feature_group_id='ba9989150',\n",
       "  sql=None,\n",
       "  source_tables=[],\n",
       "  created_at='2023-03-07T18:04:55+00:00',\n",
       "  status='PENDING',\n",
       "  error=None,\n",
       "  deployable=False,\n",
       "  cpu_size=None,\n",
       "  memory=None,\n",
       "  use_original_csv_names=None,\n",
       "  python_function_bindings=None,\n",
       "  features=[],\n",
       "  point_in_time_groups=None,\n",
       "  code_source=None))"
      ]
     },
     "execution_count": 19,
     "metadata": {},
     "output_type": "execute_result"
    }
   ],
   "source": [
    "concrete_feature_group_name = unique_prefix + \"concrete_attributes\"\n",
    "try:\n",
    "    concrete_feature_group = client.create_feature_group_from_pandas_df(\n",
    "        concrete_feature_group_name, df=concrete_df\n",
    "    )\n",
    "except ApiException as e:\n",
    "    print(e)\n",
    "    concrete_feature_group = client.describe_feature_group_by_table_name(\n",
    "        concrete_feature_group_name\n",
    "    )\n",
    "try:\n",
    "    concrete_feature_group.add_to_project(feature_store_project.id)\n",
    "except ApiException as e:\n",
    "    print(e)\n",
    "concrete_feature_group.add_tag(\"base_data\")\n",
    "concrete_feature_group.wait_for_dataset()"
   ]
  },
  {
   "cell_type": "markdown",
   "id": "080662de-7cf5-42ad-b81e-00f4951628f1",
   "metadata": {},
   "source": [
    "## We can define generalized python functions to generate Feature Groups\n",
    "First we create the function"
   ]
  },
  {
   "cell_type": "code",
   "execution_count": 20,
   "id": "3aa2f2d4-c9b7-4081-a191-1c81ebf2800e",
   "metadata": {
    "execution": {
     "iopub.execute_input": "2023-03-07T18:05:26.760363Z",
     "iopub.status.busy": "2023-03-07T18:05:26.759936Z",
     "iopub.status.idle": "2023-03-07T18:05:26.944287Z",
     "shell.execute_reply": "2023-03-07T18:05:26.943889Z",
     "shell.execute_reply.started": "2023-03-07T18:05:26.760347Z"
    },
    "tags": []
   },
   "outputs": [],
   "source": [
    "python_transform_function_name = unique_prefix + \"concrete_python_transformation\"\n",
    "try:\n",
    "    python_transform_function = client.create_python_function(\n",
    "        name=python_transform_function_name\n",
    "    )\n",
    "except ApiException as e:\n",
    "    print(e)\n",
    "    python_transform_function = client.describe_python_function(\n",
    "        python_transform_function_name\n",
    "    )"
   ]
  },
  {
   "cell_type": "markdown",
   "id": "70dc7c18-d3e9-4263-ab58-8d184851d60b",
   "metadata": {},
   "source": [
    "### We then update the functions code defintion. Just like a normal python function, we have variable mappings"
   ]
  },
  {
   "cell_type": "code",
   "execution_count": 21,
   "id": "c20a3a84-88bf-4424-9c8c-f0b953f1d75c",
   "metadata": {
    "execution": {
     "iopub.execute_input": "2023-03-07T18:06:04.051929Z",
     "iopub.status.busy": "2023-03-07T18:06:04.051381Z",
     "iopub.status.idle": "2023-03-07T18:06:04.186871Z",
     "shell.execute_reply": "2023-03-07T18:06:04.186462Z",
     "shell.execute_reply.started": "2023-03-07T18:06:04.051907Z"
    },
    "tags": []
   },
   "outputs": [
    {
     "data": {
      "text/plain": [
       "[{'name': 'concrete_dataframe',\n",
       "  'is_required': True,\n",
       "  'variable_type': 'FEATURE_GROUP'}]"
      ]
     },
     "execution_count": 21,
     "metadata": {},
     "output_type": "execute_result"
    }
   ],
   "source": [
    "python_transform_function = client.update_python_function_code(\n",
    "    python_transform_function.name, function=transform_concrete\n",
    ")\n",
    "python_transform_function.function_variable_mappings"
   ]
  },
  {
   "cell_type": "markdown",
   "id": "b3a92aaa-8854-4cd9-bb75-32de7435d49c",
   "metadata": {},
   "source": [
    "### Next, we map inputs to our bindings"
   ]
  },
  {
   "cell_type": "code",
   "execution_count": 22,
   "id": "0fab64d2-07a0-40cb-a167-2b46f518732a",
   "metadata": {
    "execution": {
     "iopub.execute_input": "2023-03-07T18:06:09.212149Z",
     "iopub.status.busy": "2023-03-07T18:06:09.211616Z",
     "iopub.status.idle": "2023-03-07T18:06:09.215758Z",
     "shell.execute_reply": "2023-03-07T18:06:09.215367Z",
     "shell.execute_reply.started": "2023-03-07T18:06:09.212129Z"
    },
    "tags": []
   },
   "outputs": [
    {
     "data": {
      "text/plain": [
       "[{'value': 'csabaconcrete_attributes',\n",
       "  'name': 'concrete_dataframe',\n",
       "  'is_required': True,\n",
       "  'variable_type': 'FEATURE_GROUP'}]"
      ]
     },
     "execution_count": 22,
     "metadata": {},
     "output_type": "execute_result"
    }
   ],
   "source": [
    "transform_input_feature_groups = [concrete_feature_group.table_name]\n",
    "transform_function_bindings = [\n",
    "    dict({\"value\": transform_input_feature_groups[index]}, **function_argument)\n",
    "    for index, function_argument in enumerate(\n",
    "        python_transform_function.function_variable_mappings\n",
    "    )\n",
    "]\n",
    "transform_function_bindings"
   ]
  },
  {
   "cell_type": "markdown",
   "id": "62af8426-4393-4c08-9e67-ffcdaa2695f6",
   "metadata": {},
   "source": [
    "### Finally, we can create a feature group from this function"
   ]
  },
  {
   "cell_type": "code",
   "execution_count": 23,
   "id": "e698ec88-7dd8-4008-8afa-4d47086b7c7a",
   "metadata": {
    "execution": {
     "iopub.execute_input": "2023-03-07T18:06:12.402771Z",
     "iopub.status.busy": "2023-03-07T18:06:12.402347Z",
     "iopub.status.idle": "2023-03-07T18:06:12.836664Z",
     "shell.execute_reply": "2023-03-07T18:06:12.836206Z",
     "shell.execute_reply.started": "2023-03-07T18:06:12.402752Z"
    },
    "tags": []
   },
   "outputs": [],
   "source": [
    "transform_fg_name = unique_prefix + \"concrete_transform_fg\"\n",
    "try:\n",
    "    transform_fg = client.create_feature_group_from_function(\n",
    "        table_name=transform_fg_name,\n",
    "        python_function_name=python_transform_function.name,\n",
    "        python_function_bindings=transform_function_bindings,\n",
    "    )\n",
    "except ApiException as e:\n",
    "    print(e)\n",
    "    transform_fg = client.describe_feature_group_by_table_name(transform_fg_name)\n",
    "try:\n",
    "    transform_fg.add_to_project(feature_store_project.id)\n",
    "except ApiException as e:\n",
    "    print(e)\n",
    "transform_fg.add_tag(\"transform\")\n",
    "transform_fg.add_tag(\"python\")"
   ]
  },
  {
   "cell_type": "code",
   "execution_count": 24,
   "id": "9c8c6f76-b646-4912-84b7-82734d2aa760",
   "metadata": {
    "execution": {
     "iopub.execute_input": "2023-03-07T18:06:20.362410Z",
     "iopub.status.busy": "2023-03-07T18:06:20.361971Z",
     "iopub.status.idle": "2023-03-07T18:06:20.365577Z",
     "shell.execute_reply": "2023-03-07T18:06:20.365173Z",
     "shell.execute_reply.started": "2023-03-07T18:06:20.362390Z"
    },
    "tags": []
   },
   "outputs": [
    {
     "data": {
      "text/plain": [
       "('e51ef9417', '7a6b2d5da')"
      ]
     },
     "execution_count": 24,
     "metadata": {},
     "output_type": "execute_result"
    }
   ],
   "source": [
    "transform_fg.id, feature_store_project.id"
   ]
  },
  {
   "cell_type": "markdown",
   "id": "1bd3330e-412c-4a0a-baf7-70bc7d88f93c",
   "metadata": {},
   "source": [
    "## We repeat the process, and can pass a python feature group as input to another python function"
   ]
  },
  {
   "cell_type": "code",
   "execution_count": 25,
   "id": "f2323368-ccde-4eab-b90e-00a8d008f85f",
   "metadata": {
    "execution": {
     "iopub.execute_input": "2023-03-07T18:06:27.092634Z",
     "iopub.status.busy": "2023-03-07T18:06:27.092182Z",
     "iopub.status.idle": "2023-03-07T18:06:27.298724Z",
     "shell.execute_reply": "2023-03-07T18:06:27.298267Z",
     "shell.execute_reply.started": "2023-03-07T18:06:27.092616Z"
    },
    "tags": []
   },
   "outputs": [],
   "source": [
    "data_split_function_name = unique_prefix + \"train_test_split\"\n",
    "try:\n",
    "    data_split_function = client.create_python_function(name=data_split_function_name)\n",
    "except ApiException as e:\n",
    "    print(e)\n",
    "    data_split_function = client.describe_python_function(data_split_function_name)"
   ]
  },
  {
   "cell_type": "code",
   "execution_count": 26,
   "id": "d8728eef-f921-4f6f-b993-831777fc06c7",
   "metadata": {
    "execution": {
     "iopub.execute_input": "2023-03-07T18:06:29.204584Z",
     "iopub.status.busy": "2023-03-07T18:06:29.204143Z",
     "iopub.status.idle": "2023-03-07T18:06:29.344538Z",
     "shell.execute_reply": "2023-03-07T18:06:29.344115Z",
     "shell.execute_reply.started": "2023-03-07T18:06:29.204564Z"
    },
    "tags": []
   },
   "outputs": [
    {
     "data": {
      "text/plain": [
       "[{'name': 'data_to_split',\n",
       "  'is_required': True,\n",
       "  'variable_type': 'FEATURE_GROUP'}]"
      ]
     },
     "execution_count": 26,
     "metadata": {},
     "output_type": "execute_result"
    }
   ],
   "source": [
    "data_split_function = client.update_python_function_code(\n",
    "    name=data_split_function_name, function=assign_train_test_split\n",
    ")\n",
    "data_split_function.function_variable_mappings"
   ]
  },
  {
   "cell_type": "code",
   "execution_count": 27,
   "id": "b9a261af-477c-43b8-bb09-3f38c66a1a9f",
   "metadata": {
    "execution": {
     "iopub.execute_input": "2023-03-07T18:06:32.994771Z",
     "iopub.status.busy": "2023-03-07T18:06:32.994222Z",
     "iopub.status.idle": "2023-03-07T18:06:32.998412Z",
     "shell.execute_reply": "2023-03-07T18:06:32.998013Z",
     "shell.execute_reply.started": "2023-03-07T18:06:32.994750Z"
    },
    "tags": []
   },
   "outputs": [
    {
     "data": {
      "text/plain": [
       "[{'value': 'csabaconcrete_transform_fg',\n",
       "  'name': 'data_to_split',\n",
       "  'is_required': True,\n",
       "  'variable_type': 'FEATURE_GROUP'}]"
      ]
     },
     "execution_count": 27,
     "metadata": {},
     "output_type": "execute_result"
    }
   ],
   "source": [
    "split_input_feature_groups = [transform_fg.table_name]\n",
    "data_split_bindings = [\n",
    "    dict({\"value\": split_input_feature_groups[index]}, **function_argument)\n",
    "    for index, function_argument in enumerate(\n",
    "        data_split_function.function_variable_mappings\n",
    "    )\n",
    "]\n",
    "data_split_bindings"
   ]
  },
  {
   "cell_type": "code",
   "execution_count": 28,
   "id": "01037ee9-083a-4104-9ea3-de04e223866e",
   "metadata": {
    "execution": {
     "iopub.execute_input": "2023-03-07T18:06:36.387857Z",
     "iopub.status.busy": "2023-03-07T18:06:36.387537Z",
     "iopub.status.idle": "2023-03-07T18:06:36.829594Z",
     "shell.execute_reply": "2023-03-07T18:06:36.829162Z",
     "shell.execute_reply.started": "2023-03-07T18:06:36.387836Z"
    },
    "tags": []
   },
   "outputs": [],
   "source": [
    "data_split_fg_name = unique_prefix + \"concrete_data_split_fg\"\n",
    "try:\n",
    "    data_split_fg = client.create_feature_group_from_function(\n",
    "        data_split_fg_name,\n",
    "        python_function_name=data_split_function.name,\n",
    "        python_function_bindings=data_split_bindings,\n",
    "    )\n",
    "except ApiException as e:\n",
    "    print(e)\n",
    "    data_split_fg = client.describe_feature_group_by_table_name(data_split_fg_name)\n",
    "try:\n",
    "    data_split_fg.add_to_project(feature_store_project.id)\n",
    "except ApiException as e:\n",
    "    print(e)\n",
    "data_split_fg.add_tag(\"data_split\")\n",
    "data_split_fg.add_tag(\"python\")"
   ]
  },
  {
   "cell_type": "code",
   "execution_count": 29,
   "id": "5d626729-5e34-460d-a918-001c9e33e475",
   "metadata": {
    "execution": {
     "iopub.execute_input": "2023-03-07T18:06:39.020197Z",
     "iopub.status.busy": "2023-03-07T18:06:39.019654Z",
     "iopub.status.idle": "2023-03-07T18:10:41.829252Z",
     "shell.execute_reply": "2023-03-07T18:10:41.828808Z",
     "shell.execute_reply.started": "2023-03-07T18:06:39.020177Z"
    },
    "tags": []
   },
   "outputs": [
    {
     "data": {
      "text/plain": [
       "[Feature(name='cement',\n",
       "   select_clause=None,\n",
       "   feature_mapping=None,\n",
       "   source_table='csabaconcrete_transform_fg',\n",
       "   original_name=None,\n",
       "   using_clause=None,\n",
       "   order_clause=None,\n",
       "   where_clause=None,\n",
       "   feature_type='NUMERICAL',\n",
       "   data_type='FLOAT',\n",
       "   detected_feature_type='NUMERICAL',\n",
       "   detected_data_type=None,\n",
       "   columns=None,\n",
       "   point_in_time_info=None),\n",
       " Feature(name='slag',\n",
       "   select_clause=None,\n",
       "   feature_mapping=None,\n",
       "   source_table='csabaconcrete_transform_fg',\n",
       "   original_name=None,\n",
       "   using_clause=None,\n",
       "   order_clause=None,\n",
       "   where_clause=None,\n",
       "   feature_type='NUMERICAL',\n",
       "   data_type='FLOAT',\n",
       "   detected_feature_type='NUMERICAL',\n",
       "   detected_data_type=None,\n",
       "   columns=None,\n",
       "   point_in_time_info=None),\n",
       " Feature(name='water',\n",
       "   select_clause=None,\n",
       "   feature_mapping=None,\n",
       "   source_table='csabaconcrete_transform_fg',\n",
       "   original_name=None,\n",
       "   using_clause=None,\n",
       "   order_clause=None,\n",
       "   where_clause=None,\n",
       "   feature_type='NUMERICAL',\n",
       "   data_type='FLOAT',\n",
       "   detected_feature_type='NUMERICAL',\n",
       "   detected_data_type=None,\n",
       "   columns=None,\n",
       "   point_in_time_info=None),\n",
       " Feature(name='superplasticizer',\n",
       "   select_clause=None,\n",
       "   feature_mapping=None,\n",
       "   source_table='csabaconcrete_transform_fg',\n",
       "   original_name=None,\n",
       "   using_clause=None,\n",
       "   order_clause=None,\n",
       "   where_clause=None,\n",
       "   feature_type='NUMERICAL',\n",
       "   data_type='FLOAT',\n",
       "   detected_feature_type='NUMERICAL',\n",
       "   detected_data_type=None,\n",
       "   columns=None,\n",
       "   point_in_time_info=None),\n",
       " Feature(name='coarseaggregate',\n",
       "   select_clause=None,\n",
       "   feature_mapping=None,\n",
       "   source_table='csabaconcrete_transform_fg',\n",
       "   original_name=None,\n",
       "   using_clause=None,\n",
       "   order_clause=None,\n",
       "   where_clause=None,\n",
       "   feature_type='NUMERICAL',\n",
       "   data_type='FLOAT',\n",
       "   detected_feature_type='NUMERICAL',\n",
       "   detected_data_type=None,\n",
       "   columns=None,\n",
       "   point_in_time_info=None),\n",
       " Feature(name='fineaggregate',\n",
       "   select_clause=None,\n",
       "   feature_mapping=None,\n",
       "   source_table='csabaconcrete_transform_fg',\n",
       "   original_name=None,\n",
       "   using_clause=None,\n",
       "   order_clause=None,\n",
       "   where_clause=None,\n",
       "   feature_type='NUMERICAL',\n",
       "   data_type='FLOAT',\n",
       "   detected_feature_type='NUMERICAL',\n",
       "   detected_data_type=None,\n",
       "   columns=None,\n",
       "   point_in_time_info=None),\n",
       " Feature(name='age',\n",
       "   select_clause=None,\n",
       "   feature_mapping=None,\n",
       "   source_table='csabaconcrete_transform_fg',\n",
       "   original_name=None,\n",
       "   using_clause=None,\n",
       "   order_clause=None,\n",
       "   where_clause=None,\n",
       "   feature_type='NUMERICAL',\n",
       "   data_type='FLOAT',\n",
       "   detected_feature_type='NUMERICAL',\n",
       "   detected_data_type=None,\n",
       "   columns=None,\n",
       "   point_in_time_info=None),\n",
       " Feature(name='csMPa',\n",
       "   select_clause=None,\n",
       "   feature_mapping=None,\n",
       "   source_table='csabaconcrete_transform_fg',\n",
       "   original_name=None,\n",
       "   using_clause=None,\n",
       "   order_clause=None,\n",
       "   where_clause=None,\n",
       "   feature_type='NUMERICAL',\n",
       "   data_type='FLOAT',\n",
       "   detected_feature_type='NUMERICAL',\n",
       "   detected_data_type=None,\n",
       "   columns=None,\n",
       "   point_in_time_info=None),\n",
       " Feature(name='TRAINTEST',\n",
       "   select_clause=None,\n",
       "   feature_mapping=None,\n",
       "   source_table=None,\n",
       "   original_name=None,\n",
       "   using_clause=None,\n",
       "   order_clause=None,\n",
       "   where_clause=None,\n",
       "   feature_type='CATEGORICAL',\n",
       "   data_type='STRING',\n",
       "   detected_feature_type='CATEGORICAL',\n",
       "   detected_data_type=None,\n",
       "   columns=None,\n",
       "   point_in_time_info=None)]"
      ]
     },
     "execution_count": 29,
     "metadata": {},
     "output_type": "execute_result"
    }
   ],
   "source": [
    "data_split_fg.materialize()\n",
    "data_split_fg.refresh().features"
   ]
  },
  {
   "cell_type": "markdown",
   "id": "74e99a57-37f7-4b8a-b419-bc70ff2eab73",
   "metadata": {},
   "source": [
    "# Not only Python Functions\n",
    "With Feature Groups, we can also execute SQL queries. Here we split our data between train and test using SQL"
   ]
  },
  {
   "cell_type": "code",
   "execution_count": 30,
   "id": "c635de2b-d394-43b8-87fb-79be00a78d3f",
   "metadata": {
    "execution": {
     "iopub.execute_input": "2023-03-07T18:10:41.830511Z",
     "iopub.status.busy": "2023-03-07T18:10:41.830086Z",
     "iopub.status.idle": "2023-03-07T18:10:41.939034Z",
     "shell.execute_reply": "2023-03-07T18:10:41.938624Z",
     "shell.execute_reply.started": "2023-03-07T18:10:41.830495Z"
    },
    "tags": []
   },
   "outputs": [],
   "source": [
    "all_feature_but_traintest = [\n",
    "    feature.name\n",
    "    for feature in data_split_fg.refresh().features\n",
    "    if feature.name != \"TRAINTEST\"\n",
    "]"
   ]
  },
  {
   "cell_type": "code",
   "execution_count": 31,
   "id": "722e4c3e-b91c-48c9-ad28-ac04fb7d418f",
   "metadata": {
    "execution": {
     "iopub.execute_input": "2023-03-07T18:11:57.516331Z",
     "iopub.status.busy": "2023-03-07T18:11:57.515874Z",
     "iopub.status.idle": "2023-03-07T18:11:58.248370Z",
     "shell.execute_reply": "2023-03-07T18:11:58.247931Z",
     "shell.execute_reply.started": "2023-03-07T18:11:57.516309Z"
    },
    "tags": []
   },
   "outputs": [],
   "source": [
    "concrete_training_data_fg_name = unique_prefix + \"concrete_training_data_fg\"\n",
    "train_sql = f\"SELECT {', '.join(all_feature_but_traintest)} FROM {data_split_fg.table_name} WHERE TRAINTEST = 'TRAIN'\"\n",
    "try:\n",
    "    concrete_training_data_fg = client.create_feature_group(\n",
    "        concrete_training_data_fg_name, sql=train_sql\n",
    "    )\n",
    "except ApiException as e:\n",
    "    print(e)\n",
    "    concrete_training_data_fg = client.describe_feature_group_by_table_name(\n",
    "        concrete_training_data_fg_name\n",
    "    )\n",
    "try:\n",
    "    concrete_training_data_fg.add_to_project(feature_store_project.id)\n",
    "except ApiException as e:\n",
    "    print(e)\n",
    "concrete_training_data_fg.add_tag(\"training\")\n",
    "concrete_training_data_fg.add_tag(\"sql\")"
   ]
  },
  {
   "cell_type": "code",
   "execution_count": 32,
   "id": "fd6d3b93-6075-4bf3-82d4-56ffe8cc0416",
   "metadata": {
    "execution": {
     "iopub.execute_input": "2023-03-07T18:12:03.258329Z",
     "iopub.status.busy": "2023-03-07T18:12:03.257777Z",
     "iopub.status.idle": "2023-03-07T18:12:04.077531Z",
     "shell.execute_reply": "2023-03-07T18:12:04.077079Z",
     "shell.execute_reply.started": "2023-03-07T18:12:03.258309Z"
    },
    "tags": []
   },
   "outputs": [],
   "source": [
    "concrete_predicting_data_fg_name = unique_prefix + \"concrete_predicting_data_fg\"\n",
    "train_sql = f\"SELECT {', '.join(all_feature_but_traintest)} FROM {data_split_fg.table_name} WHERE TRAINTEST = 'TEST'\"\n",
    "try:\n",
    "    concrete_predicting_data_fg = client.create_feature_group(\n",
    "        concrete_predicting_data_fg_name, sql=train_sql\n",
    "    )\n",
    "except ApiException as e:\n",
    "    print(e)\n",
    "    concrete_predicting_data_fg = client.describe_feature_group_by_table_name(\n",
    "        concrete_predicting_data_fg_name\n",
    "    )\n",
    "try:\n",
    "    concrete_predicting_data_fg.add_to_project(feature_store_project.id)\n",
    "except ApiException as e:\n",
    "    print(e)\n",
    "concrete_predicting_data_fg.add_tag(\"predicting\")\n",
    "concrete_predicting_data_fg.add_tag(\"sql\")"
   ]
  },
  {
   "cell_type": "markdown",
   "id": "016286e3-fd44-49bf-a9a9-7665d558cb3c",
   "metadata": {},
   "source": [
    "# Abacus BYOA - Run your model alongside Abacus's world class algorithms\n",
    "With a handle on training a custom model in an Abacus notebook, we can now register a algorithm to run concurrently with Abacus' own algorithms. This allows us to make quick comparisons across models and helps control train and test splits."
   ]
  },
  {
   "cell_type": "markdown",
   "id": "f289946d-88cd-4795-b3c9-743eebb3da77",
   "metadata": {},
   "source": [
    "First we create a common Predictive Modeling project"
   ]
  },
  {
   "cell_type": "code",
   "execution_count": 33,
   "id": "81ed485f-9143-472d-b913-e3b76cc57c95",
   "metadata": {
    "execution": {
     "iopub.execute_input": "2023-03-07T18:12:24.570031Z",
     "iopub.status.busy": "2023-03-07T18:12:24.569578Z",
     "iopub.status.idle": "2023-03-07T18:12:24.708309Z",
     "shell.execute_reply": "2023-03-07T18:12:24.707912Z",
     "shell.execute_reply.started": "2023-03-07T18:12:24.570011Z"
    },
    "tags": []
   },
   "outputs": [
    {
     "data": {
      "text/plain": [
       "Project(project_id='2f89d014b',\n",
       "  name='byoa_proj',\n",
       "  use_case='PREDICTING',\n",
       "  problem_type='REGRESSION',\n",
       "  created_at='2023-03-07T18:12:24+00:00',\n",
       "  feature_groups_enabled=True)"
      ]
     },
     "execution_count": 33,
     "metadata": {},
     "output_type": "execute_result"
    }
   ],
   "source": [
    "byoa_project_name = \"byoa_proj\"\n",
    "# assert byoa_project_name, \"Please provide a name for your BYOA Project\"\n",
    "\n",
    "byoa_project_exists = False\n",
    "use_case = \"PREDICTING\"\n",
    "byoa_project = None\n",
    "\n",
    "for existing_project in client.list_projects():\n",
    "    if byoa_project_name == existing_project.name:\n",
    "        byoa_project_exists = True\n",
    "        byoa_project = existing_project\n",
    "\n",
    "if not byoa_project_exists:\n",
    "    byoa_project = client.create_project(byoa_project_name, use_case)\n",
    "byoa_project"
   ]
  },
  {
   "cell_type": "markdown",
   "id": "54dc470e-1dd3-492e-97bd-47f3fee76283",
   "metadata": {},
   "source": [
    "### Add the data split feature group to the project\n",
    "We also describe the requirements for the Predictive Modeling use case"
   ]
  },
  {
   "cell_type": "code",
   "execution_count": 34,
   "id": "04253a0b-9271-493f-9718-1423e888a457",
   "metadata": {
    "execution": {
     "iopub.execute_input": "2023-03-07T18:12:30.824025Z",
     "iopub.status.busy": "2023-03-07T18:12:30.823474Z",
     "iopub.status.idle": "2023-03-07T18:12:30.922253Z",
     "shell.execute_reply": "2023-03-07T18:12:30.921835Z",
     "shell.execute_reply.started": "2023-03-07T18:12:30.824006Z"
    },
    "tags": []
   },
   "outputs": [],
   "source": [
    "try:\n",
    "    data_split_fg.add_to_project(byoa_project, feature_group_type=\"CUSTOM_TABLE\")\n",
    "except ApiException as e:\n",
    "    print(e)"
   ]
  },
  {
   "cell_type": "code",
   "execution_count": 35,
   "id": "083f17cc-8326-4339-8c6e-5530b0c8722e",
   "metadata": {
    "execution": {
     "iopub.execute_input": "2023-03-07T18:12:32.364458Z",
     "iopub.status.busy": "2023-03-07T18:12:32.364065Z",
     "iopub.status.idle": "2023-03-07T18:12:32.406593Z",
     "shell.execute_reply": "2023-03-07T18:12:32.406203Z",
     "shell.execute_reply.started": "2023-03-07T18:12:32.364441Z"
    },
    "tags": []
   },
   "outputs": [
    {
     "data": {
      "text/plain": [
       "[UseCaseRequirements(dataset_type='CUSTOM_TABLE',\n",
       "   name='Custom Table',\n",
       "   description='This dataset corresponds to any attributes used to predict the target. For example, predicting housing price based on locality, utilities, area of house, etc.',\n",
       "   required=True,\n",
       "   multi=False,\n",
       "   allowed_feature_mappings={'TARGET': {'description': 'Target variable', 'allowed_feature_types': ['CATEGORICAL', 'NUMERICAL', 'MULTIVALUECATEGORICAL'], 'required': True}, 'IGNORE': {'description': 'Ignore this column in training', 'multiple': True, 'required': False}},\n",
       "   allowed_nested_feature_mappings={'IGNORE': {'description': 'Ignore this column in training', 'multiple': True, 'required': False}}),\n",
       " UseCaseRequirements(dataset_type='PREDICTION_METRICS_INPUT',\n",
       "   name='Prediction Metrics Input',\n",
       "   description='Prediction metrics input feature group',\n",
       "   required=False,\n",
       "   multi=False,\n",
       "   allowed_feature_mappings={'ACTUAL': {'description': 'Actual value for the prediction input', 'required': True}, 'PREDICTED_VALUE': {'description': 'Predicted value', 'required': True}, 'PREDICTED_PROBABILITY': {'description': 'Predicted Probability', 'required': True}, 'PROTECTED_CLASS': {'description': 'Predicted class to compute bias metrics on', 'allowed_feature_types': ['CATEGORICAL'], 'multiple': True, 'required': False}, 'IGNORE': {'description': 'Ignore this column in training', 'multiple': True, 'required': False}},\n",
       "   allowed_nested_feature_mappings=None)]"
      ]
     },
     "execution_count": 35,
     "metadata": {},
     "output_type": "execute_result"
    }
   ],
   "source": [
    "client.describe_use_case_requirements(byoa_project.use_case)"
   ]
  },
  {
   "cell_type": "markdown",
   "id": "88639ef4-0325-4f77-9702-885d48420224",
   "metadata": {
    "execution": {
     "iopub.execute_input": "2022-11-15T04:16:28.735524Z",
     "iopub.status.busy": "2022-11-15T04:16:28.735215Z",
     "iopub.status.idle": "2022-11-15T04:16:28.738083Z",
     "shell.execute_reply": "2022-11-15T04:16:28.737510Z",
     "shell.execute_reply.started": "2022-11-15T04:16:28.735506Z"
    }
   },
   "source": [
    "### With feature mapping requirements known, we set a target"
   ]
  },
  {
   "cell_type": "code",
   "execution_count": 36,
   "id": "459eb241-ad0a-4869-9b83-8eb5cb7fd5fd",
   "metadata": {
    "execution": {
     "iopub.execute_input": "2023-03-07T18:12:37.624987Z",
     "iopub.status.busy": "2023-03-07T18:12:37.624415Z",
     "iopub.status.idle": "2023-03-07T18:12:37.761805Z",
     "shell.execute_reply": "2023-03-07T18:12:37.761342Z",
     "shell.execute_reply.started": "2023-03-07T18:12:37.624964Z"
    },
    "tags": []
   },
   "outputs": [
    {
     "data": {
      "text/plain": [
       "[Feature(name='cement',\n",
       "   select_clause=None,\n",
       "   feature_mapping=None,\n",
       "   source_table='csabaconcrete_transform_fg',\n",
       "   original_name=None,\n",
       "   using_clause=None,\n",
       "   order_clause=None,\n",
       "   where_clause=None,\n",
       "   feature_type='NUMERICAL',\n",
       "   data_type='FLOAT',\n",
       "   detected_feature_type='NUMERICAL',\n",
       "   detected_data_type=None,\n",
       "   columns=None,\n",
       "   point_in_time_info=None),\n",
       " Feature(name='slag',\n",
       "   select_clause=None,\n",
       "   feature_mapping=None,\n",
       "   source_table='csabaconcrete_transform_fg',\n",
       "   original_name=None,\n",
       "   using_clause=None,\n",
       "   order_clause=None,\n",
       "   where_clause=None,\n",
       "   feature_type='NUMERICAL',\n",
       "   data_type='FLOAT',\n",
       "   detected_feature_type='NUMERICAL',\n",
       "   detected_data_type=None,\n",
       "   columns=None,\n",
       "   point_in_time_info=None),\n",
       " Feature(name='water',\n",
       "   select_clause=None,\n",
       "   feature_mapping=None,\n",
       "   source_table='csabaconcrete_transform_fg',\n",
       "   original_name=None,\n",
       "   using_clause=None,\n",
       "   order_clause=None,\n",
       "   where_clause=None,\n",
       "   feature_type='NUMERICAL',\n",
       "   data_type='FLOAT',\n",
       "   detected_feature_type='NUMERICAL',\n",
       "   detected_data_type=None,\n",
       "   columns=None,\n",
       "   point_in_time_info=None),\n",
       " Feature(name='superplasticizer',\n",
       "   select_clause=None,\n",
       "   feature_mapping=None,\n",
       "   source_table='csabaconcrete_transform_fg',\n",
       "   original_name=None,\n",
       "   using_clause=None,\n",
       "   order_clause=None,\n",
       "   where_clause=None,\n",
       "   feature_type='NUMERICAL',\n",
       "   data_type='FLOAT',\n",
       "   detected_feature_type='NUMERICAL',\n",
       "   detected_data_type=None,\n",
       "   columns=None,\n",
       "   point_in_time_info=None),\n",
       " Feature(name='coarseaggregate',\n",
       "   select_clause=None,\n",
       "   feature_mapping=None,\n",
       "   source_table='csabaconcrete_transform_fg',\n",
       "   original_name=None,\n",
       "   using_clause=None,\n",
       "   order_clause=None,\n",
       "   where_clause=None,\n",
       "   feature_type='NUMERICAL',\n",
       "   data_type='FLOAT',\n",
       "   detected_feature_type='NUMERICAL',\n",
       "   detected_data_type=None,\n",
       "   columns=None,\n",
       "   point_in_time_info=None),\n",
       " Feature(name='fineaggregate',\n",
       "   select_clause=None,\n",
       "   feature_mapping=None,\n",
       "   source_table='csabaconcrete_transform_fg',\n",
       "   original_name=None,\n",
       "   using_clause=None,\n",
       "   order_clause=None,\n",
       "   where_clause=None,\n",
       "   feature_type='NUMERICAL',\n",
       "   data_type='FLOAT',\n",
       "   detected_feature_type='NUMERICAL',\n",
       "   detected_data_type=None,\n",
       "   columns=None,\n",
       "   point_in_time_info=None),\n",
       " Feature(name='age',\n",
       "   select_clause=None,\n",
       "   feature_mapping=None,\n",
       "   source_table='csabaconcrete_transform_fg',\n",
       "   original_name=None,\n",
       "   using_clause=None,\n",
       "   order_clause=None,\n",
       "   where_clause=None,\n",
       "   feature_type='NUMERICAL',\n",
       "   data_type='FLOAT',\n",
       "   detected_feature_type='NUMERICAL',\n",
       "   detected_data_type=None,\n",
       "   columns=None,\n",
       "   point_in_time_info=None),\n",
       " Feature(name='csMPa',\n",
       "   select_clause=None,\n",
       "   feature_mapping='TARGET',\n",
       "   source_table='csabaconcrete_transform_fg',\n",
       "   original_name=None,\n",
       "   using_clause=None,\n",
       "   order_clause=None,\n",
       "   where_clause=None,\n",
       "   feature_type='NUMERICAL',\n",
       "   data_type='FLOAT',\n",
       "   detected_feature_type='NUMERICAL',\n",
       "   detected_data_type=None,\n",
       "   columns=None,\n",
       "   point_in_time_info=None),\n",
       " Feature(name='TRAINTEST',\n",
       "   select_clause=None,\n",
       "   feature_mapping=None,\n",
       "   source_table=None,\n",
       "   original_name=None,\n",
       "   using_clause=None,\n",
       "   order_clause=None,\n",
       "   where_clause=None,\n",
       "   feature_type='CATEGORICAL',\n",
       "   data_type='STRING',\n",
       "   detected_feature_type='CATEGORICAL',\n",
       "   detected_data_type=None,\n",
       "   columns=None,\n",
       "   point_in_time_info=None)]"
      ]
     },
     "execution_count": 36,
     "metadata": {},
     "output_type": "execute_result"
    }
   ],
   "source": [
    "byoa_project.set_feature_mapping(\n",
    "    data_split_fg.id, feature_name=\"csMPa\", feature_mapping=\"TARGET\"\n",
    ")"
   ]
  },
  {
   "cell_type": "markdown",
   "id": "b0a12eaf-30a2-49db-8bf1-344328fed739",
   "metadata": {
    "execution": {
     "iopub.execute_input": "2022-11-15T04:19:13.826946Z",
     "iopub.status.busy": "2022-11-15T04:19:13.826406Z",
     "iopub.status.idle": "2022-11-15T04:19:13.829159Z",
     "shell.execute_reply": "2022-11-15T04:19:13.828725Z",
     "shell.execute_reply.started": "2022-11-15T04:19:13.826928Z"
    }
   },
   "source": [
    "### Validate the project and feature groups to ensure we're ready to train a model"
   ]
  },
  {
   "cell_type": "code",
   "execution_count": 37,
   "id": "4e4d20c4-6af3-4e40-9f6b-55d1a51e980d",
   "metadata": {
    "execution": {
     "iopub.execute_input": "2023-03-07T18:12:40.518733Z",
     "iopub.status.busy": "2023-03-07T18:12:40.518182Z",
     "iopub.status.idle": "2023-03-07T18:12:40.635768Z",
     "shell.execute_reply": "2023-03-07T18:12:40.635260Z",
     "shell.execute_reply.started": "2023-03-07T18:12:40.518708Z"
    },
    "tags": []
   },
   "outputs": [
    {
     "data": {
      "text/plain": [
       "ProjectValidation(valid=True,\n",
       "  dataset_errors=[],\n",
       "  column_hints={})"
      ]
     },
     "execution_count": 37,
     "metadata": {},
     "output_type": "execute_result"
    }
   ],
   "source": [
    "byoa_project.validate(feature_group_ids=[data_split_fg.id])"
   ]
  },
  {
   "cell_type": "markdown",
   "id": "4d8fd9cf-ff8d-49ac-a147-72ec5c8fa361",
   "metadata": {},
   "source": [
    "### The client is self documenting, we can view the possible training options"
   ]
  },
  {
   "cell_type": "code",
   "execution_count": 38,
   "id": "cc25aef1-274e-4d6d-a5af-8a73a920b637",
   "metadata": {
    "execution": {
     "iopub.execute_input": "2023-03-07T18:12:43.754905Z",
     "iopub.status.busy": "2023-03-07T18:12:43.754481Z",
     "iopub.status.idle": "2023-03-07T18:12:43.955749Z",
     "shell.execute_reply": "2023-03-07T18:12:43.955354Z",
     "shell.execute_reply.started": "2023-03-07T18:12:43.754887Z"
    },
    "tags": []
   },
   "outputs": [
    {
     "data": {
      "text/plain": [
       "[TrainingConfigOptions(name='GROUP_DESCRIPTION_DATA_SPLIT',\n",
       "   data_type='CONSTANT',\n",
       "   value_type=None,\n",
       "   value_options=None,\n",
       "   value=None,\n",
       "   default='During the process of training a model, we split the data into 2 chunks - Train and Test data. Test data is further split into Test_Val (Test.Test_Val) and Test (Test.Test) data. The following configuration helps you decide what goes into each of these splits',\n",
       "   options={'showLabel': False, 'newLine': True, 'oneColumn': True},\n",
       "   description=None,\n",
       "   required=None,\n",
       "   last_model_value=None,\n",
       "   needs_refresh=None),\n",
       " TrainingConfigOptions(name='GROUP_DESCRIPTION_FEATURES_AND_COLUMNS',\n",
       "   data_type='CONSTANT',\n",
       "   value_type=None,\n",
       "   value_options=None,\n",
       "   value=None,\n",
       "   default='Configure features & columns for training',\n",
       "   options={'showLabel': False, 'newLine': True, 'oneColumn': True},\n",
       "   description=None,\n",
       "   required=None,\n",
       "   last_model_value=None,\n",
       "   needs_refresh=None),\n",
       " TrainingConfigOptions(name='GROUP_DESCRIPTION_DATA_AUGMENTATION',\n",
       "   data_type='CONSTANT',\n",
       "   value_type=None,\n",
       "   value_options=None,\n",
       "   value=None,\n",
       "   default='Augment training data',\n",
       "   options={'showLabel': False, 'newLine': True, 'oneColumn': True},\n",
       "   description=None,\n",
       "   required=None,\n",
       "   last_model_value=None,\n",
       "   needs_refresh=None),\n",
       " TrainingConfigOptions(name='GROUP_DESCRIPTION_NEURAL_NETWORK',\n",
       "   data_type='CONSTANT',\n",
       "   value_type=None,\n",
       "   value_options=None,\n",
       "   value=None,\n",
       "   default='Configure neural network, hyperparameters etc.',\n",
       "   options={'showLabel': False, 'newLine': True, 'oneColumn': True},\n",
       "   description=None,\n",
       "   required=None,\n",
       "   last_model_value=None,\n",
       "   needs_refresh=None),\n",
       " TrainingConfigOptions(name='GROUP_DESCRIPTION_LOSS_FUNCTION',\n",
       "   data_type='CONSTANT',\n",
       "   value_type=None,\n",
       "   value_options=None,\n",
       "   value=None,\n",
       "   default='Decide what loss function you want to use',\n",
       "   options={'showLabel': False, 'newLine': True, 'oneColumn': True},\n",
       "   description=None,\n",
       "   required=None,\n",
       "   last_model_value=None,\n",
       "   needs_refresh=None),\n",
       " TrainingConfigOptions(name='GROUP_DESCRIPTION_METRICS',\n",
       "   data_type='CONSTANT',\n",
       "   value_type=None,\n",
       "   value_options=None,\n",
       "   value=None,\n",
       "   default='Add custom metrics to evaluate your model',\n",
       "   options={'showLabel': False, 'newLine': True, 'oneColumn': True},\n",
       "   description=None,\n",
       "   required=None,\n",
       "   last_model_value=None,\n",
       "   needs_refresh=None),\n",
       " TrainingConfigOptions(name='TEST_SPLIT',\n",
       "   data_type='INTEGER',\n",
       "   value_type=None,\n",
       "   value_options=None,\n",
       "   value=None,\n",
       "   default=10,\n",
       "   options={'range': [5, 20]},\n",
       "   description='Percent of dataset to use for test data. We support using a range between 5% to 20% of your dataset to use as test data.',\n",
       "   required=None,\n",
       "   last_model_value=None,\n",
       "   needs_refresh=None),\n",
       " TrainingConfigOptions(name='OBJECTIVE',\n",
       "   data_type='ENUM',\n",
       "   value_type=None,\n",
       "   value_options=None,\n",
       "   value=None,\n",
       "   default=None,\n",
       "   options={'names': ['MAE - Mean Absolute Error', 'MAPE - Mean Absolute Percentage Error', 'WAPE - Weighted Absolute Percentage Error', 'RMSE - Root Mean Squared Error', 'R^2 - Coefficient of Determination'], 'values': ['mae', 'mape', 'wape', 'rmse', 'r^2']},\n",
       "   description='Ranking scheme used to select final best model.',\n",
       "   required=None,\n",
       "   last_model_value=None,\n",
       "   needs_refresh=None),\n",
       " TrainingConfigOptions(name='DISABLE_TEST_VAL_FOLD',\n",
       "   data_type='BOOLEAN',\n",
       "   value_type=None,\n",
       "   value_options=None,\n",
       "   value=None,\n",
       "   default=None,\n",
       "   options=None,\n",
       "   description='Do not create a TEST_VAL set. All records which would be part of the TEST_VAL fold otherwise, remain in the TEST fold.',\n",
       "   required=None,\n",
       "   last_model_value=None,\n",
       "   needs_refresh=None),\n",
       " TrainingConfigOptions(name='K_FOLD_CROSS_VALIDATION',\n",
       "   data_type='BOOLEAN',\n",
       "   value_type=None,\n",
       "   value_options=None,\n",
       "   value=None,\n",
       "   default=None,\n",
       "   options=None,\n",
       "   description='Use this to force k-fold cross validation bagging on or off',\n",
       "   required=None,\n",
       "   last_model_value=None,\n",
       "   needs_refresh=None),\n",
       " TrainingConfigOptions(name='NUM_CV_FOLDS',\n",
       "   data_type='INTEGER',\n",
       "   value_type=None,\n",
       "   value_options=None,\n",
       "   value=None,\n",
       "   default=None,\n",
       "   options={'range': [2, 10], 'step': 1},\n",
       "   description='Specify the value of k in k-fold cross validation',\n",
       "   required=None,\n",
       "   last_model_value=None,\n",
       "   needs_refresh=None),\n",
       " TrainingConfigOptions(name='SAMPLING_UNIT_KEYS',\n",
       "   data_type='ENUM_TAGS',\n",
       "   value_type=None,\n",
       "   value_options=None,\n",
       "   value=None,\n",
       "   default=None,\n",
       "   options={'names': ['TRAINTEST'], 'values': ['TRAINTEST'], 'showItemId': True, 'newLine': True, 'oneColumn': True},\n",
       "   description='Constrain train/test separation to partition a column.',\n",
       "   required=None,\n",
       "   last_model_value=None,\n",
       "   needs_refresh=None),\n",
       " TrainingConfigOptions(name='TEST_ROW_INDICATOR',\n",
       "   data_type='ENUM',\n",
       "   value_type=None,\n",
       "   value_options=None,\n",
       "   value=None,\n",
       "   default=None,\n",
       "   options={'values': ['TRAINTEST']},\n",
       "   description='Column indicating which rows to use for training (TRAIN) and testing (TEST).',\n",
       "   required=None,\n",
       "   last_model_value=None,\n",
       "   needs_refresh=None),\n",
       " TrainingConfigOptions(name='TRAINING_ROWS_DOWNSAMPLE_RATIO',\n",
       "   data_type='DECIMAL',\n",
       "   value_type=None,\n",
       "   value_options=None,\n",
       "   value=None,\n",
       "   default=None,\n",
       "   options={'range': [0.01, 0.9]},\n",
       "   description='Uses this ratio to train on a sample of the dataset provided.',\n",
       "   required=None,\n",
       "   last_model_value=None,\n",
       "   needs_refresh=None),\n",
       " TrainingConfigOptions(name='MIN_CATEGORICAL_COUNT',\n",
       "   data_type='INTEGER',\n",
       "   value_type=None,\n",
       "   value_options=None,\n",
       "   value=None,\n",
       "   default=None,\n",
       "   options={'range': [1, 100], 'step': 5},\n",
       "   description='Minimum threshold to consider a value different from the unknown placeholder.',\n",
       "   required=None,\n",
       "   last_model_value=None,\n",
       "   needs_refresh=None),\n",
       " TrainingConfigOptions(name='SAMPLE_WEIGHT',\n",
       "   data_type='ENUM',\n",
       "   value_type=None,\n",
       "   value_options=None,\n",
       "   value=None,\n",
       "   default=None,\n",
       "   options={'values': ['cement', 'slag', 'water', 'superplasticizer', 'coarseaggregate', 'fineaggregate', 'age']},\n",
       "   description='Specify a column to use as the weight of a sample for training and eval.',\n",
       "   required=None,\n",
       "   last_model_value=None,\n",
       "   needs_refresh=None),\n",
       " TrainingConfigOptions(name='NUMERIC_CLIPPING_PERCENTILE',\n",
       "   data_type='DECIMAL',\n",
       "   value_type=None,\n",
       "   value_options=None,\n",
       "   value=None,\n",
       "   default=None,\n",
       "   options={'range': [0.0, 15.0]},\n",
       "   description='Uses this option to exclude the top and bottom x percentile of numeric columns where x is the value of this option',\n",
       "   required=None,\n",
       "   last_model_value=None,\n",
       "   needs_refresh=None),\n",
       " TrainingConfigOptions(name='TARGET_TRANSFORM',\n",
       "   data_type='ENUM',\n",
       "   value_type=None,\n",
       "   value_options=None,\n",
       "   value=None,\n",
       "   default=None,\n",
       "   options={'values': ['log', 'quantile', 'yeo-johnson', 'box-cox']},\n",
       "   description='Specify a transform (e.g. log, quantile) to apply to the target variable',\n",
       "   required=None,\n",
       "   last_model_value=None,\n",
       "   needs_refresh=None),\n",
       " TrainingConfigOptions(name='IGNORE_DATETIME_FEATURES',\n",
       "   data_type='BOOLEAN',\n",
       "   value_type=None,\n",
       "   value_options=None,\n",
       "   value=None,\n",
       "   default=False,\n",
       "   options={'showAutomaticForBoolean': True},\n",
       "   description='Remove all datetime features from the model. Useful while generalizing to different time periods',\n",
       "   required=None,\n",
       "   last_model_value=None,\n",
       "   needs_refresh=None),\n",
       " TrainingConfigOptions(name='MAX_TEXT_WORDS',\n",
       "   data_type='INTEGER',\n",
       "   value_type=None,\n",
       "   value_options=None,\n",
       "   value=None,\n",
       "   default=None,\n",
       "   options={'range': [100, 1000]},\n",
       "   description='Maximum number of words to use from text fields.',\n",
       "   required=None,\n",
       "   last_model_value=None,\n",
       "   needs_refresh=None),\n",
       " TrainingConfigOptions(name='PERFORM_FEATURE_SELECTION',\n",
       "   data_type='BOOLEAN',\n",
       "   value_type=None,\n",
       "   value_options=None,\n",
       "   value=None,\n",
       "   default=True,\n",
       "   options=None,\n",
       "   description='If enabled, additional algorithms which support feature selection as a pretraining step will be trained separately with the selected subset of features. The details about their selected features can be found in their respective logs.',\n",
       "   required=None,\n",
       "   last_model_value=None,\n",
       "   needs_refresh=None),\n",
       " TrainingConfigOptions(name='FEATURE_SELECTION_INTENSITY',\n",
       "   data_type='INTEGER',\n",
       "   value_type=None,\n",
       "   value_options=None,\n",
       "   value=None,\n",
       "   default=75,\n",
       "   options={'isVisible': {'PERFORM_FEATURE_SELECTION': True}, 'range': [1, 100]},\n",
       "   description='This determines the strictness with which features will be filtered out. 1 being very lenient (more features kept), 100 being very strict.',\n",
       "   required=None,\n",
       "   last_model_value=None,\n",
       "   needs_refresh=None),\n",
       " TrainingConfigOptions(name='BATCH_SIZE',\n",
       "   data_type='ENUM',\n",
       "   value_type=None,\n",
       "   value_options=None,\n",
       "   value=None,\n",
       "   default=None,\n",
       "   options={'values': [8, 16, 32, 64, 128, 256, 384, 512, 740, 1024]},\n",
       "   description='Batch size.',\n",
       "   required=None,\n",
       "   last_model_value=None,\n",
       "   needs_refresh=None),\n",
       " TrainingConfigOptions(name='DROPOUT_RATE',\n",
       "   data_type='INTEGER',\n",
       "   value_type=None,\n",
       "   value_options=None,\n",
       "   value=None,\n",
       "   default=None,\n",
       "   options={'range': [0, 90]},\n",
       "   description='Dropout percentage rate.',\n",
       "   required=None,\n",
       "   last_model_value=None,\n",
       "   needs_refresh=None),\n",
       " TrainingConfigOptions(name='LOSS_FUNCTION',\n",
       "   data_type='ENUM',\n",
       "   value_type=None,\n",
       "   value_options=None,\n",
       "   value=None,\n",
       "   default='Automatic',\n",
       "   options={'values': ['Automatic', 'Custom', 'Huber', 'Mean Squared Error', 'Mean Absolute Error', 'Mean Absolute Percentage Error', 'Mean Squared Logarithmic Error']},\n",
       "   description='Loss function to be used as objective for model training.',\n",
       "   required=None,\n",
       "   last_model_value=None,\n",
       "   needs_refresh=None),\n",
       " TrainingConfigOptions(name='LOSS_PARAMETERS',\n",
       "   data_type='STRING',\n",
       "   value_type=None,\n",
       "   value_options=None,\n",
       "   value=None,\n",
       "   default='',\n",
       "   options={'isHidden': {'LOSS_FUNCTION': ['Automatic', 'Custom']}},\n",
       "   description='Loss function params in format <key>=<value>;<key>=<value>;.....',\n",
       "   required=None,\n",
       "   last_model_value=None,\n",
       "   needs_refresh=None),\n",
       " TrainingConfigOptions(name='CUSTOM_LOSS_FUNCTIONS',\n",
       "   data_type='ENUM_TAGS',\n",
       "   value_type=None,\n",
       "   value_options=None,\n",
       "   value=None,\n",
       "   default=None,\n",
       "   options={'names': [], 'values': [], 'addName': 'Add Loss', 'showItemId': True, 'isVisible': {'LOSS_FUNCTION': 'Custom'}},\n",
       "   description='Registered custom losses available for selection',\n",
       "   required=None,\n",
       "   last_model_value=None,\n",
       "   needs_refresh=None),\n",
       " TrainingConfigOptions(name='CUSTOM_METRICS',\n",
       "   data_type='ENUM_TAGS',\n",
       "   value_type=None,\n",
       "   value_options=None,\n",
       "   value=None,\n",
       "   default=None,\n",
       "   options={'names': [], 'values': [], 'addName': 'Add Metric', 'showItemId': True},\n",
       "   description='Registered custom metrics available for selection',\n",
       "   required=None,\n",
       "   last_model_value=None,\n",
       "   needs_refresh=None)]"
      ]
     },
     "execution_count": 38,
     "metadata": {},
     "output_type": "execute_result"
    }
   ],
   "source": [
    "client.get_training_config_options(byoa_project.id, [data_split_fg.id])"
   ]
  },
  {
   "cell_type": "markdown",
   "id": "64372efb-199a-4442-94a9-f38b2827d9a2",
   "metadata": {
    "execution": {
     "iopub.execute_input": "2022-11-15T04:25:49.090601Z",
     "iopub.status.busy": "2022-11-15T04:25:49.089999Z",
     "iopub.status.idle": "2022-11-15T04:25:49.092724Z",
     "shell.execute_reply": "2022-11-15T04:25:49.092312Z",
     "shell.execute_reply.started": "2022-11-15T04:25:49.090581Z"
    }
   },
   "source": [
    "## Simulate running on Abacus locally\n",
    "We leverage specifically designed APIs to replicate how Abacus will pass input parameters to our training function to test locally. We can pass both Abacus and User configurations to our model"
   ]
  },
  {
   "cell_type": "code",
   "execution_count": 39,
   "id": "9fd721ba-46dd-442f-866a-aeaa069cc1ff",
   "metadata": {
    "execution": {
     "iopub.execute_input": "2023-03-07T18:12:46.575594Z",
     "iopub.status.busy": "2023-03-07T18:12:46.575096Z",
     "iopub.status.idle": "2023-03-07T18:12:46.578838Z",
     "shell.execute_reply": "2023-03-07T18:12:46.578413Z",
     "shell.execute_reply.started": "2023-03-07T18:12:46.575575Z"
    },
    "tags": []
   },
   "outputs": [
    {
     "name": "stdout",
     "output_type": "stream",
     "text": [
      "{'TEST_ROW_INDICATOR': 'TRAINTEST', 'USER': {'n_quantiles': 20}}\n"
     ]
    }
   ],
   "source": [
    "training_table_names = [data_split_fg.table_name]\n",
    "abacus_ai_config = {\"TEST_ROW_INDICATOR\": \"TRAINTEST\"}\n",
    "user_config = {\"n_quantiles\": 20}\n",
    "import copy\n",
    "\n",
    "training_config = copy.deepcopy(abacus_ai_config)\n",
    "training_config.update({\"USER\": user_config})\n",
    "print(training_config)\n",
    "# Change the value of the parameter names if preferred, and don't forget to change in train_func as well.\n",
    "training_data_parameter_name_override = {\"CUSTOM_TABLE\": \"training_data\"}\n",
    "training_config_parameter_name_override = \"training_config\""
   ]
  },
  {
   "cell_type": "markdown",
   "id": "90a9ae8e-f8c1-4ac2-8927-c454b3c04bba",
   "metadata": {
    "execution": {
     "iopub.execute_input": "2022-11-15T04:27:24.984103Z",
     "iopub.status.busy": "2022-11-15T04:27:24.983410Z",
     "iopub.status.idle": "2022-11-15T04:27:24.986214Z",
     "shell.execute_reply": "2022-11-15T04:27:24.985777Z",
     "shell.execute_reply.started": "2022-11-15T04:27:24.984084Z"
    }
   },
   "source": [
    "### We manipulate the train function to fit the Abacus framework\n",
    "And train locally"
   ]
  },
  {
   "cell_type": "code",
   "execution_count": 40,
   "id": "a1e876d2-75c3-4c3e-8096-81227f5690ae",
   "metadata": {
    "execution": {
     "iopub.execute_input": "2023-03-07T18:12:49.381066Z",
     "iopub.status.busy": "2023-03-07T18:12:49.380492Z",
     "iopub.status.idle": "2023-03-07T18:12:49.385358Z",
     "shell.execute_reply": "2023-03-07T18:12:49.384910Z",
     "shell.execute_reply.started": "2023-03-07T18:12:49.381044Z"
    },
    "tags": []
   },
   "outputs": [],
   "source": [
    "def byoa_train(training_data, schema_mappings, training_config):\n",
    "    import numpy as np\n",
    "\n",
    "    train_test_column = training_config.get(\"TEST_ROW_INDICATOR\", None)\n",
    "    user_defined_config = training_config.get(\"USER\")\n",
    "    n_quantiles = user_defined_config.get(\"n_quantiles\")\n",
    "\n",
    "    # set the seed for reproduceable results\n",
    "    np.random.seed(5)\n",
    "\n",
    "    target_columns = schema_mappings[\"training_data\"].get(\"TARGET\", [])\n",
    "    assert target_columns, \"No target column provided\"\n",
    "    ignore_columns = schema_mappings[\"training_data\"].get(\"IGNORE\", [])\n",
    "    drop_columns = target_columns + ignore_columns\n",
    "    drop_columns.append(train_test_column)\n",
    "    X = training_data.drop(drop_columns, axis=1).copy()\n",
    "    y = training_data[target_columns]\n",
    "    from sklearn.linear_model import LinearRegression\n",
    "    from sklearn.preprocessing import QuantileTransformer\n",
    "\n",
    "    qt = QuantileTransformer(n_quantiles=n_quantiles)\n",
    "    linear_regresion = LinearRegression()\n",
    "    linear_regresion.fit(qt.fit_transform(X), y)\n",
    "    print(f\"Linear model R^2 = {linear_regresion.score(qt.transform(X), y)}\")\n",
    "\n",
    "    return (X.columns, target_columns[0], qt, linear_regresion)"
   ]
  },
  {
   "cell_type": "code",
   "execution_count": 41,
   "id": "80d895c6-7242-461f-826a-768d0fe05e27",
   "metadata": {
    "execution": {
     "iopub.execute_input": "2023-03-07T18:12:53.893076Z",
     "iopub.status.busy": "2023-03-07T18:12:53.892505Z",
     "iopub.status.idle": "2023-03-07T18:12:56.345118Z",
     "shell.execute_reply": "2023-03-07T18:12:56.344618Z",
     "shell.execute_reply.started": "2023-03-07T18:12:53.893056Z"
    },
    "tags": []
   },
   "outputs": [
    {
     "name": "stdout",
     "output_type": "stream",
     "text": [
      "Linear model R^2 = 0.9114936771485455\n"
     ]
    }
   ],
   "source": [
    "# This currently returns the full data for local testing, but on remote training, only the training rows are sent to the train_functin.\n",
    "train_input = client.get_train_function_input(\n",
    "    project_id=byoa_project.project_id,\n",
    "    training_table_names=training_table_names,\n",
    "    training_data_parameter_name_override=training_data_parameter_name_override,\n",
    "    training_config_parameter_name_override=training_config_parameter_name_override,\n",
    "    training_config=training_config,\n",
    ")\n",
    "# You can also override with any dataframe for local testing.\n",
    "model_input_table = data_split_fg.latest_feature_group_version.load_as_pandas()\n",
    "train_input[\"training_data\"] = model_input_table.loc[\n",
    "    model_input_table[\"TRAINTEST\"] == \"TRAIN\"\n",
    "]\n",
    "local_model = byoa_train(**train_input)"
   ]
  },
  {
   "cell_type": "markdown",
   "id": "ca3e4c1d-27d4-4268-9213-99a613d27625",
   "metadata": {
    "execution": {
     "iopub.execute_input": "2022-11-15T04:29:25.052917Z",
     "iopub.status.busy": "2022-11-15T04:29:25.052451Z",
     "iopub.status.idle": "2022-11-15T04:29:25.055184Z",
     "shell.execute_reply": "2022-11-15T04:29:25.054744Z",
     "shell.execute_reply.started": "2022-11-15T04:29:25.052898Z"
    }
   },
   "source": [
    "### Similarly, we define a predict many function and test"
   ]
  },
  {
   "cell_type": "code",
   "execution_count": 42,
   "id": "0ffdcae7-331c-4dea-8b76-733344790e45",
   "metadata": {
    "execution": {
     "iopub.execute_input": "2023-03-07T18:12:59.661125Z",
     "iopub.status.busy": "2023-03-07T18:12:59.660552Z",
     "iopub.status.idle": "2023-03-07T18:12:59.664304Z",
     "shell.execute_reply": "2023-03-07T18:12:59.663862Z",
     "shell.execute_reply.started": "2023-03-07T18:12:59.661103Z"
    },
    "tags": []
   },
   "outputs": [],
   "source": [
    "def byoa_predict_many(model, queries):\n",
    "    columns, target_column, qt, linear_model = model\n",
    "    import pandas as pd\n",
    "\n",
    "    result = []\n",
    "    for query in queries:\n",
    "        X = pd.DataFrame({c: [query[c]] for c in columns})\n",
    "        y = linear_model.predict(qt.transform(X))[0]\n",
    "        result.append({target_column: y[0]})\n",
    "    return result"
   ]
  },
  {
   "cell_type": "code",
   "execution_count": 43,
   "id": "2a88587c-e775-41b4-b046-d922b3b778be",
   "metadata": {
    "execution": {
     "iopub.execute_input": "2023-03-07T18:13:01.692910Z",
     "iopub.status.busy": "2023-03-07T18:13:01.692484Z",
     "iopub.status.idle": "2023-03-07T18:13:01.803350Z",
     "shell.execute_reply": "2023-03-07T18:13:01.802947Z",
     "shell.execute_reply.started": "2023-03-07T18:13:01.692890Z"
    },
    "tags": []
   },
   "outputs": [
    {
     "data": {
      "text/plain": [
       "[{'csMPa': 37.697797557944256},\n",
       " {'csMPa': 47.571887792434},\n",
       " {'csMPa': 64.70979460520971},\n",
       " {'csMPa': 43.66334359567851},\n",
       " {'csMPa': 13.843112761580656}]"
      ]
     },
     "execution_count": 43,
     "metadata": {},
     "output_type": "execute_result"
    }
   ],
   "source": [
    "prediction_results = byoa_predict_many(\n",
    "    local_model, concrete_prediction_data.to_dict(orient=\"records\")\n",
    ")\n",
    "prediction_results[:5]"
   ]
  },
  {
   "cell_type": "markdown",
   "id": "3e074580-45d3-4c0b-ac31-19c9be9c61c1",
   "metadata": {},
   "source": [
    "# Registering the Algorithm\n",
    "We can register an algorithm at the project or organization level, but the name must always be all caps and begin with 'USER.'"
   ]
  },
  {
   "cell_type": "code",
   "execution_count": 45,
   "id": "81ca7cde-b8ff-4676-b7f0-3d8ac9b510ae",
   "metadata": {
    "execution": {
     "iopub.execute_input": "2023-03-07T18:24:41.844608Z",
     "iopub.status.busy": "2023-03-07T18:24:41.844165Z",
     "iopub.status.idle": "2023-03-07T18:24:41.847360Z",
     "shell.execute_reply": "2023-03-07T18:24:41.846807Z",
     "shell.execute_reply.started": "2023-03-07T18:24:41.844586Z"
    },
    "tags": []
   },
   "outputs": [],
   "source": [
    "algorithm_scope = \"project\"\n",
    "algorithm_name = \"USER.CSABA\"\n",
    "assert algorithm_name.split(\".\")[1], \"Please provide an ALLCAPS name for your algorithm\""
   ]
  },
  {
   "cell_type": "code",
   "execution_count": 46,
   "id": "7a9c5f95-0e0a-4477-9298-7a4712477714",
   "metadata": {
    "execution": {
     "iopub.execute_input": "2023-03-07T18:24:43.525333Z",
     "iopub.status.busy": "2023-03-07T18:24:43.525032Z",
     "iopub.status.idle": "2023-03-07T18:24:43.755103Z",
     "shell.execute_reply": "2023-03-07T18:24:43.754538Z",
     "shell.execute_reply.started": "2023-03-07T18:24:43.525314Z"
    },
    "tags": []
   },
   "outputs": [
    {
     "data": {
      "text/plain": [
       "Algorithm(name='USER.CSABA',\n",
       "  problem_type='REGRESSION',\n",
       "  created_at='2023-03-07T18:24:43+00:00',\n",
       "  updated_at='2023-03-07T18:24:43+00:00',\n",
       "  is_default_enabled=False,\n",
       "  training_input_mappings={'training_config_parameter_name': 'training_config', 'training_data_parameter_names_mapping': {'CUSTOM_TABLE': 'training_data'}},\n",
       "  train_function_name='byoa_train',\n",
       "  predict_function_name=None,\n",
       "  predict_many_function_name='byoa_predict_many',\n",
       "  initialize_function_name=None,\n",
       "  config_options=None,\n",
       "  algorithm_id='USER.CSABA',\n",
       "  use_gpu=False,\n",
       "  code_source=CodeSource(source_type='TEXT',\n",
       "  source_code='def byoa_train(training_data, schema_mappings, training_config):\\n    import numpy as np\\n\\n    train_test_column = training_config.get(\"TEST_ROW_INDICATOR\", None)\\n    user_defined_config = training_config.get(\"USER\")\\n    n_quantiles = user_defined_config.get(\"n_quantiles\")\\n\\n    # set the seed for reproduceable results\\n    np.random.seed(5)\\n\\n    target_columns = schema_mappings[\"training_data\"].get(\"TARGET\", [])\\n    assert target_columns, \"No target column provided\"\\n    ignore_columns = schema_mappings[\"training_data\"].get(\"IGNORE\", [])\\n    drop_columns = target_columns + ignore_columns\\n    drop_columns.append(train_test_column)\\n    X = training_data.drop(drop_columns, axis=1).copy()\\n    y = training_data[target_columns]\\n    from sklearn.linear_model import LinearRegression\\n    from sklearn.preprocessing import QuantileTransformer\\n\\n    qt = QuantileTransformer(n_quantiles=n_quantiles)\\n    linear_regresion = LinearRegression()\\n    linear_regresion.fit(qt.fit_transform(X), y)\\n    print(f\"Linear model R^2 = {linear_regresion.score(qt.transform(X), y)}\")\\n\\n    return (X.columns, target_columns[0], qt, linear_regresion)\\n\\n\\ndef byoa_predict_many(model, queries):\\n    columns, target_column, qt, linear_model = model\\n    import pandas as pd\\n\\n    result = []\\n    for query in queries:\\n        X = pd.DataFrame({c: [query[c]] for c in columns})\\n        y = linear_model.predict(qt.transform(X))[0]\\n        result.append({target_column: y[0]})\\n    return result\\n',\n",
       "  application_connector_id=None,\n",
       "  application_connector_info=None,\n",
       "  package_requirements=None,\n",
       "  status='PENDING',\n",
       "  error=None,\n",
       "  publishing_msg=None))"
      ]
     },
     "execution_count": 46,
     "metadata": {},
     "output_type": "execute_result"
    }
   ],
   "source": [
    "try:\n",
    "    byoa_algorithm = client.create_algorithm_from_function(\n",
    "        name=algorithm_name,\n",
    "        problem_type=\"REGRESSION\",\n",
    "        training_data_parameter_names_mapping=training_data_parameter_name_override,\n",
    "        training_config_parameter_name=training_config_parameter_name_override,\n",
    "        train_function=byoa_train,\n",
    "        predict_many_function=byoa_predict_many,\n",
    "    )\n",
    "except ApiException as e:\n",
    "    print(e)\n",
    "    byoa_algorithm = client.describe_algorithm(algorithm_name)\n",
    "byoa_algorithm"
   ]
  },
  {
   "cell_type": "markdown",
   "id": "5b028c91-7913-4a5f-841d-cf9ecf6b3f68",
   "metadata": {},
   "source": [
    "### With a registered Algorithm, we train our model, passing Abacus and User configs"
   ]
  },
  {
   "cell_type": "code",
   "execution_count": 47,
   "id": "41e782fe-473c-4982-94a5-40375708835c",
   "metadata": {
    "execution": {
     "iopub.execute_input": "2023-03-07T18:24:48.661440Z",
     "iopub.status.busy": "2023-03-07T18:24:48.660856Z",
     "iopub.status.idle": "2023-03-07T18:24:50.157400Z",
     "shell.execute_reply": "2023-03-07T18:24:50.156907Z",
     "shell.execute_reply.started": "2023-03-07T18:24:48.661419Z"
    },
    "tags": []
   },
   "outputs": [],
   "source": [
    "import json\n",
    "\n",
    "feature_group_ids = [\n",
    "    client.describe_feature_group_by_table_name(table_name).feature_group_id\n",
    "    for table_name in training_table_names\n",
    "]\n",
    "model_w_byoa = client.train_model(\n",
    "    project_id=byoa_project.id,\n",
    "    name=\"BYOA Regresion Model\",\n",
    "    training_config=abacus_ai_config,\n",
    "    feature_group_ids=feature_group_ids,\n",
    "    custom_algorithms=[algorithm_name],\n",
    "    custom_algorithm_configs={algorithm_name: json.dumps(user_config)},\n",
    "    # change to LARGE for extensive computation\n",
    "    cpu_size=\"MEDIUM\",\n",
    "    # max memory is 60GB\n",
    "    memory=12,\n",
    ")"
   ]
  },
  {
   "cell_type": "code",
   "execution_count": 48,
   "id": "b1c416ae-1dd5-4177-810c-076fde9dff62",
   "metadata": {
    "execution": {
     "iopub.execute_input": "2023-03-07T18:24:51.198738Z",
     "iopub.status.busy": "2023-03-07T18:24:51.198213Z",
     "iopub.status.idle": "2023-03-07T18:32:15.071988Z",
     "shell.execute_reply": "2023-03-07T18:32:15.071487Z",
     "shell.execute_reply.started": "2023-03-07T18:24:51.198718Z"
    },
    "tags": []
   },
   "outputs": [
    {
     "name": "stdout",
     "output_type": "stream",
     "text": [
      "[{'name': 'Abacus Deep Learning - Best Fit Neural Network', 'algorithm': '90a154592'}, {'name': 'Abacus Deep Learning - Best Fit Neural Network with Feature Selection', 'algorithm': 'd3ff38742'}, {'name': 'Abacus Classical - Decision Trees', 'algorithm': 'f86976002'}, {'name': 'Abacus Classical - Linear Model', 'algorithm': 'eade0a9c8'}, {'name': 'USER.CSABA', 'algorithm': 'USER.CSABA'}]\n"
     ]
    }
   ],
   "source": [
    "import time\n",
    "# Wait for our specific Algorithm to complete training\n",
    "while algorithm_name not in [\n",
    "    algo[\"name\"]\n",
    "    for algo in model_w_byoa.describe().latest_model_version.deployable_algorithms\n",
    "]:\n",
    "    time.sleep(5)\n",
    "else:\n",
    "    print(model_w_byoa.describe().latest_model_version.deployable_algorithms)"
   ]
  },
  {
   "cell_type": "markdown",
   "id": "a78c2b6c-e1ef-4f56-8204-88d710b7f011",
   "metadata": {},
   "source": [
    "### We select our algorithm as the default in order to validate predictions\n",
    "Default algorithms are utilized in our deployment unless overridden"
   ]
  },
  {
   "cell_type": "code",
   "execution_count": 49,
   "id": "0c785dda-2a58-4774-b365-21950ed20eda",
   "metadata": {
    "execution": {
     "iopub.execute_input": "2023-03-07T18:32:15.073504Z",
     "iopub.status.busy": "2023-03-07T18:32:15.073082Z",
     "iopub.status.idle": "2023-03-07T18:33:46.367497Z",
     "shell.execute_reply": "2023-03-07T18:33:46.366881Z",
     "shell.execute_reply.started": "2023-03-07T18:32:15.073488Z"
    },
    "tags": []
   },
   "outputs": [
    {
     "data": {
      "text/plain": [
       "Deployment(deployment_id='4228943f1',\n",
       "  name='BYOA Deployment',\n",
       "  status='ACTIVE',\n",
       "  description='',\n",
       "  deployed_at='2023-03-07T18:33:31+00:00',\n",
       "  created_at='2023-03-07T18:32:15+00:00',\n",
       "  project_id='2f89d014b',\n",
       "  model_id='5979de452',\n",
       "  model_version='1bb8a7e33',\n",
       "  feature_group_id=None,\n",
       "  feature_group_version=None,\n",
       "  calls_per_second=5,\n",
       "  auto_deploy=True,\n",
       "  algo_name='USER.CSABA',\n",
       "  regions=[{'name': 'Us East 2', 'value': 'us-east-2'}],\n",
       "  error=None,\n",
       "  batch_streaming_updates=False,\n",
       "  algorithm='USER.CSABA',\n",
       "  pending_model_version=None,\n",
       "  model_deployment_config={},\n",
       "  refresh_schedules=None,\n",
       "  feature_group_export_config=None)"
      ]
     },
     "execution_count": 49,
     "metadata": {},
     "output_type": "execute_result"
    }
   ],
   "source": [
    "model_w_byoa.set_default_algorithm(algorithm_name)\n",
    "byoa_deployment_token = client.create_deployment_token(\n",
    "    byoa_project.id, \"BYOA_Deployment_Token\"\n",
    ")\n",
    "byoa_deployment = client.create_deployment(\n",
    "    name=\"BYOA Deployment\", model_id=model_w_byoa.id\n",
    ")\n",
    "byoa_deployment.wait_for_deployment()"
   ]
  },
  {
   "cell_type": "markdown",
   "id": "eceecd91-a9c0-48e2-8d2a-9f04edc945e3",
   "metadata": {},
   "source": [
    "### With our deployment we once again verify parity across the local predictions, the Abacus prediction API and Abacus Batch Prediction\n",
    "This verifies are models are all behaving the same"
   ]
  },
  {
   "cell_type": "code",
   "execution_count": 50,
   "id": "aa47016c-5463-426c-8da5-1c6df5e52039",
   "metadata": {
    "execution": {
     "iopub.execute_input": "2023-03-07T18:34:34.383882Z",
     "iopub.status.busy": "2023-03-07T18:34:34.383577Z",
     "iopub.status.idle": "2023-03-07T18:34:34.493900Z",
     "shell.execute_reply": "2023-03-07T18:34:34.493373Z",
     "shell.execute_reply.started": "2023-03-07T18:34:34.383863Z"
    },
    "tags": []
   },
   "outputs": [
    {
     "data": {
      "text/plain": [
       "[{'csMPa': 37.697797557944256},\n",
       " {'csMPa': 47.571887792434},\n",
       " {'csMPa': 64.70979460520971},\n",
       " {'csMPa': 43.66334359567851},\n",
       " {'csMPa': 13.843112761580656}]"
      ]
     },
     "execution_count": 50,
     "metadata": {},
     "output_type": "execute_result"
    }
   ],
   "source": [
    "prediction_results = byoa_predict_many(\n",
    "    local_model, concrete_prediction_data.to_dict(orient=\"records\")\n",
    ")\n",
    "prediction_results[:5]"
   ]
  },
  {
   "cell_type": "code",
   "execution_count": 51,
   "id": "d7816cca-9c0f-4bef-aa0b-60bd0ac7b6f8",
   "metadata": {
    "execution": {
     "iopub.execute_input": "2023-03-07T18:34:35.724593Z",
     "iopub.status.busy": "2023-03-07T18:34:35.724095Z",
     "iopub.status.idle": "2023-03-07T18:34:36.221327Z",
     "shell.execute_reply": "2023-03-07T18:34:36.220789Z",
     "shell.execute_reply.started": "2023-03-07T18:34:35.724573Z"
    },
    "tags": []
   },
   "outputs": [
    {
     "name": "stdout",
     "output_type": "stream",
     "text": [
      "{'csMPa': 37.697797557944256}\n",
      "{'csMPa': 47.571887792434}\n",
      "{'csMPa': 64.70979460520971}\n",
      "{'csMPa': 43.66334359567851}\n",
      "{'csMPa': 13.843112761580656}\n"
     ]
    }
   ],
   "source": [
    "import json\n",
    "\n",
    "for record in concrete_prediction_data.to_dict(orient=\"records\")[:5]:\n",
    "    print(\n",
    "        client.predict(\n",
    "            deployment_token=byoa_deployment_token,\n",
    "            deployment_id=byoa_deployment.id,\n",
    "            query_data=json.dumps(record),\n",
    "        )\n",
    "    )"
   ]
  },
  {
   "cell_type": "code",
   "execution_count": 52,
   "id": "a22572eb-5e70-48b6-a127-e33df9c23111",
   "metadata": {
    "execution": {
     "iopub.execute_input": "2023-03-07T18:34:37.480401Z",
     "iopub.status.busy": "2023-03-07T18:34:37.479913Z",
     "iopub.status.idle": "2023-03-07T18:36:09.108205Z",
     "shell.execute_reply": "2023-03-07T18:36:09.107773Z",
     "shell.execute_reply.started": "2023-03-07T18:34:37.480382Z"
    },
    "tags": []
   },
   "outputs": [
    {
     "data": {
      "text/plain": [
       "BatchPredictionVersion(batch_prediction_version='665b37a88',\n",
       "  batch_prediction_id='d3db6f4c5',\n",
       "  status='COMPLETE',\n",
       "  drift_monitor_status=None,\n",
       "  deployment_id='4228943f1',\n",
       "  model_id='ae84be9e0',\n",
       "  model_version='70c3883c1',\n",
       "  predictions_started_at='2023-03-07T18:34:37+00:00',\n",
       "  predictions_completed_at='2023-03-07T18:36:05+00:00',\n",
       "  global_prediction_args={'forEval': True},\n",
       "  database_output_error=False,\n",
       "  total_predictions=103,\n",
       "  failed_predictions=0,\n",
       "  database_connector_id=None,\n",
       "  database_output_configuration=None,\n",
       "  explanations=False,\n",
       "  file_connector_output_location=None,\n",
       "  file_output_format='csv',\n",
       "  connector_type=None,\n",
       "  legacy_input_location=None,\n",
       "  error=None,\n",
       "  drift_monitor_error=None,\n",
       "  monitor_warnings=None,\n",
       "  csv_input_prefix='',\n",
       "  csv_prediction_prefix='prediction_',\n",
       "  csv_explanations_prefix='explanation_',\n",
       "  database_output_total_writes=None,\n",
       "  database_output_failed_writes=None,\n",
       "  output_includes_metadata=True,\n",
       "  result_input_columns=None,\n",
       "  model_monitor_version='54853220e',\n",
       "  algo_name='USER.CSABA',\n",
       "  algorithm='USER.CSABA',\n",
       "  batch_inputs=PredictionInput(feature_group_dataset_ids=None,\n",
       "  dataset_id_remap=None,\n",
       "  feature_groups=[PredictionFeatureGroup(feature_group_id='7c22c7d60',\n",
       "  feature_group_version='7a7bc9b77',\n",
       "  dataset_type='CUSTOM_TABLE',\n",
       "  default=None,\n",
       "  required=None)],\n",
       "  datasets=[]))"
      ]
     },
     "execution_count": 52,
     "metadata": {},
     "output_type": "execute_result"
    }
   ],
   "source": [
    "byoa_batch_prediction = byoa_deployment.create_batch_prediction(\n",
    "    table_name=\"byoa_evaluation_output\",\n",
    "    name=\"BYOA Evaluation Prediction\",\n",
    "    global_prediction_args={\"forEval\": True},\n",
    "    output_includes_metadata=True\n",
    ")\n",
    "byoa_batch_prediction_run = byoa_batch_prediction.start()\n",
    "byoa_batch_prediction_run.wait_for_predictions()"
   ]
  },
  {
   "cell_type": "code",
   "execution_count": 53,
   "id": "2074c23c-421e-49b4-8a27-ce823bc2755a",
   "metadata": {
    "execution": {
     "iopub.execute_input": "2023-03-07T18:36:09.109327Z",
     "iopub.status.busy": "2023-03-07T18:36:09.109093Z",
     "iopub.status.idle": "2023-03-07T18:37:55.475148Z",
     "shell.execute_reply": "2023-03-07T18:37:55.474723Z",
     "shell.execute_reply.started": "2023-03-07T18:36:09.109308Z"
    },
    "tags": []
   },
   "outputs": [
    {
     "data": {
      "text/plain": [
       "0    37.697798\n",
       "1    47.571888\n",
       "2    64.709795\n",
       "3    43.663344\n",
       "4    13.843113\n",
       "Name: prediction_csMPa, dtype: float64"
      ]
     },
     "execution_count": 53,
     "metadata": {},
     "output_type": "execute_result"
    }
   ],
   "source": [
    "byoa_eval_output_fg = client.describe_feature_group_by_table_name(byoa_batch_prediction.feature_group_table_name)\n",
    "byoa_eval_output_fg.wait_for_materialization().latest_feature_group_version.load_as_pandas()['prediction_csMPa'][:5]"
   ]
  },
  {
   "cell_type": "markdown",
   "id": "3afeca79-6dce-4585-8a51-d025b8dd4361",
   "metadata": {},
   "source": [
    "# Congratulations\n",
    "You now can take a locally train a model, import it to Abacus as an independent, and import it to Abacus to run alongside our state of the art algorithms, competing against our Advanced AI systems."
   ]
  },
  {
   "cell_type": "code",
   "execution_count": 54,
   "id": "519b5257-549c-4667-a672-6f40ce48331d",
   "metadata": {
    "execution": {
     "iopub.execute_input": "2023-03-07T18:37:55.475904Z",
     "iopub.status.busy": "2023-03-07T18:37:55.475743Z",
     "iopub.status.idle": "2023-03-07T18:37:55.479321Z",
     "shell.execute_reply": "2023-03-07T18:37:55.478946Z",
     "shell.execute_reply.started": "2023-03-07T18:37:55.475888Z"
    },
    "tags": []
   },
   "outputs": [
    {
     "data": {
      "text/plain": [
       "[{'csMPa': 37.697797557944256},\n",
       " {'csMPa': 47.571887792434},\n",
       " {'csMPa': 64.70979460520971},\n",
       " {'csMPa': 43.66334359567851},\n",
       " {'csMPa': 13.843112761580656}]"
      ]
     },
     "execution_count": 54,
     "metadata": {},
     "output_type": "execute_result"
    }
   ],
   "source": [
    "[{'csMPa': 37.697797557944256},\n",
    " {'csMPa': 47.571887792434},\n",
    " {'csMPa': 64.70979460520971},\n",
    " {'csMPa': 43.66334359567851},\n",
    " {'csMPa': 13.843112761580656}]"
   ]
  }
 ],
 "metadata": {
  "kernelspec": {
   "display_name": "Python 3 (ipykernel)",
   "language": "python",
   "name": "python3"
  },
  "language_info": {
   "codemirror_mode": {
    "name": "ipython",
    "version": 3
   },
   "file_extension": ".py",
   "mimetype": "text/x-python",
   "name": "python",
   "nbconvert_exporter": "python",
   "pygments_lexer": "ipython3",
   "version": "3.8.10"
  }
 },
 "nbformat": 4,
 "nbformat_minor": 5
}
