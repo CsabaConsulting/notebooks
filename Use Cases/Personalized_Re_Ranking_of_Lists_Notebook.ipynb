{
 "cells": [
  {
   "cell_type": "markdown",
   "metadata": {
    "id": "EHSfCXVoeUD0"
   },
   "source": [
    "## How-to guide for Personalized Re-Ranking of Lists use-case on Abacus.AI platform\n",
    "This notebook provides you with a hands on environment to build a model that provides a personalized re-ranking of a list according to your data using the Abacus.AI Python Client Library.\n",
    "\n",
    "We'll be using the [User Item Recommendations](https://s3.amazonaws.com//realityengines.exampledatasets/user_recommendations/user_movie_ratings.csv), [Movie Attributes](https://s3.amazonaws.com//realityengines.exampledatasets/user_recommendations/movies_metadata.csv), and [User Attributes](https://s3.amazonaws.com//realityengines.exampledatasets/user_recommendations/users_metadata.csv) datasets in this notebook as an example. "
   ]
  },
  {
   "cell_type": "markdown",
   "metadata": {
    "id": "V1RiZTmrfGZG"
   },
   "source": [
    "1. Install the Abacus.AI library."
   ]
  },
  {
   "cell_type": "code",
   "execution_count": null,
   "metadata": {
    "colab": {
     "base_uri": "https://localhost:8080/"
    },
    "id": "byGW8eZpz7gs",
    "outputId": "0666940a-ad30-441c-cc89-7138cd5c0512"
   },
   "outputs": [],
   "source": [
    "!pip install abacusai"
   ]
  },
  {
   "cell_type": "markdown",
   "metadata": {
    "id": "oIfoJXVwfIYk"
   },
   "source": [
    "We'll also import pandas and pprint tools for neat visualization in this notebook."
   ]
  },
  {
   "cell_type": "code",
   "execution_count": null,
   "metadata": {
    "id": "-6bFhtIK0BXz"
   },
   "outputs": [],
   "source": [
    "import pandas as pd # A tool we'll use to download and preview CSV files\n",
    "import pprint # A tool to pretty print dictionary outputs\n",
    "pp = pprint.PrettyPrinter(indent=2)"
   ]
  },
  {
   "cell_type": "markdown",
   "metadata": {
    "id": "nYdAcbWffI6u"
   },
   "source": [
    "2. Add your Abacus.AI [API Key](https://abacus.ai/app/profile/apikey) generated using the API dashboard as follows:"
   ]
  },
  {
   "cell_type": "code",
   "execution_count": null,
   "metadata": {
    "id": "OZ31qQsvtrUX"
   },
   "outputs": [],
   "source": [
    "#@title Abacus.AI API Key\n",
    "\n",
    "api_key = ''  #@param {type: \"string\"}"
   ]
  },
  {
   "cell_type": "markdown",
   "metadata": {
    "id": "oT1voX51fWPV"
   },
   "source": [
    "3. Import the Abacus.AI library and instantiate a client."
   ]
  },
  {
   "cell_type": "code",
   "execution_count": null,
   "metadata": {
    "colab": {
     "base_uri": "https://localhost:8080/"
    },
    "id": "568Ukjm60DNb",
    "outputId": "9fa8f88c-ca5b-41ca-bfa7-f0ca05b16127"
   },
   "outputs": [],
   "source": [
    "from abacusai import ApiClient\n",
    "client = ApiClient(api_key)"
   ]
  },
  {
   "cell_type": "markdown",
   "metadata": {
    "id": "fiYJ7C6dfXko"
   },
   "source": [
    "## 1. Create a Project\n",
    "\n",
    "Abacus.AI projects are containers that have datasets and trained models. By specifying a business **Use Case**, Abacus.AI tailors the deep learning algorithms to produce the best performing model catered specifically for your data.\n",
    "\n",
    "We'll call the `list_use_cases` method to retrieve a list of the Use Cases currently available on the Abacus.AI platform."
   ]
  },
  {
   "cell_type": "code",
   "execution_count": null,
   "metadata": {
    "colab": {
     "base_uri": "https://localhost:8080/"
    },
    "id": "CIbkqkfp0EXy",
    "outputId": "b6b48adf-d9b6-4849-bc0b-bf406d49687e"
   },
   "outputs": [],
   "source": [
    "client.list_use_cases()"
   ]
  },
  {
   "cell_type": "markdown",
   "metadata": {
    "id": "j0kBH0I1fZQw"
   },
   "source": [
    "In this notebook, we're going to create a model that provides a personalized re-ranking of an input list based on User-Item Interactions, User Attributes, and Item Attributes. The 'USER_RANKINGS' use case is best tailored for this situation. For the purpose of taking an example, we will use the IMDB movie dataset that has movie metadata, user metadata, and user-movie ratings."
   ]
  },
  {
   "cell_type": "code",
   "execution_count": null,
   "metadata": {
    "id": "iynQW6Qf0HbH"
   },
   "outputs": [],
   "source": [
    "#@title Abacus.AI Use Case\n",
    "\n",
    "use_case = 'USER_RANKINGS'  #@param {type: \"string\"}"
   ]
  },
  {
   "cell_type": "markdown",
   "metadata": {
    "id": "E40EobHhfgGd"
   },
   "source": [
    "By calling the `describe_use_case_requirements` method we can view what datasets are required for this use_case."
   ]
  },
  {
   "cell_type": "code",
   "execution_count": null,
   "metadata": {
    "colab": {
     "base_uri": "https://localhost:8080/"
    },
    "id": "YhY7weCu0LHP",
    "outputId": "1d90b99a-655d-49e0-f233-f03d148dc6c0"
   },
   "outputs": [],
   "source": [
    "for requirement in client.describe_use_case_requirements(use_case):\n",
    "  pp.pprint(requirement.to_dict())"
   ]
  },
  {
   "cell_type": "markdown",
   "metadata": {
    "id": "6aPuWKYMfhp0"
   },
   "source": [
    "Finally, let's create the project."
   ]
  },
  {
   "cell_type": "code",
   "execution_count": null,
   "metadata": {
    "colab": {
     "base_uri": "https://localhost:8080/"
    },
    "id": "JFvg6AW20MKR",
    "outputId": "fac69a71-5e9a-4f73-88d2-08b0c30b913a"
   },
   "outputs": [],
   "source": [
    "reranking_project = client.create_project(name='Re-Ranked Movies', use_case=use_case)\n",
    "reranking_project.to_dict()"
   ]
  },
  {
   "cell_type": "markdown",
   "metadata": {
    "id": "Zf8Fy1eaNasn"
   },
   "source": [
    "**Note: When feature_groups_enabled is False then the use case does not support feature groups (collection of ML features). Therefore, Datasets are created at the organization level and tied to a project to further use them for training ML models**"
   ]
  },
  {
   "cell_type": "markdown",
   "metadata": {
    "id": "Ne5LSDKmfjLY"
   },
   "source": [
    "## 2. Add Datasets to your Project\n",
    "\n",
    "Abacus.AI can read datasets directly from `AWS S3` or `Google Cloud Storage` buckets, otherwise you can also directly upload and store your datasets with Abacus.AI. For this notebook, we will have Abacus.AI read the datasets directly from a public S3 bucket's location.\n",
    "\n",
    "We are using three datasets for this notebook. We'll tell Abacus.AI how the datasets should be used when creating it by tagging each dataset with a special Abacus.AI **Dataset Type**.\n",
    "- [User Item Recommendations](https://s3.amazonaws.com//realityengines.exampledatasets/user_recommendations/user_movie_ratings.csv) (**USER_ITEM_INTERACTIONS**): \n",
    "This dataset contains information about multiple users' ratings of movies with specified IDs.\n",
    "- [Movie Attributes](https://s3.amazonaws.com//realityengines.exampledatasets/user_recommendations/movies_metadata.csv) (**CATALOG_ATTRIBUTES**): This dataset contains attributes about movies with specified IDs, such as each movie's name and genre.\n",
    "- [User Attributes](https://s3.amazonaws.com//realityengines.exampledatasets/user_recommendations/users_metadata.csv) (**USER_ATTRIBUTES**): This dataset contains information about users with specified IDs, such as their age, gender, occupation, and zip code. "
   ]
  },
  {
   "cell_type": "markdown",
   "metadata": {
    "id": "i4fBLEtifmsq"
   },
   "source": [
    "### Add the datasets to Abacus.AI\n",
    "\n",
    "First we'll use Pandas to preview the files, then add them to Abacus.AI platform."
   ]
  },
  {
   "cell_type": "code",
   "execution_count": null,
   "metadata": {
    "colab": {
     "base_uri": "https://localhost:8080/",
     "height": 417
    },
    "id": "hvxYGd5o0NdW",
    "outputId": "f61fe747-8d80-41e5-a537-4315d5ab2cf0"
   },
   "outputs": [],
   "source": [
    "pd.read_csv('https://s3.amazonaws.com//realityengines.exampledatasets/user_recommendations/user_movie_ratings.csv')"
   ]
  },
  {
   "cell_type": "code",
   "execution_count": null,
   "metadata": {
    "colab": {
     "base_uri": "https://localhost:8080/",
     "height": 417
    },
    "id": "4GWiRN8J0gV1",
    "outputId": "1d9ad40c-db79-4326-cadf-a0e87b89831b"
   },
   "outputs": [],
   "source": [
    "pd.read_csv('https://s3.amazonaws.com//realityengines.exampledatasets/user_recommendations/movies_metadata.csv')"
   ]
  },
  {
   "cell_type": "code",
   "execution_count": null,
   "metadata": {
    "colab": {
     "base_uri": "https://localhost:8080/",
     "height": 417
    },
    "id": "jxMNEFlg0gpW",
    "outputId": "c64fc0db-b26a-4cbb-bf74-1dfb8a8938de"
   },
   "outputs": [],
   "source": [
    "pd.read_csv('https://s3.amazonaws.com//realityengines.exampledatasets/user_recommendations/users_metadata.csv')"
   ]
  },
  {
   "cell_type": "markdown",
   "metadata": {
    "id": "JzUn4W0RfoSz"
   },
   "source": [
    "Using the Create Dataset API, we can tell Abacus.AI the public S3 URI of where to find the datasets. We will also give each dataset a Refresh Schedule, which tells Abacus.AI when it should refresh the dataset (take an updated/latest copy of the dataset).\n",
    "\n",
    "If you're unfamiliar with Cron Syntax, Crontab Guru can help translate the syntax back into natural language: [https://crontab.guru/#0_12_\\*_\\*_\\*](https://crontab.guru/#0_12_*_*_*)\n",
    "\n",
    "**Note: This cron string will be evaluated in UTC time zone**"
   ]
  },
  {
   "cell_type": "code",
   "execution_count": null,
   "metadata": {
    "id": "d0CR4Raz0iTP"
   },
   "outputs": [],
   "source": [
    "user_item_dataset = client.create_dataset_from_file_connector(name='User Item Recommendations', table_name='User_Item_Recommendations',\n",
    "                                     location='s3://realityengines.exampledatasets/user_recommendations/user_movie_ratings.csv',\n",
    "                                     refresh_schedule='0 12 * * *')\n",
    "\n",
    "movie_attributes_dataset = client.create_dataset_from_file_connector(name='Movie Attributes', table_name='Movie_Attributes',\n",
    "                                     location='s3://realityengines.exampledatasets/user_recommendations/movies_metadata.csv',\n",
    "                                     refresh_schedule='0 12 * * *')\n",
    "\n",
    "user_attributes_dataset = client.create_dataset_from_file_connector(name='User Attributes', table_name='User_Attributes',\n",
    "                                     location='s3://realityengines.exampledatasets/user_recommendations/users_metadata.csv',\n",
    "                                     refresh_schedule='0 12 * * *')\n",
    "\n",
    "datasets = [user_item_dataset, movie_attributes_dataset, user_attributes_dataset]\n",
    "for dataset in datasets:\n",
    "    dataset.wait_for_inspection()"
   ]
  },
  {
   "cell_type": "markdown",
   "metadata": {
    "id": "Ga7LdWNefqKP"
   },
   "source": [
    "## 3. Create Feature Groups and add them to your Project\n",
    "\n",
    "Datasets are created at the organization level and can be used to create feature groups as follows:"
   ]
  },
  {
   "cell_type": "code",
   "execution_count": null,
   "metadata": {
    "colab": {
     "base_uri": "https://localhost:8080/"
    },
    "id": "HcA36EQK0mnv",
    "outputId": "c30eba0d-2963-49d6-cf17-837d7e67f66e"
   },
   "outputs": [],
   "source": [
    "feature_group = client.create_feature_group(table_name='personalized_re_ranking',sql='SELECT * from User_Item_Recommendations')"
   ]
  },
  {
   "cell_type": "markdown",
   "metadata": {},
   "source": [
    "Adding Feature Group to the project:"
   ]
  },
  {
   "cell_type": "code",
   "execution_count": null,
   "metadata": {},
   "outputs": [],
   "source": [
    "client.add_feature_group_to_project(feature_group_id=feature_group.feature_group_id,project_id = reranking_project.project_id)"
   ]
  },
  {
   "cell_type": "markdown",
   "metadata": {},
   "source": [
    "Setting the Feature Group type according to the use case requirements:"
   ]
  },
  {
   "cell_type": "code",
   "execution_count": null,
   "metadata": {},
   "outputs": [],
   "source": [
    "client.set_feature_group_type(feature_group_id=feature_group.feature_group_id, project_id = reranking_project.project_id, feature_group_type= \"USER_ITEM_INTERACTIONS\")"
   ]
  },
  {
   "cell_type": "markdown",
   "metadata": {},
   "source": [
    "Check current Feature Group schema:"
   ]
  },
  {
   "cell_type": "code",
   "execution_count": null,
   "metadata": {},
   "outputs": [],
   "source": [
    "client.get_feature_group_schema(feature_group_id=feature_group.feature_group_id)"
   ]
  },
  {
   "cell_type": "markdown",
   "metadata": {},
   "source": [
    "#### For each **Use Case**, there are special **Column Mappings** that must be applied to a column to fulfill use case requirements. We can find the list of available **Column Mappings** by calling the *Describe Use Case Requirements* API:"
   ]
  },
  {
   "cell_type": "code",
   "execution_count": null,
   "metadata": {
    "colab": {
     "base_uri": "https://localhost:8080/"
    },
    "id": "pwKzbQOy0ok6",
    "outputId": "46b4be1f-feb6-468f-a3d1-d40cb0567058"
   },
   "outputs": [],
   "source": [
    "client.describe_use_case_requirements(use_case)[0].allowed_feature_mappings"
   ]
  },
  {
   "cell_type": "code",
   "execution_count": null,
   "metadata": {},
   "outputs": [],
   "source": [
    "client.set_feature_mapping(project_id = reranking_project.project_id,feature_group_id= feature_group.feature_group_id, feature_name='movie_id',feature_mapping='ITEM_ID')\n",
    "client.set_feature_mapping(project_id = reranking_project.project_id,feature_group_id= feature_group.feature_group_id, feature_name='user_id',feature_mapping='USER_ID')\n",
    "client.set_feature_mapping(project_id = reranking_project.project_id,feature_group_id= feature_group.feature_group_id, feature_name='timestamp',feature_mapping='TIMESTAMP')"
   ]
  },
  {
   "cell_type": "markdown",
   "metadata": {},
   "source": [
    "Now that we've our feature groups assigned, we're almost ready to train a model!\n",
    "\n",
    "To be sure that our project is ready to go, let's call project.validate to confirm that all the project requirements have been met:"
   ]
  },
  {
   "cell_type": "code",
   "execution_count": null,
   "metadata": {
    "colab": {
     "base_uri": "https://localhost:8080/"
    },
    "id": "TbvMw1-a0rAD",
    "outputId": "0fdc612f-a807-489a-a674-92df4a8ce5a4"
   },
   "outputs": [],
   "source": [
    "reranking_project.validate(feature_group_ids=[feature_group.feature_group_id])"
   ]
  },
  {
   "cell_type": "markdown",
   "metadata": {
    "id": "-fglg0h0fv1J"
   },
   "source": [
    "## 4. Train a Model"
   ]
  },
  {
   "cell_type": "markdown",
   "metadata": {
    "id": "_44j4tlafyVh"
   },
   "source": [
    "For each **Use Case**, Abacus.AI has a bunch of options for training. We can call the *Get Training Config Options* API to see the available options."
   ]
  },
  {
   "cell_type": "code",
   "execution_count": null,
   "metadata": {
    "colab": {
     "base_uri": "https://localhost:8080/"
    },
    "id": "6pyLgPWG0sE-",
    "outputId": "f4b8a5bb-2acf-47bc-f743-d329b0346f01"
   },
   "outputs": [],
   "source": [
    "reranking_project.get_training_config_options(feature_group_ids=[feature_group.feature_group_id])"
   ]
  },
  {
   "cell_type": "markdown",
   "metadata": {
    "id": "hNKSHznVfz8p"
   },
   "source": [
    "In this notebook, we'll just train with the default options, but definitely feel free to experiment, especially if you have familiarity with Machine Learning."
   ]
  },
  {
   "cell_type": "code",
   "execution_count": null,
   "metadata": {
    "colab": {
     "base_uri": "https://localhost:8080/"
    },
    "id": "VHhFnF_I0uk3",
    "outputId": "d28ba201-e764-4697-d61c-9a5f8f4871f6"
   },
   "outputs": [],
   "source": [
    "reranking_model = reranking_project.train_model(training_config={},feature_group_ids=[feature_group.feature_group_id])\n",
    "reranking_model.to_dict()"
   ]
  },
  {
   "cell_type": "markdown",
   "metadata": {
    "id": "5Iu4dzTMf2NB"
   },
   "source": [
    "After we start training the model, we can call this blocking call that routinely checks the status of the model until it is trained and evaluated:"
   ]
  },
  {
   "cell_type": "code",
   "execution_count": null,
   "metadata": {
    "colab": {
     "background_save": true
    },
    "id": "IPEuL8vG0zyl",
    "outputId": "731dada5-15d2-480e-91ff-efc12ce2e3f5"
   },
   "outputs": [],
   "source": [
    "reranking_model.wait_for_full_automl()"
   ]
  },
  {
   "cell_type": "markdown",
   "metadata": {
    "id": "njckgMmTNpsd"
   },
   "source": [
    "**Note that model training might take some minutes to some hours depending upon the size of datasets, complexity of the models being trained and a variety of other factors**"
   ]
  },
  {
   "cell_type": "markdown",
   "metadata": {
    "id": "3nWz9fRjf_fg"
   },
   "source": [
    "## **Checkpoint** [Optional]\n",
    "As model training can take an hours to complete, your page could time out or you might end up hitting the refresh button, this section helps you restore your progress:"
   ]
  },
  {
   "cell_type": "code",
   "execution_count": null,
   "metadata": {
    "colab": {
     "base_uri": "https://localhost:8080/"
    },
    "id": "znF-nZyIgEdQ",
    "outputId": "4da971d8-5019-4ee1-833a-427efaa276ca"
   },
   "outputs": [],
   "source": [
    "!pip install abacusai\n",
    "import pandas as pd\n",
    "import pprint\n",
    "pp = pprint.PrettyPrinter(indent=2)\n",
    "api_key = ''  #@param {type: \"string\"}\n",
    "from abacusai import ApiClient\n",
    "client = ApiClient(api_key)\n",
    "reranking_project = next(project for project in client.list_projects() if project.name == 'Re-Ranked Movies')\n",
    "reranking_model = reranking_project.list_models()[-1]\n",
    "reranking_model.wait_for_evaluation()"
   ]
  },
  {
   "cell_type": "markdown",
   "metadata": {
    "id": "wO3WNhIKgPNm"
   },
   "source": [
    "## Evaluate your Model Metrics\n",
    "\n",
    "After your model is done training you can inspect the model's quality by reviewing the model's metrics:"
   ]
  },
  {
   "cell_type": "code",
   "execution_count": null,
   "metadata": {
    "colab": {
     "base_uri": "https://localhost:8080/"
    },
    "id": "5OWduGvg00v8",
    "outputId": "c29530b5-9eb9-4210-940e-0acfb201bd13"
   },
   "outputs": [],
   "source": [
    "pp.pprint(reranking_model.get_metrics().to_dict())"
   ]
  },
  {
   "cell_type": "markdown",
   "metadata": {
    "id": "3NDeaHd6gTbg"
   },
   "source": [
    "To get a better understanding on what these metrics mean, visit our [documentation](https://abacus.ai/app/help/useCases/USER_RANKINGS/training) page."
   ]
  },
  {
   "cell_type": "markdown",
   "metadata": {
    "id": "yTMmZGJrgdFh"
   },
   "source": [
    "## 5. Deploy Model"
   ]
  },
  {
   "cell_type": "markdown",
   "metadata": {
    "id": "Adp0d1ebgcTO"
   },
   "source": [
    "After the model has been trained, we need to create a deployment token for authenticating prediction requests. This token is only authorized to predict on deployments in this project, so it's safe to embed this token inside of a user-facing application or website."
   ]
  },
  {
   "cell_type": "code",
   "execution_count": null,
   "metadata": {
    "colab": {
     "base_uri": "https://localhost:8080/",
     "height": 35
    },
    "id": "GKc9lmcW02aT",
    "outputId": "5a326d97-08d4-4422-9a73-0b1024447ae6"
   },
   "outputs": [],
   "source": [
    "deployment_token = reranking_project.create_deployment_token().deployment_token\n",
    "deployment_token"
   ]
  },
  {
   "cell_type": "markdown",
   "metadata": {
    "id": "UhsVrewJgeSN"
   },
   "source": [
    "Now we need to deploy the model to be able to start making predictions. Deploying a model will reserve cloud resources to host the model for Realtime and/or batch predictions."
   ]
  },
  {
   "cell_type": "code",
   "execution_count": null,
   "metadata": {
    "colab": {
     "base_uri": "https://localhost:8080/"
    },
    "id": "89RaXpas01jF",
    "outputId": "548612ac-dec0-4020-95e3-47821a3ae89b"
   },
   "outputs": [],
   "source": [
    "reranking_deployment = client.create_deployment(name='Personalized Re-Ranking Deployment',model_id=reranking_model.model_id,description='Personalized_Re-Ranking_Deployment')\n",
    "reranking_deployment.wait_for_deployment()"
   ]
  },
  {
   "cell_type": "markdown",
   "metadata": {
    "id": "dr1k8Jvbgj9r"
   },
   "source": [
    "## 6. Predict\n"
   ]
  },
  {
   "cell_type": "markdown",
   "metadata": {
    "id": "1E6VYyiBgkSK"
   },
   "source": [
    "Now that you have an active deployment and a deployment token to authenticate requests, you can make the `get_ranked_items` API call below.\n",
    "\n",
    "This command will return a list of re-ranked items for movies for the user whose unique identifier is 1. The ranking would be performed based on what movies the user liked in the past and how the movies and users are related to each other depending on their attributes."
   ]
  },
  {
   "cell_type": "code",
   "execution_count": null,
   "metadata": {
    "colab": {
     "base_uri": "https://localhost:8080/"
    },
    "id": "EvuzmgbW03L_",
    "outputId": "b70a0ad1-3dd9-4b1d-c24e-296e48b9b425"
   },
   "outputs": [],
   "source": [
    "ApiClient().get_ranked_items(deployment_token=deployment_token,\n",
    "               deployment_id=reranking_deployment.deployment_id,\n",
    "               query_data={\"user_id\":\"12\"})"
   ]
  }
 ],
 "metadata": {
  "colab": {
   "collapsed_sections": [],
   "name": "Copy of Personalized Re-Ranking of Lists Notebook.ipynb",
   "provenance": [],
   "toc_visible": true
  },
  "interpreter": {
   "hash": "31f2aee4e71d21fbe5cf8b01ff0e069b9275f58929596ceb00d14d90e3e16cd6"
  },
  "kernelspec": {
   "display_name": "Python 3.8.10 64-bit",
   "name": "python3"
  },
  "language_info": {
   "codemirror_mode": {
    "name": "ipython",
    "version": 3
   },
   "file_extension": ".py",
   "mimetype": "text/x-python",
   "name": "python",
   "nbconvert_exporter": "python",
   "pygments_lexer": "ipython3",
   "version": "3.8.10"
  }
 },
 "nbformat": 4,
 "nbformat_minor": 1
}
