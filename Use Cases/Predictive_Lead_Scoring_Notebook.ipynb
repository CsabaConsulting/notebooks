{
 "cells": [
  {
   "cell_type": "markdown",
   "metadata": {
    "id": "iuBzE88t8QuA"
   },
   "source": [
    "## How-to guide for Predictive Lead Scoring use-case on Abacus.AI platform\n",
    "This notebook provides you with a hands on environment to build a model that predicts the probability of a user with specified attributes being a lead using the Abacus.AI Python Client Library.\n",
    "\n",
    "We'll be using the [Individual Company Sales Data](https://s3.amazonaws.com//realityengines.exampledatasets/sales_scoring/company_sales_data_v2.csv) dataset, which contains information about users, their attributes, and their lead IDs."
   ]
  },
  {
   "cell_type": "markdown",
   "metadata": {
    "id": "SS43yUgl808R"
   },
   "source": [
    "1. Install the Abacus.AI library."
   ]
  },
  {
   "cell_type": "code",
   "execution_count": null,
   "metadata": {
    "colab": {
     "base_uri": "https://localhost:8080/"
    },
    "id": "cIAZt8xafqBr",
    "outputId": "5d76ffee-57f5-4d6f-9fc2-d217d0104d2f"
   },
   "outputs": [],
   "source": [
    "!pip install abacusai"
   ]
  },
  {
   "cell_type": "markdown",
   "metadata": {
    "id": "RSrvk7cc8_80"
   },
   "source": [
    "We'll also import pandas and pprint tools for visualization in this notebook."
   ]
  },
  {
   "cell_type": "code",
   "execution_count": null,
   "metadata": {
    "id": "duIJqtxHikKL"
   },
   "outputs": [],
   "source": [
    "import pandas as pd # A tool we'll use to download and preview CSV files\n",
    "import pprint # A tool to pretty print dictionary outputs\n",
    "pp = pprint.PrettyPrinter(indent=2)"
   ]
  },
  {
   "cell_type": "markdown",
   "metadata": {
    "id": "7ROEzQKUtgLu"
   },
   "source": [
    "2. Add your Abacus.AI [API Key](https://abacus.ai/app/profile/apikey) generated using the API dashboard as follows:"
   ]
  },
  {
   "cell_type": "code",
   "execution_count": null,
   "metadata": {
    "id": "wFcHflu2ilBz"
   },
   "outputs": [],
   "source": [
    "#@title Abacus.AI API Key\n",
    "\n",
    "api_key = ''  #@param {type: \"string\"}"
   ]
  },
  {
   "cell_type": "markdown",
   "metadata": {
    "id": "o3sK0lOetkiU"
   },
   "source": [
    "3. Import the Abacus.AI library and instantiate a client."
   ]
  },
  {
   "cell_type": "code",
   "execution_count": null,
   "metadata": {
    "colab": {
     "base_uri": "https://localhost:8080/"
    },
    "id": "L4C3hYOfimGj",
    "outputId": "5118056f-46e1-40f5-df36-d3660f133382"
   },
   "outputs": [],
   "source": [
    "from abacusai import ApiClient\n",
    "client = ApiClient(api_key)"
   ]
  },
  {
   "cell_type": "markdown",
   "metadata": {
    "id": "UrUKmaHWtmdj"
   },
   "source": [
    "## 1. Create a Project\n",
    "\n",
    "Abacus.AI projects are containers that have datasets and trained models. By specifying a business **Use Case**, Abacus.AI tailors the deep learning algorithms to produce the best performing model catered specifically for your data.\n",
    "\n",
    "We'll call the `list_use_cases` method to retrieve a list of the Use Cases currently available on the Abacus.AI platform."
   ]
  },
  {
   "cell_type": "code",
   "execution_count": null,
   "metadata": {
    "colab": {
     "base_uri": "https://localhost:8080/"
    },
    "id": "upuKOC95im8n",
    "outputId": "6e138430-0d67-4132-d65a-f8621b061e77"
   },
   "outputs": [],
   "source": [
    "client.list_use_cases()"
   ]
  },
  {
   "cell_type": "markdown",
   "metadata": {
    "id": "6U9B1Omwtn_F"
   },
   "source": [
    "In this notebook, we're going to create a predictive lead scoring model using the Individual Company Sales Data dataset. The 'SALES_SCORING' use case is best tailored for this situation."
   ]
  },
  {
   "cell_type": "code",
   "execution_count": null,
   "metadata": {
    "id": "1iJWuFNTin7y"
   },
   "outputs": [],
   "source": [
    "#@title Abacus.AI Use Case\n",
    "\n",
    "use_case = 'SALES_SCORING'  #@param {type: \"string\"}"
   ]
  },
  {
   "cell_type": "markdown",
   "metadata": {
    "id": "85y5OwIjQCRb"
   },
   "source": [
    "By calling the `describe_use_case_requirements` method we can view what datasets are required for this use_case."
   ]
  },
  {
   "cell_type": "code",
   "execution_count": null,
   "metadata": {
    "colab": {
     "base_uri": "https://localhost:8080/"
    },
    "id": "2M2FZLhnio_a",
    "outputId": "d9b2e4ab-9be6-45c3-cc42-ca6481d02e3a"
   },
   "outputs": [],
   "source": [
    "for requirement in client.describe_use_case_requirements(use_case):\n",
    "  pp.pprint(requirement.to_dict())"
   ]
  },
  {
   "cell_type": "markdown",
   "metadata": {
    "id": "n3QFhe96QEO6"
   },
   "source": [
    "Finally, let's create the project."
   ]
  },
  {
   "cell_type": "code",
   "execution_count": null,
   "metadata": {
    "colab": {
     "base_uri": "https://localhost:8080/"
    },
    "id": "5r7LlrzPiufG",
    "outputId": "6377e372-7fe6-42f4-809b-8eecd6f4eee0"
   },
   "outputs": [],
   "source": [
    "lead_scoring_project = client.create_project(name='Predictive Lead Scoring Project', use_case=use_case)\n",
    "lead_scoring_project.to_dict()"
   ]
  },
  {
   "cell_type": "markdown",
   "metadata": {
    "id": "72H4KuJwLTOK"
   },
   "source": [
    "**Note: When feature_groups_enabled is True then the use case supports feature groups (collection of ML features). Feature groups are created at the organization level and can be tied to a project to further use it for training ML models**"
   ]
  },
  {
   "cell_type": "markdown",
   "metadata": {
    "id": "v4R42ulqQGEC"
   },
   "source": [
    "## 2. Add Datasets to your Project\n",
    "\n",
    "Abacus.AI can read datasets directly from `AWS S3` or `Google Cloud Storage` buckets, otherwise you can also directly upload and store your datasets with Abacus.AI. For this notebook, we will have Abacus.AI read the datasets directly from a public S3 bucket's location.\n",
    "\n",
    "We are using one dataset for this notebook. We'll tell Abacus.AI how the dataset should be used when creating it by tagging the dataset with a special Abacus.AI **Dataset Type**.\n",
    "- [Individual Company Sales Data](https://s3.amazonaws.com//realityengines.exampledatasets/sales_scoring/company_sales_data_v2.csv) (**LEADS**): This dataset contains information about users, their attributes, and their lead IDs."
   ]
  },
  {
   "cell_type": "markdown",
   "metadata": {
    "id": "mTKo4zKBQWDm"
   },
   "source": [
    "### Add the dataset to Abacus.AI\n",
    "\n",
    "First we'll use Pandas to preview the file, then add it to Abacus.AI."
   ]
  },
  {
   "cell_type": "code",
   "execution_count": null,
   "metadata": {
    "colab": {
     "base_uri": "https://localhost:8080/",
     "height": 487
    },
    "id": "JyDeiPL3iv4a",
    "outputId": "eec04cd8-6cc0-49fb-d221-677ce9710e81"
   },
   "outputs": [],
   "source": [
    "pd.read_csv('https://s3.amazonaws.com//realityengines.exampledatasets/sales_scoring/company_sales_data_v2.csv')"
   ]
  },
  {
   "cell_type": "markdown",
   "metadata": {
    "id": "kjURfQMHQWoM"
   },
   "source": [
    "Using the Create Dataset API, we can tell Abacus.AI the public S3 URI of where to find the datasets. We will also give each dataset a Refresh Schedule, which tells Abacus.AI when it should refresh the dataset (take an updated/latest copy of the dataset).\n",
    "\n",
    "If you're unfamiliar with Cron Syntax, Crontab Guru can help translate the syntax back into natural language: [https://crontab.guru/#0_12_\\*_\\*_\\*](https://crontab.guru/#0_12_*_*_*)\n",
    "\n",
    "**Note: This cron string will be evaluated in UTC time zone**"
   ]
  },
  {
   "cell_type": "code",
   "execution_count": null,
   "metadata": {
    "id": "TP1gXiCriwyw"
   },
   "outputs": [],
   "source": [
    "lead_scoring_dataset = client.create_dataset_from_file_connector(name='Individual Company Sales Data',table_name='Individual_Company_Sales_Data',\n",
    "                                     location='s3://realityengines.exampledatasets/sales_scoring/company_sales_data_v2.csv',\n",
    "                                     refresh_schedule='0 12 * * *')\n",
    "datasets = [lead_scoring_dataset]\n",
    "for dataset in datasets:\n",
    "    dataset.wait_for_inspection()"
   ]
  },
  {
   "cell_type": "markdown",
   "metadata": {
    "id": "hgHdAV7WLbAd"
   },
   "source": [
    "## 3. Create Feature Groups and add them to your Project\n",
    "\n",
    "Datasets are created at the organization level and can be used to create feature groups as follows:"
   ]
  },
  {
   "cell_type": "code",
   "execution_count": null,
   "metadata": {
    "id": "-rbVGuNy2JdF"
   },
   "outputs": [],
   "source": [
    "feature_group = client.create_feature_group(table_name='Predictive_Lead_Scoring',sql='SELECT * FROM Individual_Comapny_Sales_Data')"
   ]
  },
  {
   "cell_type": "markdown",
   "metadata": {
    "id": "IYflsN57LeTp"
   },
   "source": [
    "Adding Feature Group to the project:"
   ]
  },
  {
   "cell_type": "code",
   "execution_count": null,
   "metadata": {
    "colab": {
     "base_uri": "https://localhost:8080/"
    },
    "id": "sjzCoSW12KHz",
    "outputId": "92283e78-9960-4cc6-a542-0586bdb72298"
   },
   "outputs": [],
   "source": [
    "client.add_feature_group_to_project(feature_group_id=feature_group.feature_group_id,project_id = lead_scoring_project.project_id)"
   ]
  },
  {
   "cell_type": "markdown",
   "metadata": {
    "id": "yqWvJWaTLkKp"
   },
   "source": [
    "Setting the Feature Group type according to the use case requirements:"
   ]
  },
  {
   "cell_type": "code",
   "execution_count": null,
   "metadata": {
    "id": "_0lTrz_ELkdV"
   },
   "outputs": [],
   "source": [
    "client.set_feature_group_type(feature_group_id=feature_group.feature_group_id, project_id = lead_scoring_project.project_id, feature_group_type= \"LEADS\")"
   ]
  },
  {
   "cell_type": "markdown",
   "metadata": {
    "id": "BNBQ85GnLp5y"
   },
   "source": [
    "Check current Feature Group schema:"
   ]
  },
  {
   "cell_type": "code",
   "execution_count": null,
   "metadata": {
    "id": "oyiyFv0TLqLp"
   },
   "outputs": [],
   "source": [
    "client.get_feature_group_schema(feature_group_id=feature_group.feature_group_id)"
   ]
  },
  {
   "cell_type": "markdown",
   "metadata": {
    "id": "4zgu_4B2QkvC"
   },
   "source": [
    "#### For each **Use Case**, there are special **Column Mappings** that must be applied to a column to fulfill use case requirements. We can find the list of available **Column Mappings** by calling the *Describe Use Case Requirements* API:"
   ]
  },
  {
   "cell_type": "code",
   "execution_count": null,
   "metadata": {
    "colab": {
     "base_uri": "https://localhost:8080/"
    },
    "id": "BKR3n9hkiy_h",
    "outputId": "b6877497-f785-450b-8d4d-76bbaa0d9f77"
   },
   "outputs": [],
   "source": [
    "client.describe_use_case_requirements(use_case)[0].allowed_feature_mappings"
   ]
  },
  {
   "cell_type": "code",
   "execution_count": null,
   "metadata": {
    "colab": {
     "base_uri": "https://localhost:8080/"
    },
    "id": "9U5cTl343giS",
    "outputId": "cdb71d4d-2ac1-43b0-c8ac-0069c8a9dc47"
   },
   "outputs": [],
   "source": [
    "client.set_feature_mapping(project_id = lead_scoring_project.project_id,feature_group_id= feature_group.feature_group_id, feature_name='lead_id',feature_mapping='LEAD_ID')\n",
    "client.set_feature_mapping(project_id = lead_scoring_project.project_id,feature_group_id= feature_group.feature_group_id, feature_name='flag',feature_mapping='LEAD_SCORE')"
   ]
  },
  {
   "cell_type": "markdown",
   "metadata": {
    "id": "67zIklM0QveG"
   },
   "source": [
    "Now that we've our feature groups assigned, we're almost ready to train a model!\n",
    "\n",
    "To be sure that our project is ready to go, let's call project.validate to confirm that all the project requirements have been met:"
   ]
  },
  {
   "cell_type": "code",
   "execution_count": null,
   "metadata": {
    "colab": {
     "base_uri": "https://localhost:8080/"
    },
    "id": "3ybMZtfli0yO",
    "outputId": "d2bb6ae1-24b9-4efc-ac92-533a52be98da"
   },
   "outputs": [],
   "source": [
    "lead_scoring_project.validate(feature_group_ids=[feature_group.feature_group_id])"
   ]
  },
  {
   "cell_type": "markdown",
   "metadata": {
    "id": "a02-4OQTQtzV"
   },
   "source": [
    "## 4. Train a Model"
   ]
  },
  {
   "cell_type": "markdown",
   "metadata": {
    "id": "8RPMOaQ4Qxbq"
   },
   "source": [
    "For each **Use Case**, Abacus.AI has a bunch of options for training. We can call the *Get Training Config Options* API to see the available options."
   ]
  },
  {
   "cell_type": "code",
   "execution_count": null,
   "metadata": {
    "colab": {
     "base_uri": "https://localhost:8080/"
    },
    "id": "KbMeDubWi2Xd",
    "outputId": "c5ffb4e5-7d81-4c47-dca4-ec4dc91fdca7"
   },
   "outputs": [],
   "source": [
    "lead_scoring_project.get_training_config_options(feature_group_ids=[feature_group.feature_group_id])"
   ]
  },
  {
   "cell_type": "markdown",
   "metadata": {
    "id": "_wEiOwHcQzi7"
   },
   "source": [
    "In this notebook, we'll just train with the default options, but definitely feel free to experiment, especially if you have familiarity with Machine Learning."
   ]
  },
  {
   "cell_type": "code",
   "execution_count": null,
   "metadata": {
    "colab": {
     "base_uri": "https://localhost:8080/"
    },
    "id": "tMoHAfB7i3ov",
    "outputId": "b87e33e4-2e75-465f-d03f-ea08f84b43cc"
   },
   "outputs": [],
   "source": [
    "lead_scoring_model = lead_scoring_project.train_model(training_config={},feature_group_ids=[feature_group.feature_group_id])\n",
    "lead_scoring_model.to_dict()"
   ]
  },
  {
   "cell_type": "markdown",
   "metadata": {
    "id": "3yhVahD_Q1QJ"
   },
   "source": [
    "After we start training the model, we can call this blocking call that routinely checks the status of the model until it is trained and evaluated:"
   ]
  },
  {
   "cell_type": "code",
   "execution_count": null,
   "metadata": {
    "colab": {
     "base_uri": "https://localhost:8080/"
    },
    "id": "xJZiLJs2i9mu",
    "outputId": "836aac6f-cea5-4509-d7f4-ae19a20caec2"
   },
   "outputs": [],
   "source": [
    "lead_scoring_model.wait_for_full_automl()"
   ]
  },
  {
   "cell_type": "markdown",
   "metadata": {
    "id": "XaGq3SdPMMTj"
   },
   "source": [
    "**Note that model training might take some minutes to some hours depending upon the size of datasets, complexity of the models being trained and a variety of other factors**"
   ]
  },
  {
   "cell_type": "markdown",
   "metadata": {
    "id": "UA9fKC2rQ3O8"
   },
   "source": [
    "## **Checkpoint** [Optional]\n",
    "As model training can take an hours to complete, your page could time out or you might end up hitting the refresh button, this section helps you restore your progress:"
   ]
  },
  {
   "cell_type": "code",
   "execution_count": null,
   "metadata": {
    "id": "4hcAo4MuQ7lg"
   },
   "outputs": [],
   "source": [
    "!pip install abacusai\n",
    "import pandas as pd\n",
    "import pprint\n",
    "pp = pprint.PrettyPrinter(indent=2)\n",
    "api_key = ''  #@param {type: \"string\"}\n",
    "from abacusai import ApiClient\n",
    "client = ApiClient(api_key)\n",
    "lead_scoring_project = next(project for project in client.list_projects() if project.name == 'Predictive Lead Scoring Project')\n",
    "lead_scoring_model = lead_scoring_project.list_models()[-1]\n",
    "lead_scoring_model.wait_for_evaluation()"
   ]
  },
  {
   "cell_type": "markdown",
   "metadata": {
    "id": "RSdUH84xREGW"
   },
   "source": [
    "## Evaluate your Model Metrics\n",
    "\n",
    "After your model is done training you can inspect the model's quality by reviewing the model's metrics."
   ]
  },
  {
   "cell_type": "code",
   "execution_count": null,
   "metadata": {
    "colab": {
     "base_uri": "https://localhost:8080/"
    },
    "id": "CTikZzynjkmd",
    "outputId": "b51cd5ca-c8a7-4801-f5ca-9377316d0a64"
   },
   "outputs": [],
   "source": [
    "pp.pprint(lead_scoring_model.get_metrics().to_dict())"
   ]
  },
  {
   "cell_type": "markdown",
   "metadata": {
    "id": "5FPyG7sEQ5Rl"
   },
   "source": [
    "To get a better understanding on what these metrics mean, visit our [documentation](https://abacus.ai/app/help/useCases/SALES_SCORING/training) page."
   ]
  },
  {
   "cell_type": "markdown",
   "metadata": {
    "id": "pbi2d-0-SNVS"
   },
   "source": [
    "## 5. Deploy Model"
   ]
  },
  {
   "cell_type": "markdown",
   "metadata": {
    "id": "v3EtPNZ-SV1J"
   },
   "source": [
    "After the model has been trained, we need to create a deployment token for authenticating prediction requests. This token is only authorized to predict on deployments in this project, so it's safe to embed this token inside of a user-facing application or website."
   ]
  },
  {
   "cell_type": "code",
   "execution_count": null,
   "metadata": {
    "colab": {
     "base_uri": "https://localhost:8080/",
     "height": 35
    },
    "id": "fVvVvX45jnGo",
    "outputId": "c64c28b4-af41-44b5-8c27-20e28e68980d"
   },
   "outputs": [],
   "source": [
    "deployment_token = lead_scoring_project.create_deployment_token().deployment_token\n",
    "deployment_token"
   ]
  },
  {
   "cell_type": "markdown",
   "metadata": {
    "id": "IqVUMBY9SOmB"
   },
   "source": [
    "Now we need to deploy the model to be able to start making predictions. Deploying a model will reserve cloud resources to host the model for Realtime and/or batch predictions."
   ]
  },
  {
   "cell_type": "code",
   "execution_count": null,
   "metadata": {
    "colab": {
     "base_uri": "https://localhost:8080/"
    },
    "id": "8b4QapObjltU",
    "outputId": "bb825e8a-093f-4e05-d981-4e71c2a0467d"
   },
   "outputs": [],
   "source": [
    "lead_scoring_deployment = client.create_deployment( name ='Lead Scoring Deployment', model_id=lead_scoring_model.model_id,description='Lead Scoring Deployment')\n",
    "lead_scoring_deployment.wait_for_deployment()"
   ]
  },
  {
   "cell_type": "markdown",
   "metadata": {
    "id": "zicyhe0ISXlL"
   },
   "source": [
    "## 6. Predict\n"
   ]
  },
  {
   "cell_type": "markdown",
   "metadata": {
    "id": "GMmGUIviSZ1R"
   },
   "source": [
    "Now that you have an active deployment and a deployment token to authenticate requests, you can make the `predict_lead` API call below.\n",
    "\n",
    "This command will return the probability of a user with specified attributes being a lead. The prediction would be perfomed based on information about the leads of users with similar attributes."
   ]
  },
  {
   "cell_type": "code",
   "execution_count": null,
   "metadata": {
    "colab": {
     "base_uri": "https://localhost:8080/"
    },
    "id": "xktIvJATjoFA",
    "outputId": "33f0bfc6-ef36-4a56-9ac5-13d391ec935e"
   },
   "outputs": [],
   "source": [
    "ApiClient().predict_lead(deployment_token=deployment_token,\n",
    "                         deployment_id=lead_scoring_deployment.deployment_id,\n",
    "                         query_data={\"house_val\":329280,\"gender\":\"M\",\"age\":\"4_<=45\",\"online\":\"Y\",\"customer_psy\":\"D\",\"marriage\":\"Single\",\"child\":\"N\",\"occupation\":\"Professional\",\"mortgage\":\"1Low\",\"house_owner\":\"Owner\",\"region\":\"South\",\"car_prob\":\"3\",\"fam_income\":\"E\"})"
   ]
  }
 ],
 "metadata": {
  "colab": {
   "collapsed_sections": [],
   "name": "Copy of Predictive Lead Scoring Notebook.ipynb",
   "provenance": [],
   "toc_visible": true
  },
  "interpreter": {
   "hash": "31f2aee4e71d21fbe5cf8b01ff0e069b9275f58929596ceb00d14d90e3e16cd6"
  },
  "kernelspec": {
   "display_name": "Python 3.8.10 64-bit",
   "name": "python3"
  },
  "language_info": {
   "codemirror_mode": {
    "name": "ipython",
    "version": 3
   },
   "file_extension": ".py",
   "mimetype": "text/x-python",
   "name": "python",
   "nbconvert_exporter": "python",
   "pygments_lexer": "ipython3",
   "version": "3.8.10"
  }
 },
 "nbformat": 4,
 "nbformat_minor": 1
}
