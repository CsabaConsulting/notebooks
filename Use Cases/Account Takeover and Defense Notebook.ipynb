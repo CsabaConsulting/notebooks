{
  "cells": [
    {
      "cell_type": "markdown",
      "metadata": {
        "id": "6V3mweyQAnzQ"
      },
      "source": [
        "## How-to guide for Account Takeover and Defense use-case on Abacus.AI platform\n",
        "This notebook provides you with a hands on environment to build an account takeover detection & protection model using the Abacus.AI Python Client Library.\n",
        "\n",
        "We'll be using the [Insider Threat Test Dataset](https://s3.amazonaws.com/realityengines.exampledatasets/accounttakeover/kdd_500k.csv), which contains information about attacks on certain accounts."
      ]
    },
    {
      "cell_type": "markdown",
      "metadata": {
        "id": "kjGhV4G8r63z"
      },
      "source": [
        "1. Install the Abacus.AI library."
      ]
    },
    {
      "cell_type": "code",
      "execution_count": null,
      "metadata": {
        "colab": {
          "base_uri": "https://localhost:8080/"
        },
        "id": "unN6VHSxeQYZ",
        "outputId": "479252d7-a413-4bcd-80ff-acb75d22504e"
      },
      "outputs": [],
      "source": [
        "!pip install abacusai"
      ]
    },
    {
      "cell_type": "markdown",
      "metadata": {
        "id": "b0xycfYsr-Rp"
      },
      "source": [
        "We'll also import pandas and pprint tools for neat visualization in this notebook:"
      ]
    },
    {
      "cell_type": "code",
      "execution_count": null,
      "metadata": {
        "id": "_lsHl6DveEyW"
      },
      "outputs": [],
      "source": [
        "import pandas as pd # A tool we'll use to download and preview CSV files\n",
        "import pprint # A tool to pretty print dictionary outputs\n",
        "pp = pprint.PrettyPrinter(indent=2)"
      ]
    },
    {
      "cell_type": "markdown",
      "metadata": {
        "id": "fXoFDsjCsA91"
      },
      "source": [
        "2. Add your Abacus.AI [API Key](https://abacus.ai/app/profile/apikey) generated using the API dashboard as follows:"
      ]
    },
    {
      "cell_type": "code",
      "execution_count": null,
      "metadata": {
        "id": "HthXlkc6eXwZ"
      },
      "outputs": [],
      "source": [
        "#@title Abacus.AI API Key\n",
        "\n",
        "api_key = ''  #@param {type: \"string\"}"
      ]
    },
    {
      "cell_type": "markdown",
      "metadata": {
        "id": "McfjHWtAsD_r"
      },
      "source": [
        "3. Import the Abacus.AI library and instantiate a client."
      ]
    },
    {
      "cell_type": "code",
      "execution_count": null,
      "metadata": {
        "id": "YuY1cKA7eaJk"
      },
      "outputs": [],
      "source": [
        "from abacusai import ApiClient\n",
        "client = ApiClient(api_key)"
      ]
    },
    {
      "cell_type": "markdown",
      "metadata": {
        "id": "hLgRc_HUsGAa"
      },
      "source": [
        "## 1. Create a Project\n",
        "\n",
        "Abacus.AI projects are containers that have datasets and trained models. By specifying a business **Use Case**, Abacus.AI tailors the deep learning algorithms to produce the best performing model catered specifically for your data.\n",
        "\n",
        "We'll call the `list_use_cases` method to retrieve a list of the Use Cases currently available on the Abacus.AI platform."
      ]
    },
    {
      "cell_type": "code",
      "execution_count": null,
      "metadata": {
        "colab": {
          "base_uri": "https://localhost:8080/"
        },
        "id": "_9X39nGaem8A",
        "outputId": "2a5d87d2-76b8-47f2-a7d5-18b1535c6d7a"
      },
      "outputs": [],
      "source": [
        "client.list_use_cases()"
      ]
    },
    {
      "cell_type": "markdown",
      "metadata": {
        "id": "HKxZ7fHisI-d"
      },
      "source": [
        "In this notebook, we're going to create an account takeover prediction model using the Insider Threat Test dataset. The 'FRAUD_ACCOUNT' use case is best tailored for this situation."
      ]
    },
    {
      "cell_type": "code",
      "execution_count": null,
      "metadata": {
        "id": "Nn3XmH9ZepMl"
      },
      "outputs": [],
      "source": [
        "#@title Abacus.AI Use Case\n",
        "\n",
        "use_case = 'FRAUD_ACCOUNT'  #@param {type: \"string\"}"
      ]
    },
    {
      "cell_type": "markdown",
      "metadata": {
        "id": "wIrrTAkxsRLs"
      },
      "source": [
        "By calling the `describe_use_case_requirements` method we can view what datasets are required for this use_case."
      ]
    },
    {
      "cell_type": "code",
      "execution_count": null,
      "metadata": {
        "colab": {
          "base_uri": "https://localhost:8080/"
        },
        "id": "SVKTCwV1evKo",
        "outputId": "6ea5d634-6b42-464f-e215-d8098103f109"
      },
      "outputs": [],
      "source": [
        "for requirement in client.describe_use_case_requirements(use_case):\n",
        "  pp.pprint(requirement.to_dict())"
      ]
    },
    {
      "cell_type": "markdown",
      "metadata": {
        "id": "8rgeGVYfsTLI"
      },
      "source": [
        "Finally, let's create the project."
      ]
    },
    {
      "cell_type": "code",
      "execution_count": null,
      "metadata": {
        "colab": {
          "base_uri": "https://localhost:8080/"
        },
        "id": "TaPE1237e4s9",
        "outputId": "9ccb47cf-b99f-40f5-dbf8-c56b0847f6ef"
      },
      "outputs": [],
      "source": [
        "takeover_project = client.create_project(name='Insider Threat Detection', use_case=use_case)\n",
        "takeover_project.to_dict()"
      ]
    },
    {
      "cell_type": "markdown",
      "metadata": {
        "id": "1lNa_PbcekQz"
      },
      "source": [
        "**Note: When feature_groups_enabled is True then the use case supports feature groups (collection of ML features). Feature groups are created at the organization level and can be tied to a project to further use it for training ML models**"
      ]
    },
    {
      "cell_type": "markdown",
      "metadata": {
        "id": "pjRguClqsVE2"
      },
      "source": [
        "## 2. Add Datasets to your Project\n",
        "\n",
        "Abacus.AI can read datasets directly from `AWS S3` or `Google Cloud Storage` buckets, otherwise you can also directly upload and store your datasets with Abacus.AI. For this workshop, we will have Abacus.AI read the datasets directly from a public S3 bucket's location.\n",
        "\n",
        "We are using one dataset for this notebook. We'll tell Abacus.AI how the dataset should be used when creating it by tagging the dataset with a special Abacus.AI **Dataset Type**.\n",
        "- [Insider Threat Test Dataset](https://s3.amazonaws.com/realityengines.exampledatasets/fraud_transactions/creditcard.csv) (**ACTIVITY_LOG**): \n",
        "This dataset contains information about account takeovers that occurred for specified accounts & what class of takeover happened."
      ]
    },
    {
      "cell_type": "markdown",
      "metadata": {
        "id": "GyQSVdZJzEcY"
      },
      "source": [
        "### Add the dataset to Abacus.AI\n",
        "\n",
        "First we'll use Pandas to preview the file, then add it to Abacus.AI."
      ]
    },
    {
      "cell_type": "code",
      "execution_count": null,
      "metadata": {
        "colab": {
          "base_uri": "https://localhost:8080/",
          "height": 424
        },
        "id": "9VihWz0QnvLs",
        "outputId": "48be9522-7258-439d-b6e6-328f1b9a298b"
      },
      "outputs": [],
      "source": [
        "pd.read_csv('https://s3.amazonaws.com/realityengines.exampledatasets/accounttakeover/kdd_500k.csv')"
      ]
    },
    {
      "cell_type": "markdown",
      "metadata": {
        "id": "ccJKwLzezHI2"
      },
      "source": [
        "Using the Create Dataset API, we can tell Abacus.AI the public S3 URI of where to find the datasets. We will also give each dataset a Refresh Schedule, which tells Abacus.AI when it should refresh the dataset (take an updated/latest copy of the dataset).\n",
        "\n",
        "If you're unfamiliar with Cron Syntax, Crontab Guru can help translate the syntax back into natural language: [https://crontab.guru/#0_12_\\*_\\*_\\*](https://crontab.guru/#0_12_*_*_*)\n",
        "\n",
        "**Note: This cron string will be evaluated in UTC time zone**"
      ]
    },
    {
      "cell_type": "code",
      "execution_count": null,
      "metadata": {
        "id": "6q26xG9IpwU5"
      },
      "outputs": [],
      "source": [
        "takeover_dataset = client.create_dataset_from_file_connector(name='Insider Threat Testing Data',\n",
        "                                                              table_name='Insider Threat Testing Data ',\n",
        "                                     location='s3://realityengines.exampledatasets/accounttakeover/kdd_500k.csv',\n",
        "                                     refresh_schedule='0 12 * * *')\n",
        "datasets = [takeover_dataset]\n",
        "\n",
        "for dataset in datasets:\n",
        "    dataset.wait_for_inspection()"
      ]
    },
    {
      "cell_type": "markdown",
      "metadata": {
        "id": "qGL56bCwe5hB"
      },
      "source": [
        "## 3. Create Feature Groups and add them to your Project\n",
        "\n",
        "Datasets are created at the organization level and can be used to create feature groups as follows:"
      ]
    },
    {
      "cell_type": "code",
      "execution_count": null,
      "metadata": {
        "id": "1T-PsSKYeaCa"
      },
      "outputs": [],
      "source": [
        "feature_group = client.create_feature_group(table_name='test_account_takeover_and_defense',sql='SELECT * FROM Insider_Threat_Test_Data')"
      ]
    },
    {
      "cell_type": "markdown",
      "metadata": {
        "id": "YahQ9l6sfIGp"
      },
      "source": [
        "Adding Feature Group to the project:"
      ]
    },
    {
      "cell_type": "code",
      "execution_count": null,
      "metadata": {
        "id": "gbZ3358BewZb"
      },
      "outputs": [],
      "source": [
        "client.add_feature_group_to_project(feature_group_id=feature_group.feature_group_id,project_id = takeover_project.project_id)"
      ]
    },
    {
      "cell_type": "markdown",
      "metadata": {
        "id": "zdEHOLDdfbgn"
      },
      "source": [
        "Setting the Feature Group type according to the use case requirements:"
      ]
    },
    {
      "cell_type": "code",
      "execution_count": null,
      "metadata": {
        "id": "8AlwweuZfPsw"
      },
      "outputs": [],
      "source": [
        "client.set_feature_group_type(feature_group_id=feature_group, project_id = takeover_project, feature_group_type= \"USER_TABLE\")"
      ]
    },
    {
      "cell_type": "markdown",
      "metadata": {
        "id": "HGEi0tzofevm"
      },
      "source": [
        "Check current Feature Group schema:"
      ]
    },
    {
      "cell_type": "code",
      "execution_count": null,
      "metadata": {
        "colab": {
          "base_uri": "https://localhost:8080/"
        },
        "id": "zHQ01lrgfgTi",
        "outputId": "2784dc97-a552-4676-9895-226bfb969373"
      },
      "outputs": [],
      "source": [
        "client.get_feature_group_schema(feature_group_id=feature_group.feature_group_id)"
      ]
    },
    {
      "cell_type": "markdown",
      "metadata": {
        "id": "bgaEvsDizL9q"
      },
      "source": [
        "#### For each **Use Case**, there are special **Column Mappings** that must be applied to a column to fulfill use case requirements. We can find the list of available **Column Mappings** by calling the *Describe Use Case Requirements* API:"
      ]
    },
    {
      "cell_type": "code",
      "execution_count": null,
      "metadata": {
        "colab": {
          "base_uri": "https://localhost:8080/"
        },
        "id": "FHLRpfyoh1U_",
        "outputId": "a3636d6f-c3a4-455c-e770-5ec24f6e30a8"
      },
      "outputs": [],
      "source": [
        "client.describe_use_case_requirements(use_case)[0].allowed_feature_mappings"
      ]
    },
    {
      "cell_type": "code",
      "execution_count": null,
      "metadata": {
        "colab": {
          "base_uri": "https://localhost:8080/"
        },
        "id": "gJPKO0gtfrHq",
        "outputId": "2108152b-5c11-40f5-9006-b93b2ab9adf0"
      },
      "outputs": [],
      "source": [
        "client.set_feature_mapping(project_id = takeover_project.project_id,feature_group_id= feature_group.feature_group_id, feature_name='account_id', feature_mapping='ACCOUNT_ID')\n",
        "client.set_feature_mapping(project_id = takeover_project.project_id,feature_group_id= feature_group.feature_group_id, feature_name='class', feature_mapping='FRAUD_YN')"
      ]
    },
    {
      "cell_type": "markdown",
      "metadata": {
        "id": "edf5cxc5obH6"
      },
      "source": [
        "Now that we've our feature groups assigned, we're almost ready to train a model!\n",
        "\n",
        "To be sure that our project is ready to go, let's call project.validate to confirm that all the project requirements have been met:"
      ]
    },
    {
      "cell_type": "code",
      "execution_count": null,
      "metadata": {},
      "outputs": [],
      "source": [
        "takeover_project.validate(feature_group_ids=[feature_group.feature_group_id])"
      ]
    },
    {
      "cell_type": "markdown",
      "metadata": {
        "id": "Weal2YKWzVRz"
      },
      "source": [
        "## 4. Train a Model"
      ]
    },
    {
      "cell_type": "markdown",
      "metadata": {
        "id": "YzMk9i4_zavZ"
      },
      "source": [
        "For each **Use Case**, Abacus.AI has a bunch of options for training. We can call the *Get Training Config Options* API to see the available options."
      ]
    },
    {
      "cell_type": "code",
      "execution_count": null,
      "metadata": {
        "colab": {
          "base_uri": "https://localhost:8080/"
        },
        "id": "-Gi6SdBFiUee",
        "outputId": "2af007c4-90c5-4c53-962c-50fb3c833120"
      },
      "outputs": [],
      "source": [
        "takeover_project.get_training_config_options( feature_group_ids=[feature_group.feature_group_id])"
      ]
    },
    {
      "cell_type": "markdown",
      "metadata": {
        "id": "qizwBbKezc9v"
      },
      "source": [
        "In this notebook, we'll just train with the default options, but definitely feel free to experiment, especially if you have familiarity with Machine Learning."
      ]
    },
    {
      "cell_type": "code",
      "execution_count": null,
      "metadata": {
        "colab": {
          "base_uri": "https://localhost:8080/"
        },
        "id": "RVzPeDoDiZuo",
        "outputId": "d07041a4-df47-4cee-865a-9ea073bdfb58"
      },
      "outputs": [],
      "source": [
        "takeover_model = takeover_project.train_model(training_config={}, feature_group_ids=[feature_group.feature_group_id])\n",
        "takeover_model.to_dict()"
      ]
    },
    {
      "cell_type": "markdown",
      "metadata": {
        "id": "jfMuQLk1zfMU"
      },
      "source": [
        "After we start training the model, we can call this blocking call that routinely checks the status of the model until it is trained and evaluated."
      ]
    },
    {
      "cell_type": "code",
      "execution_count": null,
      "metadata": {},
      "outputs": [],
      "source": [
        "takeover_model.wait_for_full_automl()"
      ]
    },
    {
      "cell_type": "markdown",
      "metadata": {
        "id": "TZorFvHgotPZ"
      },
      "source": [
        "**Note that model training might take some minutes to some hours depending upon the size of datasets, complexity of the models being trained and a variety of other factors**"
      ]
    },
    {
      "cell_type": "markdown",
      "metadata": {
        "id": "Q7g7ioj9zhZ5"
      },
      "source": [
        "## **Checkpoint** [Optional]\n",
        "As model training can take an hours to complete, your page could time out or you might end up hitting the refresh button, this section helps you restore your progress:"
      ]
    },
    {
      "cell_type": "code",
      "execution_count": null,
      "metadata": {
        "id": "YHQ31iwQzjnl"
      },
      "outputs": [],
      "source": [
        "!pip install abacusai\n",
        "import pandas as pd\n",
        "import pprint\n",
        "pp = pprint.PrettyPrinter(indent=2)\n",
        "api_key = ''  #@param {type: \"string\"}\n",
        "from abacusai import ApiClient\n",
        "client = ApiClient(api_key)\n",
        "takeover_project = next(project for project in client.list_projects() if project.name == 'Insider Threat Detection')\n",
        "takeover_model = takeover_project.list_models()[-1]\n",
        "takeover_model.wait_for_evaluation()"
      ]
    },
    {
      "cell_type": "markdown",
      "metadata": {
        "id": "2Obo-CNs0j0m"
      },
      "source": [
        "## Evaluate your Model Metrics\n",
        "\n",
        "After your model is done training you can inspect the model's quality by reviewing the model's metrics."
      ]
    },
    {
      "cell_type": "code",
      "execution_count": null,
      "metadata": {
        "id": "4X5FiJoojSxY"
      },
      "outputs": [],
      "source": [
        "pp.pprint(takeover_model.get_metrics().to_dict())"
      ]
    },
    {
      "cell_type": "markdown",
      "metadata": {
        "id": "UJAMhAC30moz"
      },
      "source": [
        "To get a better understanding on what these metrics mean, visit our [documentation](https://abacus.ai/app/help/useCases/FRAUD_TRANSACTIONS/training) page."
      ]
    },
    {
      "cell_type": "markdown",
      "metadata": {
        "id": "2JzuNiha0vFr"
      },
      "source": [
        "## 5. Deploy Model"
      ]
    },
    {
      "cell_type": "markdown",
      "metadata": {
        "id": "mJArkkjk0yuC"
      },
      "source": [
        "After the model has been trained, we need to create a deployment token for authenticating prediction requests. This token is only authorized to predict on deployments in this project, so it's safe to embed this token inside of a user-facing application or website."
      ]
    },
    {
      "cell_type": "code",
      "execution_count": null,
      "metadata": {
        "id": "1gMT6K82jU6e"
      },
      "outputs": [],
      "source": [
        "deployment_token = takeover_project.create_deployment_token().deployment_token\n",
        "deployment_token"
      ]
    },
    {
      "cell_type": "markdown",
      "metadata": {
        "id": "Mj3Ts5ow0wVU"
      },
      "source": [
        "Now we need to deploy the model to be able to start making predictions. Deploying a model will reserve cloud resources to host the model for Realtime and/or batch predictions."
      ]
    },
    {
      "cell_type": "code",
      "execution_count": null,
      "metadata": {
        "id": "pmrPSJfDclJU"
      },
      "outputs": [],
      "source": [
        "takeover_deployment=client.create_deployment(model_id=takeover_model.model_id,name='Insider Threat Deployment',description='Insider Threat Deployment', calls_per_second=3)\n",
        "takeover_deployment.wait_for_deployment()"
      ]
    },
    {
      "cell_type": "markdown",
      "metadata": {
        "id": "A4eTdwCc01qW"
      },
      "source": [
        "## 6. Predict\n"
      ]
    },
    {
      "cell_type": "markdown",
      "metadata": {
        "id": "9JU8ECg503mO"
      },
      "source": [
        "Now that you have an active deployment and a deployment token to authenticate requests, you can make the `predict_takeover` API call below.\n",
        "\n",
        "This command will return the probability of a transaction being of each class of fraud. The prediction will be performed based on previously recorded frauds and the characteristics of the account that committed/didn't commit a fraud."
      ]
    },
    {
      "cell_type": "code",
      "execution_count": null,
      "metadata": {
        "id": "6cxjafqKjWGJ"
      },
      "outputs": [],
      "source": [
        "ApiClient().predict_takeover(deployment_token=deployment_token, \n",
        "               deployment_id=takeover_deployment.deployment_id, \n",
        "               query_data={\"duration\":0,\"num_failed_logins\":1,\"num_file_creations\":0,\"num_access_files\":1,\"logged_in\":\"0\",\"is_host_login\":\"0\",\"is_guest_login\":\"0\"})"
      ]
    }
  ],
  "metadata": {
    "colab": {
      "collapsed_sections": [],
      "name": "Copy of Account Takeover and Defense Notebook.ipynb",
      "provenance": [],
      "toc_visible": true
    },
    "kernelspec": {
      "display_name": "Python 3.10.4 ('AI')",
      "language": "python",
      "name": "python3"
    },
    "language_info": {
      "codemirror_mode": {
        "name": "ipython",
        "version": 3
      },
      "file_extension": ".py",
      "mimetype": "text/x-python",
      "name": "python",
      "nbconvert_exporter": "python",
      "pygments_lexer": "ipython3",
      "version": "3.10.4"
    },
    "vscode": {
      "interpreter": {
        "hash": "4a444a4e97a0365a8a152d6b3286685b7a3c540a2b13f4d560bd58f028f75a5f"
      }
    }
  },
  "nbformat": 4,
  "nbformat_minor": 0
}
